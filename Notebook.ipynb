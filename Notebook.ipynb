{
 "cells": [
  {
   "cell_type": "markdown",
   "id": "72b325f6-743d-451c-87b4-4eba1d92f9ba",
   "metadata": {},
   "source": [
    "Proyek Analisis Data: E-Commerce Public Dataset\n",
    "\n",
    "- Nama  : Indi Bagus Prasetyo\n",
    "- Email : endang.saefulloh@gmail.com\n",
    "- ID Dicoding : indibagusprasetyo"
   ]
  },
  {
   "cell_type": "markdown",
   "id": "ee0edc8d-294c-4bbd-902a-42bdefa50e2d",
   "metadata": {},
   "source": [
    "Menentukan Pertanyaan Bisnis\n",
    "\n",
    "1. Produk apa yang paling sering dipesan oleh pelanggan, dan bagaimana distribusi penjualan berdasarkan kategorinya?\n",
    "2. Apakah ada pola keterlambatan tertentu berdasarkan lokasi geografis atau kategori produk?"
   ]
  },
  {
   "cell_type": "raw",
   "id": "25821939-c604-46ae-b9a7-be0f0e04d29b",
   "metadata": {},
   "source": [
    "MENGIMPOR LIBRARY YANG DIBUTUHKAN SEBELUM MENGANALISIS DATA"
   ]
  },
  {
   "cell_type": "code",
   "execution_count": 2,
   "id": "65c35552-9475-491e-9b34-f2c5afcce3fa",
   "metadata": {},
   "outputs": [],
   "source": [
    "import numpy as np\n",
    "import pandas as pd\n",
    "import matplotlib.pyplot as plt\n",
    "import seaborn as sns"
   ]
  },
  {
   "cell_type": "markdown",
   "id": "000c7e51-669d-4c85-8760-d2d94a4d109c",
   "metadata": {},
   "source": [
    "Data Wrangling"
   ]
  },
  {
   "cell_type": "markdown",
   "id": "49d8b0b8-d5b2-416c-bb64-92563e85ef70",
   "metadata": {},
   "source": [
    "MELIHAT CUPLIKAN DATA YANG AKAN DIGUNAKAN UNTUK ANALISIS\n",
    "\n",
    "Dataset :\n",
    "1. Customers\n",
    "2. Geo\n",
    "3. Orderitems\n",
    "4. Orderpays\n",
    "5. Orderreviews\n",
    "6. Orders\n",
    "7. Products\n",
    "8. Producttranslate (Digunakan untuk melihat nama barang dari b.ing\n",
    "9. Sellers"
   ]
  },
  {
   "cell_type": "code",
   "execution_count": 4,
   "id": "1780963b-baf0-4932-8d0c-0d9380b5ab2a",
   "metadata": {
    "panel-layout": {
     "height": 212.9091033935547,
     "visible": true,
     "width": 100
    }
   },
   "outputs": [
    {
     "data": {
      "text/html": [
       "<div>\n",
       "<style scoped>\n",
       "    .dataframe tbody tr th:only-of-type {\n",
       "        vertical-align: middle;\n",
       "    }\n",
       "\n",
       "    .dataframe tbody tr th {\n",
       "        vertical-align: top;\n",
       "    }\n",
       "\n",
       "    .dataframe thead th {\n",
       "        text-align: right;\n",
       "    }\n",
       "</style>\n",
       "<table border=\"1\" class=\"dataframe\">\n",
       "  <thead>\n",
       "    <tr style=\"text-align: right;\">\n",
       "      <th></th>\n",
       "      <th>customer_id</th>\n",
       "      <th>customer_unique_id</th>\n",
       "      <th>customer_zip_code_prefix</th>\n",
       "      <th>customer_city</th>\n",
       "      <th>customer_state</th>\n",
       "    </tr>\n",
       "  </thead>\n",
       "  <tbody>\n",
       "    <tr>\n",
       "      <th>0</th>\n",
       "      <td>06b8999e2fba1a1fbc88172c00ba8bc7</td>\n",
       "      <td>861eff4711a542e4b93843c6dd7febb0</td>\n",
       "      <td>14409</td>\n",
       "      <td>franca</td>\n",
       "      <td>SP</td>\n",
       "    </tr>\n",
       "    <tr>\n",
       "      <th>1</th>\n",
       "      <td>18955e83d337fd6b2def6b18a428ac77</td>\n",
       "      <td>290c77bc529b7ac935b93aa66c333dc3</td>\n",
       "      <td>9790</td>\n",
       "      <td>sao bernardo do campo</td>\n",
       "      <td>SP</td>\n",
       "    </tr>\n",
       "    <tr>\n",
       "      <th>2</th>\n",
       "      <td>4e7b3e00288586ebd08712fdd0374a03</td>\n",
       "      <td>060e732b5b29e8181a18229c7b0b2b5e</td>\n",
       "      <td>1151</td>\n",
       "      <td>sao paulo</td>\n",
       "      <td>SP</td>\n",
       "    </tr>\n",
       "    <tr>\n",
       "      <th>3</th>\n",
       "      <td>b2b6027bc5c5109e529d4dc6358b12c3</td>\n",
       "      <td>259dac757896d24d7702b9acbbff3f3c</td>\n",
       "      <td>8775</td>\n",
       "      <td>mogi das cruzes</td>\n",
       "      <td>SP</td>\n",
       "    </tr>\n",
       "    <tr>\n",
       "      <th>4</th>\n",
       "      <td>4f2d8ab171c80ec8364f7c12e35b23ad</td>\n",
       "      <td>345ecd01c38d18a9036ed96c73b8d066</td>\n",
       "      <td>13056</td>\n",
       "      <td>campinas</td>\n",
       "      <td>SP</td>\n",
       "    </tr>\n",
       "  </tbody>\n",
       "</table>\n",
       "</div>"
      ],
      "text/plain": [
       "                        customer_id                customer_unique_id  \\\n",
       "0  06b8999e2fba1a1fbc88172c00ba8bc7  861eff4711a542e4b93843c6dd7febb0   \n",
       "1  18955e83d337fd6b2def6b18a428ac77  290c77bc529b7ac935b93aa66c333dc3   \n",
       "2  4e7b3e00288586ebd08712fdd0374a03  060e732b5b29e8181a18229c7b0b2b5e   \n",
       "3  b2b6027bc5c5109e529d4dc6358b12c3  259dac757896d24d7702b9acbbff3f3c   \n",
       "4  4f2d8ab171c80ec8364f7c12e35b23ad  345ecd01c38d18a9036ed96c73b8d066   \n",
       "\n",
       "   customer_zip_code_prefix          customer_city customer_state  \n",
       "0                     14409                 franca             SP  \n",
       "1                      9790  sao bernardo do campo             SP  \n",
       "2                      1151              sao paulo             SP  \n",
       "3                      8775        mogi das cruzes             SP  \n",
       "4                     13056               campinas             SP  "
      ]
     },
     "execution_count": 4,
     "metadata": {},
     "output_type": "execute_result"
    }
   ],
   "source": [
    "customers_df = pd.read_csv(\"data/customers.csv\")\n",
    "customers_df.head()"
   ]
  },
  {
   "cell_type": "code",
   "execution_count": 5,
   "id": "1279d40f-0fd8-497d-9a42-a73129702b84",
   "metadata": {
    "panel-layout": {
     "height": 170,
     "visible": true,
     "width": 100
    }
   },
   "outputs": [
    {
     "data": {
      "text/html": [
       "<div>\n",
       "<style scoped>\n",
       "    .dataframe tbody tr th:only-of-type {\n",
       "        vertical-align: middle;\n",
       "    }\n",
       "\n",
       "    .dataframe tbody tr th {\n",
       "        vertical-align: top;\n",
       "    }\n",
       "\n",
       "    .dataframe thead th {\n",
       "        text-align: right;\n",
       "    }\n",
       "</style>\n",
       "<table border=\"1\" class=\"dataframe\">\n",
       "  <thead>\n",
       "    <tr style=\"text-align: right;\">\n",
       "      <th></th>\n",
       "      <th>geolocation_zip_code_prefix</th>\n",
       "      <th>geolocation_lat</th>\n",
       "      <th>geolocation_lng</th>\n",
       "      <th>geolocation_city</th>\n",
       "      <th>geolocation_state</th>\n",
       "    </tr>\n",
       "  </thead>\n",
       "  <tbody>\n",
       "    <tr>\n",
       "      <th>0</th>\n",
       "      <td>1037</td>\n",
       "      <td>-23.545621</td>\n",
       "      <td>-46.639292</td>\n",
       "      <td>sao paulo</td>\n",
       "      <td>SP</td>\n",
       "    </tr>\n",
       "    <tr>\n",
       "      <th>1</th>\n",
       "      <td>1046</td>\n",
       "      <td>-23.546081</td>\n",
       "      <td>-46.644820</td>\n",
       "      <td>sao paulo</td>\n",
       "      <td>SP</td>\n",
       "    </tr>\n",
       "    <tr>\n",
       "      <th>2</th>\n",
       "      <td>1046</td>\n",
       "      <td>-23.546129</td>\n",
       "      <td>-46.642951</td>\n",
       "      <td>sao paulo</td>\n",
       "      <td>SP</td>\n",
       "    </tr>\n",
       "    <tr>\n",
       "      <th>3</th>\n",
       "      <td>1041</td>\n",
       "      <td>-23.544392</td>\n",
       "      <td>-46.639499</td>\n",
       "      <td>sao paulo</td>\n",
       "      <td>SP</td>\n",
       "    </tr>\n",
       "    <tr>\n",
       "      <th>4</th>\n",
       "      <td>1035</td>\n",
       "      <td>-23.541578</td>\n",
       "      <td>-46.641607</td>\n",
       "      <td>sao paulo</td>\n",
       "      <td>SP</td>\n",
       "    </tr>\n",
       "  </tbody>\n",
       "</table>\n",
       "</div>"
      ],
      "text/plain": [
       "   geolocation_zip_code_prefix  geolocation_lat  geolocation_lng  \\\n",
       "0                         1037       -23.545621       -46.639292   \n",
       "1                         1046       -23.546081       -46.644820   \n",
       "2                         1046       -23.546129       -46.642951   \n",
       "3                         1041       -23.544392       -46.639499   \n",
       "4                         1035       -23.541578       -46.641607   \n",
       "\n",
       "  geolocation_city geolocation_state  \n",
       "0        sao paulo                SP  \n",
       "1        sao paulo                SP  \n",
       "2        sao paulo                SP  \n",
       "3        sao paulo                SP  \n",
       "4        sao paulo                SP  "
      ]
     },
     "execution_count": 5,
     "metadata": {},
     "output_type": "execute_result"
    }
   ],
   "source": [
    "geo_df = pd.read_csv(\"data/geo.csv\")\n",
    "geo_df.head()"
   ]
  },
  {
   "cell_type": "code",
   "execution_count": 6,
   "id": "48c4d57f-60fc-4ce9-b2fe-3958c373dc62",
   "metadata": {
    "panel-layout": {
     "height": 256.54547119140625,
     "visible": true,
     "width": 100
    }
   },
   "outputs": [
    {
     "data": {
      "text/html": [
       "<div>\n",
       "<style scoped>\n",
       "    .dataframe tbody tr th:only-of-type {\n",
       "        vertical-align: middle;\n",
       "    }\n",
       "\n",
       "    .dataframe tbody tr th {\n",
       "        vertical-align: top;\n",
       "    }\n",
       "\n",
       "    .dataframe thead th {\n",
       "        text-align: right;\n",
       "    }\n",
       "</style>\n",
       "<table border=\"1\" class=\"dataframe\">\n",
       "  <thead>\n",
       "    <tr style=\"text-align: right;\">\n",
       "      <th></th>\n",
       "      <th>order_id</th>\n",
       "      <th>order_item_id</th>\n",
       "      <th>product_id</th>\n",
       "      <th>seller_id</th>\n",
       "      <th>shipping_limit_date</th>\n",
       "      <th>price</th>\n",
       "      <th>freight_value</th>\n",
       "    </tr>\n",
       "  </thead>\n",
       "  <tbody>\n",
       "    <tr>\n",
       "      <th>0</th>\n",
       "      <td>00010242fe8c5a6d1ba2dd792cb16214</td>\n",
       "      <td>1</td>\n",
       "      <td>4244733e06e7ecb4970a6e2683c13e61</td>\n",
       "      <td>48436dade18ac8b2bce089ec2a041202</td>\n",
       "      <td>2017-09-19 09:45:35</td>\n",
       "      <td>58.90</td>\n",
       "      <td>13.29</td>\n",
       "    </tr>\n",
       "    <tr>\n",
       "      <th>1</th>\n",
       "      <td>00018f77f2f0320c557190d7a144bdd3</td>\n",
       "      <td>1</td>\n",
       "      <td>e5f2d52b802189ee658865ca93d83a8f</td>\n",
       "      <td>dd7ddc04e1b6c2c614352b383efe2d36</td>\n",
       "      <td>2017-05-03 11:05:13</td>\n",
       "      <td>239.90</td>\n",
       "      <td>19.93</td>\n",
       "    </tr>\n",
       "    <tr>\n",
       "      <th>2</th>\n",
       "      <td>000229ec398224ef6ca0657da4fc703e</td>\n",
       "      <td>1</td>\n",
       "      <td>c777355d18b72b67abbeef9df44fd0fd</td>\n",
       "      <td>5b51032eddd242adc84c38acab88f23d</td>\n",
       "      <td>2018-01-18 14:48:30</td>\n",
       "      <td>199.00</td>\n",
       "      <td>17.87</td>\n",
       "    </tr>\n",
       "    <tr>\n",
       "      <th>3</th>\n",
       "      <td>00024acbcdf0a6daa1e931b038114c75</td>\n",
       "      <td>1</td>\n",
       "      <td>7634da152a4610f1595efa32f14722fc</td>\n",
       "      <td>9d7a1d34a5052409006425275ba1c2b4</td>\n",
       "      <td>2018-08-15 10:10:18</td>\n",
       "      <td>12.99</td>\n",
       "      <td>12.79</td>\n",
       "    </tr>\n",
       "    <tr>\n",
       "      <th>4</th>\n",
       "      <td>00042b26cf59d7ce69dfabb4e55b4fd9</td>\n",
       "      <td>1</td>\n",
       "      <td>ac6c3623068f30de03045865e4e10089</td>\n",
       "      <td>df560393f3a51e74553ab94004ba5c87</td>\n",
       "      <td>2017-02-13 13:57:51</td>\n",
       "      <td>199.90</td>\n",
       "      <td>18.14</td>\n",
       "    </tr>\n",
       "  </tbody>\n",
       "</table>\n",
       "</div>"
      ],
      "text/plain": [
       "                           order_id  order_item_id  \\\n",
       "0  00010242fe8c5a6d1ba2dd792cb16214              1   \n",
       "1  00018f77f2f0320c557190d7a144bdd3              1   \n",
       "2  000229ec398224ef6ca0657da4fc703e              1   \n",
       "3  00024acbcdf0a6daa1e931b038114c75              1   \n",
       "4  00042b26cf59d7ce69dfabb4e55b4fd9              1   \n",
       "\n",
       "                         product_id                         seller_id  \\\n",
       "0  4244733e06e7ecb4970a6e2683c13e61  48436dade18ac8b2bce089ec2a041202   \n",
       "1  e5f2d52b802189ee658865ca93d83a8f  dd7ddc04e1b6c2c614352b383efe2d36   \n",
       "2  c777355d18b72b67abbeef9df44fd0fd  5b51032eddd242adc84c38acab88f23d   \n",
       "3  7634da152a4610f1595efa32f14722fc  9d7a1d34a5052409006425275ba1c2b4   \n",
       "4  ac6c3623068f30de03045865e4e10089  df560393f3a51e74553ab94004ba5c87   \n",
       "\n",
       "   shipping_limit_date   price  freight_value  \n",
       "0  2017-09-19 09:45:35   58.90          13.29  \n",
       "1  2017-05-03 11:05:13  239.90          19.93  \n",
       "2  2018-01-18 14:48:30  199.00          17.87  \n",
       "3  2018-08-15 10:10:18   12.99          12.79  \n",
       "4  2017-02-13 13:57:51  199.90          18.14  "
      ]
     },
     "execution_count": 6,
     "metadata": {},
     "output_type": "execute_result"
    }
   ],
   "source": [
    "orderitems_df = pd.read_csv(\"data/orderitems.csv\")\n",
    "orderitems_df.head()"
   ]
  },
  {
   "cell_type": "code",
   "execution_count": 7,
   "id": "bf3e5c65-c8f7-4156-afd3-309264b58d7c",
   "metadata": {
    "panel-layout": {
     "height": 183.8181915283203,
     "visible": true,
     "width": 100
    }
   },
   "outputs": [
    {
     "data": {
      "text/html": [
       "<div>\n",
       "<style scoped>\n",
       "    .dataframe tbody tr th:only-of-type {\n",
       "        vertical-align: middle;\n",
       "    }\n",
       "\n",
       "    .dataframe tbody tr th {\n",
       "        vertical-align: top;\n",
       "    }\n",
       "\n",
       "    .dataframe thead th {\n",
       "        text-align: right;\n",
       "    }\n",
       "</style>\n",
       "<table border=\"1\" class=\"dataframe\">\n",
       "  <thead>\n",
       "    <tr style=\"text-align: right;\">\n",
       "      <th></th>\n",
       "      <th>order_id</th>\n",
       "      <th>payment_sequential</th>\n",
       "      <th>payment_type</th>\n",
       "      <th>payment_installments</th>\n",
       "      <th>payment_value</th>\n",
       "    </tr>\n",
       "  </thead>\n",
       "  <tbody>\n",
       "    <tr>\n",
       "      <th>0</th>\n",
       "      <td>b81ef226f3fe1789b1e8b2acac839d17</td>\n",
       "      <td>1</td>\n",
       "      <td>credit_card</td>\n",
       "      <td>8</td>\n",
       "      <td>99.33</td>\n",
       "    </tr>\n",
       "    <tr>\n",
       "      <th>1</th>\n",
       "      <td>a9810da82917af2d9aefd1278f1dcfa0</td>\n",
       "      <td>1</td>\n",
       "      <td>credit_card</td>\n",
       "      <td>1</td>\n",
       "      <td>24.39</td>\n",
       "    </tr>\n",
       "    <tr>\n",
       "      <th>2</th>\n",
       "      <td>25e8ea4e93396b6fa0d3dd708e76c1bd</td>\n",
       "      <td>1</td>\n",
       "      <td>credit_card</td>\n",
       "      <td>1</td>\n",
       "      <td>65.71</td>\n",
       "    </tr>\n",
       "    <tr>\n",
       "      <th>3</th>\n",
       "      <td>ba78997921bbcdc1373bb41e913ab953</td>\n",
       "      <td>1</td>\n",
       "      <td>credit_card</td>\n",
       "      <td>8</td>\n",
       "      <td>107.78</td>\n",
       "    </tr>\n",
       "    <tr>\n",
       "      <th>4</th>\n",
       "      <td>42fdf880ba16b47b59251dd489d4441a</td>\n",
       "      <td>1</td>\n",
       "      <td>credit_card</td>\n",
       "      <td>2</td>\n",
       "      <td>128.45</td>\n",
       "    </tr>\n",
       "  </tbody>\n",
       "</table>\n",
       "</div>"
      ],
      "text/plain": [
       "                           order_id  payment_sequential payment_type  \\\n",
       "0  b81ef226f3fe1789b1e8b2acac839d17                   1  credit_card   \n",
       "1  a9810da82917af2d9aefd1278f1dcfa0                   1  credit_card   \n",
       "2  25e8ea4e93396b6fa0d3dd708e76c1bd                   1  credit_card   \n",
       "3  ba78997921bbcdc1373bb41e913ab953                   1  credit_card   \n",
       "4  42fdf880ba16b47b59251dd489d4441a                   1  credit_card   \n",
       "\n",
       "   payment_installments  payment_value  \n",
       "0                     8          99.33  \n",
       "1                     1          24.39  \n",
       "2                     1          65.71  \n",
       "3                     8         107.78  \n",
       "4                     2         128.45  "
      ]
     },
     "execution_count": 7,
     "metadata": {},
     "output_type": "execute_result"
    }
   ],
   "source": [
    "orderpays_df = pd.read_csv(\"data/orderpays.csv\")\n",
    "orderpays_df.head()"
   ]
  },
  {
   "cell_type": "code",
   "execution_count": 8,
   "id": "32d66fd7-264b-494a-81b9-6c7a9eaf4b8e",
   "metadata": {
    "panel-layout": {
     "height": 300.18182373046875,
     "visible": true,
     "width": 100
    }
   },
   "outputs": [
    {
     "data": {
      "text/html": [
       "<div>\n",
       "<style scoped>\n",
       "    .dataframe tbody tr th:only-of-type {\n",
       "        vertical-align: middle;\n",
       "    }\n",
       "\n",
       "    .dataframe tbody tr th {\n",
       "        vertical-align: top;\n",
       "    }\n",
       "\n",
       "    .dataframe thead th {\n",
       "        text-align: right;\n",
       "    }\n",
       "</style>\n",
       "<table border=\"1\" class=\"dataframe\">\n",
       "  <thead>\n",
       "    <tr style=\"text-align: right;\">\n",
       "      <th></th>\n",
       "      <th>review_id</th>\n",
       "      <th>order_id</th>\n",
       "      <th>review_score</th>\n",
       "      <th>review_comment_title</th>\n",
       "      <th>review_comment_message</th>\n",
       "      <th>review_creation_date</th>\n",
       "      <th>review_answer_timestamp</th>\n",
       "    </tr>\n",
       "  </thead>\n",
       "  <tbody>\n",
       "    <tr>\n",
       "      <th>0</th>\n",
       "      <td>7bc2406110b926393aa56f80a40eba40</td>\n",
       "      <td>73fc7af87114b39712e6da79b0a377eb</td>\n",
       "      <td>4</td>\n",
       "      <td>NaN</td>\n",
       "      <td>NaN</td>\n",
       "      <td>2018-01-18 00:00:00</td>\n",
       "      <td>2018-01-18 21:46:59</td>\n",
       "    </tr>\n",
       "    <tr>\n",
       "      <th>1</th>\n",
       "      <td>80e641a11e56f04c1ad469d5645fdfde</td>\n",
       "      <td>a548910a1c6147796b98fdf73dbeba33</td>\n",
       "      <td>5</td>\n",
       "      <td>NaN</td>\n",
       "      <td>NaN</td>\n",
       "      <td>2018-03-10 00:00:00</td>\n",
       "      <td>2018-03-11 03:05:13</td>\n",
       "    </tr>\n",
       "    <tr>\n",
       "      <th>2</th>\n",
       "      <td>228ce5500dc1d8e020d8d1322874b6f0</td>\n",
       "      <td>f9e4b658b201a9f2ecdecbb34bed034b</td>\n",
       "      <td>5</td>\n",
       "      <td>NaN</td>\n",
       "      <td>NaN</td>\n",
       "      <td>2018-02-17 00:00:00</td>\n",
       "      <td>2018-02-18 14:36:24</td>\n",
       "    </tr>\n",
       "    <tr>\n",
       "      <th>3</th>\n",
       "      <td>e64fb393e7b32834bb789ff8bb30750e</td>\n",
       "      <td>658677c97b385a9be170737859d3511b</td>\n",
       "      <td>5</td>\n",
       "      <td>NaN</td>\n",
       "      <td>Recebi bem antes do prazo estipulado.</td>\n",
       "      <td>2017-04-21 00:00:00</td>\n",
       "      <td>2017-04-21 22:02:06</td>\n",
       "    </tr>\n",
       "    <tr>\n",
       "      <th>4</th>\n",
       "      <td>f7c4243c7fe1938f181bec41a392bdeb</td>\n",
       "      <td>8e6bfb81e283fa7e4f11123a3fb894f1</td>\n",
       "      <td>5</td>\n",
       "      <td>NaN</td>\n",
       "      <td>Parabéns lojas lannister adorei comprar pela I...</td>\n",
       "      <td>2018-03-01 00:00:00</td>\n",
       "      <td>2018-03-02 10:26:53</td>\n",
       "    </tr>\n",
       "  </tbody>\n",
       "</table>\n",
       "</div>"
      ],
      "text/plain": [
       "                          review_id                          order_id  \\\n",
       "0  7bc2406110b926393aa56f80a40eba40  73fc7af87114b39712e6da79b0a377eb   \n",
       "1  80e641a11e56f04c1ad469d5645fdfde  a548910a1c6147796b98fdf73dbeba33   \n",
       "2  228ce5500dc1d8e020d8d1322874b6f0  f9e4b658b201a9f2ecdecbb34bed034b   \n",
       "3  e64fb393e7b32834bb789ff8bb30750e  658677c97b385a9be170737859d3511b   \n",
       "4  f7c4243c7fe1938f181bec41a392bdeb  8e6bfb81e283fa7e4f11123a3fb894f1   \n",
       "\n",
       "   review_score review_comment_title  \\\n",
       "0             4                  NaN   \n",
       "1             5                  NaN   \n",
       "2             5                  NaN   \n",
       "3             5                  NaN   \n",
       "4             5                  NaN   \n",
       "\n",
       "                              review_comment_message review_creation_date  \\\n",
       "0                                                NaN  2018-01-18 00:00:00   \n",
       "1                                                NaN  2018-03-10 00:00:00   \n",
       "2                                                NaN  2018-02-17 00:00:00   \n",
       "3              Recebi bem antes do prazo estipulado.  2017-04-21 00:00:00   \n",
       "4  Parabéns lojas lannister adorei comprar pela I...  2018-03-01 00:00:00   \n",
       "\n",
       "  review_answer_timestamp  \n",
       "0     2018-01-18 21:46:59  \n",
       "1     2018-03-11 03:05:13  \n",
       "2     2018-02-18 14:36:24  \n",
       "3     2017-04-21 22:02:06  \n",
       "4     2018-03-02 10:26:53  "
      ]
     },
     "execution_count": 8,
     "metadata": {},
     "output_type": "execute_result"
    }
   ],
   "source": [
    "orderreviews_df = pd.read_csv(\"data/orderreviews.csv\")\n",
    "orderreviews_df.head()"
   ]
  },
  {
   "cell_type": "code",
   "execution_count": 9,
   "id": "50878e1e-2496-4425-bc28-ae462edda0ff",
   "metadata": {
    "panel-layout": {
     "height": 256.54547119140625,
     "visible": true,
     "width": 100
    }
   },
   "outputs": [
    {
     "data": {
      "text/html": [
       "<div>\n",
       "<style scoped>\n",
       "    .dataframe tbody tr th:only-of-type {\n",
       "        vertical-align: middle;\n",
       "    }\n",
       "\n",
       "    .dataframe tbody tr th {\n",
       "        vertical-align: top;\n",
       "    }\n",
       "\n",
       "    .dataframe thead th {\n",
       "        text-align: right;\n",
       "    }\n",
       "</style>\n",
       "<table border=\"1\" class=\"dataframe\">\n",
       "  <thead>\n",
       "    <tr style=\"text-align: right;\">\n",
       "      <th></th>\n",
       "      <th>order_id</th>\n",
       "      <th>customer_id</th>\n",
       "      <th>order_status</th>\n",
       "      <th>order_purchase_timestamp</th>\n",
       "      <th>order_approved_at</th>\n",
       "      <th>order_delivered_carrier_date</th>\n",
       "      <th>order_delivered_customer_date</th>\n",
       "      <th>order_estimated_delivery_date</th>\n",
       "    </tr>\n",
       "  </thead>\n",
       "  <tbody>\n",
       "    <tr>\n",
       "      <th>0</th>\n",
       "      <td>e481f51cbdc54678b7cc49136f2d6af7</td>\n",
       "      <td>9ef432eb6251297304e76186b10a928d</td>\n",
       "      <td>delivered</td>\n",
       "      <td>2017-10-02 10:56:33</td>\n",
       "      <td>2017-10-02 11:07:15</td>\n",
       "      <td>2017-10-04 19:55:00</td>\n",
       "      <td>2017-10-10 21:25:13</td>\n",
       "      <td>2017-10-18 00:00:00</td>\n",
       "    </tr>\n",
       "    <tr>\n",
       "      <th>1</th>\n",
       "      <td>53cdb2fc8bc7dce0b6741e2150273451</td>\n",
       "      <td>b0830fb4747a6c6d20dea0b8c802d7ef</td>\n",
       "      <td>delivered</td>\n",
       "      <td>2018-07-24 20:41:37</td>\n",
       "      <td>2018-07-26 03:24:27</td>\n",
       "      <td>2018-07-26 14:31:00</td>\n",
       "      <td>2018-08-07 15:27:45</td>\n",
       "      <td>2018-08-13 00:00:00</td>\n",
       "    </tr>\n",
       "    <tr>\n",
       "      <th>2</th>\n",
       "      <td>47770eb9100c2d0c44946d9cf07ec65d</td>\n",
       "      <td>41ce2a54c0b03bf3443c3d931a367089</td>\n",
       "      <td>delivered</td>\n",
       "      <td>2018-08-08 08:38:49</td>\n",
       "      <td>2018-08-08 08:55:23</td>\n",
       "      <td>2018-08-08 13:50:00</td>\n",
       "      <td>2018-08-17 18:06:29</td>\n",
       "      <td>2018-09-04 00:00:00</td>\n",
       "    </tr>\n",
       "    <tr>\n",
       "      <th>3</th>\n",
       "      <td>949d5b44dbf5de918fe9c16f97b45f8a</td>\n",
       "      <td>f88197465ea7920adcdbec7375364d82</td>\n",
       "      <td>delivered</td>\n",
       "      <td>2017-11-18 19:28:06</td>\n",
       "      <td>2017-11-18 19:45:59</td>\n",
       "      <td>2017-11-22 13:39:59</td>\n",
       "      <td>2017-12-02 00:28:42</td>\n",
       "      <td>2017-12-15 00:00:00</td>\n",
       "    </tr>\n",
       "    <tr>\n",
       "      <th>4</th>\n",
       "      <td>ad21c59c0840e6cb83a9ceb5573f8159</td>\n",
       "      <td>8ab97904e6daea8866dbdbc4fb7aad2c</td>\n",
       "      <td>delivered</td>\n",
       "      <td>2018-02-13 21:18:39</td>\n",
       "      <td>2018-02-13 22:20:29</td>\n",
       "      <td>2018-02-14 19:46:34</td>\n",
       "      <td>2018-02-16 18:17:02</td>\n",
       "      <td>2018-02-26 00:00:00</td>\n",
       "    </tr>\n",
       "  </tbody>\n",
       "</table>\n",
       "</div>"
      ],
      "text/plain": [
       "                           order_id                       customer_id  \\\n",
       "0  e481f51cbdc54678b7cc49136f2d6af7  9ef432eb6251297304e76186b10a928d   \n",
       "1  53cdb2fc8bc7dce0b6741e2150273451  b0830fb4747a6c6d20dea0b8c802d7ef   \n",
       "2  47770eb9100c2d0c44946d9cf07ec65d  41ce2a54c0b03bf3443c3d931a367089   \n",
       "3  949d5b44dbf5de918fe9c16f97b45f8a  f88197465ea7920adcdbec7375364d82   \n",
       "4  ad21c59c0840e6cb83a9ceb5573f8159  8ab97904e6daea8866dbdbc4fb7aad2c   \n",
       "\n",
       "  order_status order_purchase_timestamp    order_approved_at  \\\n",
       "0    delivered      2017-10-02 10:56:33  2017-10-02 11:07:15   \n",
       "1    delivered      2018-07-24 20:41:37  2018-07-26 03:24:27   \n",
       "2    delivered      2018-08-08 08:38:49  2018-08-08 08:55:23   \n",
       "3    delivered      2017-11-18 19:28:06  2017-11-18 19:45:59   \n",
       "4    delivered      2018-02-13 21:18:39  2018-02-13 22:20:29   \n",
       "\n",
       "  order_delivered_carrier_date order_delivered_customer_date  \\\n",
       "0          2017-10-04 19:55:00           2017-10-10 21:25:13   \n",
       "1          2018-07-26 14:31:00           2018-08-07 15:27:45   \n",
       "2          2018-08-08 13:50:00           2018-08-17 18:06:29   \n",
       "3          2017-11-22 13:39:59           2017-12-02 00:28:42   \n",
       "4          2018-02-14 19:46:34           2018-02-16 18:17:02   \n",
       "\n",
       "  order_estimated_delivery_date  \n",
       "0           2017-10-18 00:00:00  \n",
       "1           2018-08-13 00:00:00  \n",
       "2           2018-09-04 00:00:00  \n",
       "3           2017-12-15 00:00:00  \n",
       "4           2018-02-26 00:00:00  "
      ]
     },
     "execution_count": 9,
     "metadata": {},
     "output_type": "execute_result"
    }
   ],
   "source": [
    "orders_df = pd.read_csv(\"data/orders.csv\")\n",
    "orders_df.head()"
   ]
  },
  {
   "cell_type": "code",
   "execution_count": 10,
   "id": "7dde13f5-36b9-4f4c-afd3-44a45fc28555",
   "metadata": {
    "panel-layout": {
     "height": 170,
     "visible": true,
     "width": 100
    }
   },
   "outputs": [
    {
     "data": {
      "text/html": [
       "<div>\n",
       "<style scoped>\n",
       "    .dataframe tbody tr th:only-of-type {\n",
       "        vertical-align: middle;\n",
       "    }\n",
       "\n",
       "    .dataframe tbody tr th {\n",
       "        vertical-align: top;\n",
       "    }\n",
       "\n",
       "    .dataframe thead th {\n",
       "        text-align: right;\n",
       "    }\n",
       "</style>\n",
       "<table border=\"1\" class=\"dataframe\">\n",
       "  <thead>\n",
       "    <tr style=\"text-align: right;\">\n",
       "      <th></th>\n",
       "      <th>product_category_name</th>\n",
       "      <th>product_category_name_english</th>\n",
       "    </tr>\n",
       "  </thead>\n",
       "  <tbody>\n",
       "    <tr>\n",
       "      <th>0</th>\n",
       "      <td>beleza_saude</td>\n",
       "      <td>health_beauty</td>\n",
       "    </tr>\n",
       "    <tr>\n",
       "      <th>1</th>\n",
       "      <td>informatica_acessorios</td>\n",
       "      <td>computers_accessories</td>\n",
       "    </tr>\n",
       "    <tr>\n",
       "      <th>2</th>\n",
       "      <td>automotivo</td>\n",
       "      <td>auto</td>\n",
       "    </tr>\n",
       "    <tr>\n",
       "      <th>3</th>\n",
       "      <td>cama_mesa_banho</td>\n",
       "      <td>bed_bath_table</td>\n",
       "    </tr>\n",
       "    <tr>\n",
       "      <th>4</th>\n",
       "      <td>moveis_decoracao</td>\n",
       "      <td>furniture_decor</td>\n",
       "    </tr>\n",
       "  </tbody>\n",
       "</table>\n",
       "</div>"
      ],
      "text/plain": [
       "    product_category_name product_category_name_english\n",
       "0            beleza_saude                 health_beauty\n",
       "1  informatica_acessorios         computers_accessories\n",
       "2              automotivo                          auto\n",
       "3         cama_mesa_banho                bed_bath_table\n",
       "4        moveis_decoracao               furniture_decor"
      ]
     },
     "execution_count": 10,
     "metadata": {},
     "output_type": "execute_result"
    }
   ],
   "source": [
    "producttranslate_df = pd.read_csv(\"data/producttranslate.csv\")\n",
    "producttranslate_df.head()"
   ]
  },
  {
   "cell_type": "code",
   "execution_count": 11,
   "id": "97dac647-b23d-4405-bda5-517d7704f83a",
   "metadata": {
    "panel-layout": {
     "height": 183.8181915283203,
     "visible": true,
     "width": 100
    }
   },
   "outputs": [
    {
     "data": {
      "text/html": [
       "<div>\n",
       "<style scoped>\n",
       "    .dataframe tbody tr th:only-of-type {\n",
       "        vertical-align: middle;\n",
       "    }\n",
       "\n",
       "    .dataframe tbody tr th {\n",
       "        vertical-align: top;\n",
       "    }\n",
       "\n",
       "    .dataframe thead th {\n",
       "        text-align: right;\n",
       "    }\n",
       "</style>\n",
       "<table border=\"1\" class=\"dataframe\">\n",
       "  <thead>\n",
       "    <tr style=\"text-align: right;\">\n",
       "      <th></th>\n",
       "      <th>product_id</th>\n",
       "      <th>product_category_name</th>\n",
       "      <th>product_name_lenght</th>\n",
       "      <th>product_description_lenght</th>\n",
       "      <th>product_photos_qty</th>\n",
       "      <th>product_weight_g</th>\n",
       "      <th>product_length_cm</th>\n",
       "      <th>product_height_cm</th>\n",
       "      <th>product_width_cm</th>\n",
       "    </tr>\n",
       "  </thead>\n",
       "  <tbody>\n",
       "    <tr>\n",
       "      <th>0</th>\n",
       "      <td>1e9e8ef04dbcff4541ed26657ea517e5</td>\n",
       "      <td>perfumaria</td>\n",
       "      <td>40.0</td>\n",
       "      <td>287.0</td>\n",
       "      <td>1.0</td>\n",
       "      <td>225.0</td>\n",
       "      <td>16.0</td>\n",
       "      <td>10.0</td>\n",
       "      <td>14.0</td>\n",
       "    </tr>\n",
       "    <tr>\n",
       "      <th>1</th>\n",
       "      <td>3aa071139cb16b67ca9e5dea641aaa2f</td>\n",
       "      <td>artes</td>\n",
       "      <td>44.0</td>\n",
       "      <td>276.0</td>\n",
       "      <td>1.0</td>\n",
       "      <td>1000.0</td>\n",
       "      <td>30.0</td>\n",
       "      <td>18.0</td>\n",
       "      <td>20.0</td>\n",
       "    </tr>\n",
       "    <tr>\n",
       "      <th>2</th>\n",
       "      <td>96bd76ec8810374ed1b65e291975717f</td>\n",
       "      <td>esporte_lazer</td>\n",
       "      <td>46.0</td>\n",
       "      <td>250.0</td>\n",
       "      <td>1.0</td>\n",
       "      <td>154.0</td>\n",
       "      <td>18.0</td>\n",
       "      <td>9.0</td>\n",
       "      <td>15.0</td>\n",
       "    </tr>\n",
       "    <tr>\n",
       "      <th>3</th>\n",
       "      <td>cef67bcfe19066a932b7673e239eb23d</td>\n",
       "      <td>bebes</td>\n",
       "      <td>27.0</td>\n",
       "      <td>261.0</td>\n",
       "      <td>1.0</td>\n",
       "      <td>371.0</td>\n",
       "      <td>26.0</td>\n",
       "      <td>4.0</td>\n",
       "      <td>26.0</td>\n",
       "    </tr>\n",
       "    <tr>\n",
       "      <th>4</th>\n",
       "      <td>9dc1a7de274444849c219cff195d0b71</td>\n",
       "      <td>utilidades_domesticas</td>\n",
       "      <td>37.0</td>\n",
       "      <td>402.0</td>\n",
       "      <td>4.0</td>\n",
       "      <td>625.0</td>\n",
       "      <td>20.0</td>\n",
       "      <td>17.0</td>\n",
       "      <td>13.0</td>\n",
       "    </tr>\n",
       "  </tbody>\n",
       "</table>\n",
       "</div>"
      ],
      "text/plain": [
       "                         product_id  product_category_name  \\\n",
       "0  1e9e8ef04dbcff4541ed26657ea517e5             perfumaria   \n",
       "1  3aa071139cb16b67ca9e5dea641aaa2f                  artes   \n",
       "2  96bd76ec8810374ed1b65e291975717f          esporte_lazer   \n",
       "3  cef67bcfe19066a932b7673e239eb23d                  bebes   \n",
       "4  9dc1a7de274444849c219cff195d0b71  utilidades_domesticas   \n",
       "\n",
       "   product_name_lenght  product_description_lenght  product_photos_qty  \\\n",
       "0                 40.0                       287.0                 1.0   \n",
       "1                 44.0                       276.0                 1.0   \n",
       "2                 46.0                       250.0                 1.0   \n",
       "3                 27.0                       261.0                 1.0   \n",
       "4                 37.0                       402.0                 4.0   \n",
       "\n",
       "   product_weight_g  product_length_cm  product_height_cm  product_width_cm  \n",
       "0             225.0               16.0               10.0              14.0  \n",
       "1            1000.0               30.0               18.0              20.0  \n",
       "2             154.0               18.0                9.0              15.0  \n",
       "3             371.0               26.0                4.0              26.0  \n",
       "4             625.0               20.0               17.0              13.0  "
      ]
     },
     "execution_count": 11,
     "metadata": {},
     "output_type": "execute_result"
    }
   ],
   "source": [
    "products_df = pd.read_csv(\"data/products.csv\")\n",
    "products_df.head()"
   ]
  },
  {
   "cell_type": "code",
   "execution_count": 12,
   "id": "2025b40c-1d6b-4169-9242-67c42d8f5e36",
   "metadata": {
    "panel-layout": {
     "height": 170,
     "visible": true,
     "width": 100
    }
   },
   "outputs": [
    {
     "data": {
      "text/html": [
       "<div>\n",
       "<style scoped>\n",
       "    .dataframe tbody tr th:only-of-type {\n",
       "        vertical-align: middle;\n",
       "    }\n",
       "\n",
       "    .dataframe tbody tr th {\n",
       "        vertical-align: top;\n",
       "    }\n",
       "\n",
       "    .dataframe thead th {\n",
       "        text-align: right;\n",
       "    }\n",
       "</style>\n",
       "<table border=\"1\" class=\"dataframe\">\n",
       "  <thead>\n",
       "    <tr style=\"text-align: right;\">\n",
       "      <th></th>\n",
       "      <th>seller_id</th>\n",
       "      <th>seller_zip_code_prefix</th>\n",
       "      <th>seller_city</th>\n",
       "      <th>seller_state</th>\n",
       "    </tr>\n",
       "  </thead>\n",
       "  <tbody>\n",
       "    <tr>\n",
       "      <th>0</th>\n",
       "      <td>3442f8959a84dea7ee197c632cb2df15</td>\n",
       "      <td>13023</td>\n",
       "      <td>campinas</td>\n",
       "      <td>SP</td>\n",
       "    </tr>\n",
       "    <tr>\n",
       "      <th>1</th>\n",
       "      <td>d1b65fc7debc3361ea86b5f14c68d2e2</td>\n",
       "      <td>13844</td>\n",
       "      <td>mogi guacu</td>\n",
       "      <td>SP</td>\n",
       "    </tr>\n",
       "    <tr>\n",
       "      <th>2</th>\n",
       "      <td>ce3ad9de960102d0677a81f5d0bb7b2d</td>\n",
       "      <td>20031</td>\n",
       "      <td>rio de janeiro</td>\n",
       "      <td>RJ</td>\n",
       "    </tr>\n",
       "    <tr>\n",
       "      <th>3</th>\n",
       "      <td>c0f3eea2e14555b6faeea3dd58c1b1c3</td>\n",
       "      <td>4195</td>\n",
       "      <td>sao paulo</td>\n",
       "      <td>SP</td>\n",
       "    </tr>\n",
       "    <tr>\n",
       "      <th>4</th>\n",
       "      <td>51a04a8a6bdcb23deccc82b0b80742cf</td>\n",
       "      <td>12914</td>\n",
       "      <td>braganca paulista</td>\n",
       "      <td>SP</td>\n",
       "    </tr>\n",
       "  </tbody>\n",
       "</table>\n",
       "</div>"
      ],
      "text/plain": [
       "                          seller_id  seller_zip_code_prefix  \\\n",
       "0  3442f8959a84dea7ee197c632cb2df15                   13023   \n",
       "1  d1b65fc7debc3361ea86b5f14c68d2e2                   13844   \n",
       "2  ce3ad9de960102d0677a81f5d0bb7b2d                   20031   \n",
       "3  c0f3eea2e14555b6faeea3dd58c1b1c3                    4195   \n",
       "4  51a04a8a6bdcb23deccc82b0b80742cf                   12914   \n",
       "\n",
       "         seller_city seller_state  \n",
       "0           campinas           SP  \n",
       "1         mogi guacu           SP  \n",
       "2     rio de janeiro           RJ  \n",
       "3          sao paulo           SP  \n",
       "4  braganca paulista           SP  "
      ]
     },
     "execution_count": 12,
     "metadata": {},
     "output_type": "execute_result"
    }
   ],
   "source": [
    "sellers_df = pd.read_csv(\"data/sellers.csv\")\n",
    "sellers_df.head()"
   ]
  },
  {
   "cell_type": "markdown",
   "id": "f9645247-1d3b-4c34-a7d6-2be0221ad54a",
   "metadata": {
    "panel-layout": {
     "height": 51.1363639831543,
     "visible": true,
     "width": 100
    }
   },
   "source": [
    "ANALISA DATA / MEMAHAMI DATA CUSTOMERS"
   ]
  },
  {
   "cell_type": "code",
   "execution_count": 13,
   "id": "9b8ba760-c77d-4458-a05d-455221e73e73",
   "metadata": {
    "panel-layout": {
     "height": 212.9091033935547,
     "visible": true,
     "width": 100
    }
   },
   "outputs": [
    {
     "data": {
      "text/html": [
       "<div>\n",
       "<style scoped>\n",
       "    .dataframe tbody tr th:only-of-type {\n",
       "        vertical-align: middle;\n",
       "    }\n",
       "\n",
       "    .dataframe tbody tr th {\n",
       "        vertical-align: top;\n",
       "    }\n",
       "\n",
       "    .dataframe thead th {\n",
       "        text-align: right;\n",
       "    }\n",
       "</style>\n",
       "<table border=\"1\" class=\"dataframe\">\n",
       "  <thead>\n",
       "    <tr style=\"text-align: right;\">\n",
       "      <th></th>\n",
       "      <th>customer_id</th>\n",
       "      <th>customer_unique_id</th>\n",
       "      <th>customer_zip_code_prefix</th>\n",
       "      <th>customer_city</th>\n",
       "      <th>customer_state</th>\n",
       "    </tr>\n",
       "  </thead>\n",
       "  <tbody>\n",
       "    <tr>\n",
       "      <th>0</th>\n",
       "      <td>06b8999e2fba1a1fbc88172c00ba8bc7</td>\n",
       "      <td>861eff4711a542e4b93843c6dd7febb0</td>\n",
       "      <td>14409</td>\n",
       "      <td>franca</td>\n",
       "      <td>SP</td>\n",
       "    </tr>\n",
       "    <tr>\n",
       "      <th>1</th>\n",
       "      <td>18955e83d337fd6b2def6b18a428ac77</td>\n",
       "      <td>290c77bc529b7ac935b93aa66c333dc3</td>\n",
       "      <td>9790</td>\n",
       "      <td>sao bernardo do campo</td>\n",
       "      <td>SP</td>\n",
       "    </tr>\n",
       "    <tr>\n",
       "      <th>2</th>\n",
       "      <td>4e7b3e00288586ebd08712fdd0374a03</td>\n",
       "      <td>060e732b5b29e8181a18229c7b0b2b5e</td>\n",
       "      <td>1151</td>\n",
       "      <td>sao paulo</td>\n",
       "      <td>SP</td>\n",
       "    </tr>\n",
       "    <tr>\n",
       "      <th>3</th>\n",
       "      <td>b2b6027bc5c5109e529d4dc6358b12c3</td>\n",
       "      <td>259dac757896d24d7702b9acbbff3f3c</td>\n",
       "      <td>8775</td>\n",
       "      <td>mogi das cruzes</td>\n",
       "      <td>SP</td>\n",
       "    </tr>\n",
       "    <tr>\n",
       "      <th>4</th>\n",
       "      <td>4f2d8ab171c80ec8364f7c12e35b23ad</td>\n",
       "      <td>345ecd01c38d18a9036ed96c73b8d066</td>\n",
       "      <td>13056</td>\n",
       "      <td>campinas</td>\n",
       "      <td>SP</td>\n",
       "    </tr>\n",
       "  </tbody>\n",
       "</table>\n",
       "</div>"
      ],
      "text/plain": [
       "                        customer_id                customer_unique_id  \\\n",
       "0  06b8999e2fba1a1fbc88172c00ba8bc7  861eff4711a542e4b93843c6dd7febb0   \n",
       "1  18955e83d337fd6b2def6b18a428ac77  290c77bc529b7ac935b93aa66c333dc3   \n",
       "2  4e7b3e00288586ebd08712fdd0374a03  060e732b5b29e8181a18229c7b0b2b5e   \n",
       "3  b2b6027bc5c5109e529d4dc6358b12c3  259dac757896d24d7702b9acbbff3f3c   \n",
       "4  4f2d8ab171c80ec8364f7c12e35b23ad  345ecd01c38d18a9036ed96c73b8d066   \n",
       "\n",
       "   customer_zip_code_prefix          customer_city customer_state  \n",
       "0                     14409                 franca             SP  \n",
       "1                      9790  sao bernardo do campo             SP  \n",
       "2                      1151              sao paulo             SP  \n",
       "3                      8775        mogi das cruzes             SP  \n",
       "4                     13056               campinas             SP  "
      ]
     },
     "execution_count": 13,
     "metadata": {},
     "output_type": "execute_result"
    }
   ],
   "source": [
    "customers_df = pd.read_csv(\"data/customers.csv\") # Memanggil Code Sebelumnya\n",
    "customers_df.head()"
   ]
  },
  {
   "cell_type": "code",
   "execution_count": 14,
   "id": "9f6141c3-e28d-40f4-9a74-4647099bb604",
   "metadata": {
    "panel-layout": {
     "height": 0,
     "visible": true,
     "width": 100
    }
   },
   "outputs": [
    {
     "name": "stdout",
     "output_type": "stream",
     "text": [
      "<class 'pandas.core.frame.DataFrame'>\n",
      "RangeIndex: 99441 entries, 0 to 99440\n",
      "Data columns (total 5 columns):\n",
      " #   Column                    Non-Null Count  Dtype \n",
      "---  ------                    --------------  ----- \n",
      " 0   customer_id               99441 non-null  object\n",
      " 1   customer_unique_id        99441 non-null  object\n",
      " 2   customer_zip_code_prefix  99441 non-null  int64 \n",
      " 3   customer_city             99441 non-null  object\n",
      " 4   customer_state            99441 non-null  object\n",
      "dtypes: int64(1), object(4)\n",
      "memory usage: 3.8+ MB\n"
     ]
    }
   ],
   "source": [
    "customers_df.info()"
   ]
  },
  {
   "cell_type": "code",
   "execution_count": 15,
   "id": "5c930714-b67d-4a0a-b750-0e09ff228074",
   "metadata": {
    "panel-layout": {
     "height": 170,
     "visible": true,
     "width": 100
    }
   },
   "outputs": [
    {
     "data": {
      "text/plain": [
       "customer_id                 0\n",
       "customer_unique_id          0\n",
       "customer_zip_code_prefix    0\n",
       "customer_city               0\n",
       "customer_state              0\n",
       "dtype: int64"
      ]
     },
     "execution_count": 15,
     "metadata": {},
     "output_type": "execute_result"
    }
   ],
   "source": [
    "customers_df.isna().sum()"
   ]
  },
  {
   "cell_type": "code",
   "execution_count": 16,
   "id": "d7d16dbb-1d3d-4de6-af9c-9cababc9f742",
   "metadata": {
    "panel-layout": {
     "height": 0,
     "visible": true,
     "width": 100
    }
   },
   "outputs": [
    {
     "name": "stdout",
     "output_type": "stream",
     "text": [
      "Duplikasi:  0\n"
     ]
    }
   ],
   "source": [
    "print(\"Duplikasi: \", customers_df.duplicated().sum())"
   ]
  },
  {
   "cell_type": "markdown",
   "id": "b531e1ea-6f20-48dc-8a3c-127eae14dba6",
   "metadata": {
    "panel-layout": {
     "height": 195.09091186523438,
     "visible": true,
     "width": 100
    }
   },
   "source": [
    "Deskripsi : Dataset customers.csv tidak memiliki Missing Value dan duplikasi data serta menunjukan tipedata sudah sesuai. Memiliki 1 Fitur bertipe data Integer dan 4 tipe data Object (String) dengan total 99.441 baris.\n",
    "\n",
    "Fitur :\n",
    "1. customer_id (Nilai id Pelanggan)\n",
    "2. customer_unique_id (Nilai id unik Pelanggan)\n",
    "3. customer_zip_code_prefix (Nilai Kode Pos)\n",
    "4. customer_city (Nilai Nama Kota)\n",
    "5. customer_state (Nilai Nama Negara bagian)"
   ]
  },
  {
   "cell_type": "markdown",
   "id": "b42cfc89-8b95-4fa3-8225-e45e7a096645",
   "metadata": {},
   "source": [
    "ANALISA DATA / MEMAHAMI DATA GEOLOGIS"
   ]
  },
  {
   "cell_type": "code",
   "execution_count": 17,
   "id": "0911f205-17e6-4d6a-aecb-25052f6cb4d5",
   "metadata": {
    "panel-layout": {
     "height": 170,
     "visible": true,
     "width": 100
    }
   },
   "outputs": [
    {
     "data": {
      "text/html": [
       "<div>\n",
       "<style scoped>\n",
       "    .dataframe tbody tr th:only-of-type {\n",
       "        vertical-align: middle;\n",
       "    }\n",
       "\n",
       "    .dataframe tbody tr th {\n",
       "        vertical-align: top;\n",
       "    }\n",
       "\n",
       "    .dataframe thead th {\n",
       "        text-align: right;\n",
       "    }\n",
       "</style>\n",
       "<table border=\"1\" class=\"dataframe\">\n",
       "  <thead>\n",
       "    <tr style=\"text-align: right;\">\n",
       "      <th></th>\n",
       "      <th>geolocation_zip_code_prefix</th>\n",
       "      <th>geolocation_lat</th>\n",
       "      <th>geolocation_lng</th>\n",
       "      <th>geolocation_city</th>\n",
       "      <th>geolocation_state</th>\n",
       "    </tr>\n",
       "  </thead>\n",
       "  <tbody>\n",
       "    <tr>\n",
       "      <th>0</th>\n",
       "      <td>1037</td>\n",
       "      <td>-23.545621</td>\n",
       "      <td>-46.639292</td>\n",
       "      <td>sao paulo</td>\n",
       "      <td>SP</td>\n",
       "    </tr>\n",
       "    <tr>\n",
       "      <th>1</th>\n",
       "      <td>1046</td>\n",
       "      <td>-23.546081</td>\n",
       "      <td>-46.644820</td>\n",
       "      <td>sao paulo</td>\n",
       "      <td>SP</td>\n",
       "    </tr>\n",
       "    <tr>\n",
       "      <th>2</th>\n",
       "      <td>1046</td>\n",
       "      <td>-23.546129</td>\n",
       "      <td>-46.642951</td>\n",
       "      <td>sao paulo</td>\n",
       "      <td>SP</td>\n",
       "    </tr>\n",
       "    <tr>\n",
       "      <th>3</th>\n",
       "      <td>1041</td>\n",
       "      <td>-23.544392</td>\n",
       "      <td>-46.639499</td>\n",
       "      <td>sao paulo</td>\n",
       "      <td>SP</td>\n",
       "    </tr>\n",
       "    <tr>\n",
       "      <th>4</th>\n",
       "      <td>1035</td>\n",
       "      <td>-23.541578</td>\n",
       "      <td>-46.641607</td>\n",
       "      <td>sao paulo</td>\n",
       "      <td>SP</td>\n",
       "    </tr>\n",
       "  </tbody>\n",
       "</table>\n",
       "</div>"
      ],
      "text/plain": [
       "   geolocation_zip_code_prefix  geolocation_lat  geolocation_lng  \\\n",
       "0                         1037       -23.545621       -46.639292   \n",
       "1                         1046       -23.546081       -46.644820   \n",
       "2                         1046       -23.546129       -46.642951   \n",
       "3                         1041       -23.544392       -46.639499   \n",
       "4                         1035       -23.541578       -46.641607   \n",
       "\n",
       "  geolocation_city geolocation_state  \n",
       "0        sao paulo                SP  \n",
       "1        sao paulo                SP  \n",
       "2        sao paulo                SP  \n",
       "3        sao paulo                SP  \n",
       "4        sao paulo                SP  "
      ]
     },
     "execution_count": 17,
     "metadata": {},
     "output_type": "execute_result"
    }
   ],
   "source": [
    "geo_df = pd.read_csv(\"data/geo.csv\") # Memanggil Code Sebelumnya\n",
    "geo_df.head()"
   ]
  },
  {
   "cell_type": "code",
   "execution_count": 18,
   "id": "686630cf-959b-4344-8383-c78c352a5299",
   "metadata": {
    "panel-layout": {
     "height": 0,
     "visible": true,
     "width": 100
    }
   },
   "outputs": [
    {
     "name": "stdout",
     "output_type": "stream",
     "text": [
      "<class 'pandas.core.frame.DataFrame'>\n",
      "RangeIndex: 1000163 entries, 0 to 1000162\n",
      "Data columns (total 5 columns):\n",
      " #   Column                       Non-Null Count    Dtype  \n",
      "---  ------                       --------------    -----  \n",
      " 0   geolocation_zip_code_prefix  1000163 non-null  int64  \n",
      " 1   geolocation_lat              1000163 non-null  float64\n",
      " 2   geolocation_lng              1000163 non-null  float64\n",
      " 3   geolocation_city             1000163 non-null  object \n",
      " 4   geolocation_state            1000163 non-null  object \n",
      "dtypes: float64(2), int64(1), object(2)\n",
      "memory usage: 38.2+ MB\n"
     ]
    }
   ],
   "source": [
    "geo_df.info()"
   ]
  },
  {
   "cell_type": "code",
   "execution_count": 19,
   "id": "d464ca6c-a1d7-4b74-8798-123eef70356a",
   "metadata": {
    "panel-layout": {
     "height": 170,
     "visible": true,
     "width": 100
    }
   },
   "outputs": [
    {
     "data": {
      "text/plain": [
       "geolocation_zip_code_prefix    0\n",
       "geolocation_lat                0\n",
       "geolocation_lng                0\n",
       "geolocation_city               0\n",
       "geolocation_state              0\n",
       "dtype: int64"
      ]
     },
     "execution_count": 19,
     "metadata": {},
     "output_type": "execute_result"
    }
   ],
   "source": [
    "geo_df.isna().sum()"
   ]
  },
  {
   "cell_type": "code",
   "execution_count": 20,
   "id": "54771f48-3294-44a8-9e7c-c54a945a62bc",
   "metadata": {
    "panel-layout": {
     "height": 0,
     "visible": true,
     "width": 100
    }
   },
   "outputs": [
    {
     "name": "stdout",
     "output_type": "stream",
     "text": [
      "Duplikasi:  261831\n"
     ]
    }
   ],
   "source": [
    "print(\"Duplikasi: \", geo_df.duplicated().sum())"
   ]
  },
  {
   "cell_type": "markdown",
   "id": "c8dab417-98fd-4ddc-877d-4885000266c7",
   "metadata": {
    "panel-layout": {
     "height": 212.22727966308594,
     "visible": true,
     "width": 100
    }
   },
   "source": [
    "Deskripsi : Dataset geo.csv tidak memiliki Missing Value, namun memiliki duplikasi data sebanyak 261831. Dataset menunjukan tipedata sudah sesuai. Memiliki 1 Fitur bertipe data integer, 2 bertipe data float, dan 2 tipe data Object (String) dengan total 1.000.163 baris.\n",
    "\n",
    "Fitur :\n",
    "1. geolocation_zip_code_prefix (Nilai Kode Pos)\n",
    "2. geolocation_lat (Nilai titik Latitude)\n",
    "3. geolocation_lng (Nilai titik Langitude)\n",
    "4. geolocation_city (Nilai nama Kota)\n",
    "5. geolocation_state (Nilai nama Negara Bagian)"
   ]
  },
  {
   "cell_type": "markdown",
   "id": "ffb83c21-2628-4537-bae9-94e00db3b1cc",
   "metadata": {},
   "source": [
    "ANALISA DATA / MEMAHAMI DATA ORDER_ITEMS"
   ]
  },
  {
   "cell_type": "code",
   "execution_count": 21,
   "id": "23777dcc-51a5-412f-9d9b-c985d1e458fb",
   "metadata": {
    "panel-layout": {
     "height": 256.54547119140625,
     "visible": true,
     "width": 100
    }
   },
   "outputs": [
    {
     "data": {
      "text/html": [
       "<div>\n",
       "<style scoped>\n",
       "    .dataframe tbody tr th:only-of-type {\n",
       "        vertical-align: middle;\n",
       "    }\n",
       "\n",
       "    .dataframe tbody tr th {\n",
       "        vertical-align: top;\n",
       "    }\n",
       "\n",
       "    .dataframe thead th {\n",
       "        text-align: right;\n",
       "    }\n",
       "</style>\n",
       "<table border=\"1\" class=\"dataframe\">\n",
       "  <thead>\n",
       "    <tr style=\"text-align: right;\">\n",
       "      <th></th>\n",
       "      <th>order_id</th>\n",
       "      <th>order_item_id</th>\n",
       "      <th>product_id</th>\n",
       "      <th>seller_id</th>\n",
       "      <th>shipping_limit_date</th>\n",
       "      <th>price</th>\n",
       "      <th>freight_value</th>\n",
       "    </tr>\n",
       "  </thead>\n",
       "  <tbody>\n",
       "    <tr>\n",
       "      <th>0</th>\n",
       "      <td>00010242fe8c5a6d1ba2dd792cb16214</td>\n",
       "      <td>1</td>\n",
       "      <td>4244733e06e7ecb4970a6e2683c13e61</td>\n",
       "      <td>48436dade18ac8b2bce089ec2a041202</td>\n",
       "      <td>2017-09-19 09:45:35</td>\n",
       "      <td>58.90</td>\n",
       "      <td>13.29</td>\n",
       "    </tr>\n",
       "    <tr>\n",
       "      <th>1</th>\n",
       "      <td>00018f77f2f0320c557190d7a144bdd3</td>\n",
       "      <td>1</td>\n",
       "      <td>e5f2d52b802189ee658865ca93d83a8f</td>\n",
       "      <td>dd7ddc04e1b6c2c614352b383efe2d36</td>\n",
       "      <td>2017-05-03 11:05:13</td>\n",
       "      <td>239.90</td>\n",
       "      <td>19.93</td>\n",
       "    </tr>\n",
       "    <tr>\n",
       "      <th>2</th>\n",
       "      <td>000229ec398224ef6ca0657da4fc703e</td>\n",
       "      <td>1</td>\n",
       "      <td>c777355d18b72b67abbeef9df44fd0fd</td>\n",
       "      <td>5b51032eddd242adc84c38acab88f23d</td>\n",
       "      <td>2018-01-18 14:48:30</td>\n",
       "      <td>199.00</td>\n",
       "      <td>17.87</td>\n",
       "    </tr>\n",
       "    <tr>\n",
       "      <th>3</th>\n",
       "      <td>00024acbcdf0a6daa1e931b038114c75</td>\n",
       "      <td>1</td>\n",
       "      <td>7634da152a4610f1595efa32f14722fc</td>\n",
       "      <td>9d7a1d34a5052409006425275ba1c2b4</td>\n",
       "      <td>2018-08-15 10:10:18</td>\n",
       "      <td>12.99</td>\n",
       "      <td>12.79</td>\n",
       "    </tr>\n",
       "    <tr>\n",
       "      <th>4</th>\n",
       "      <td>00042b26cf59d7ce69dfabb4e55b4fd9</td>\n",
       "      <td>1</td>\n",
       "      <td>ac6c3623068f30de03045865e4e10089</td>\n",
       "      <td>df560393f3a51e74553ab94004ba5c87</td>\n",
       "      <td>2017-02-13 13:57:51</td>\n",
       "      <td>199.90</td>\n",
       "      <td>18.14</td>\n",
       "    </tr>\n",
       "  </tbody>\n",
       "</table>\n",
       "</div>"
      ],
      "text/plain": [
       "                           order_id  order_item_id  \\\n",
       "0  00010242fe8c5a6d1ba2dd792cb16214              1   \n",
       "1  00018f77f2f0320c557190d7a144bdd3              1   \n",
       "2  000229ec398224ef6ca0657da4fc703e              1   \n",
       "3  00024acbcdf0a6daa1e931b038114c75              1   \n",
       "4  00042b26cf59d7ce69dfabb4e55b4fd9              1   \n",
       "\n",
       "                         product_id                         seller_id  \\\n",
       "0  4244733e06e7ecb4970a6e2683c13e61  48436dade18ac8b2bce089ec2a041202   \n",
       "1  e5f2d52b802189ee658865ca93d83a8f  dd7ddc04e1b6c2c614352b383efe2d36   \n",
       "2  c777355d18b72b67abbeef9df44fd0fd  5b51032eddd242adc84c38acab88f23d   \n",
       "3  7634da152a4610f1595efa32f14722fc  9d7a1d34a5052409006425275ba1c2b4   \n",
       "4  ac6c3623068f30de03045865e4e10089  df560393f3a51e74553ab94004ba5c87   \n",
       "\n",
       "   shipping_limit_date   price  freight_value  \n",
       "0  2017-09-19 09:45:35   58.90          13.29  \n",
       "1  2017-05-03 11:05:13  239.90          19.93  \n",
       "2  2018-01-18 14:48:30  199.00          17.87  \n",
       "3  2018-08-15 10:10:18   12.99          12.79  \n",
       "4  2017-02-13 13:57:51  199.90          18.14  "
      ]
     },
     "execution_count": 21,
     "metadata": {},
     "output_type": "execute_result"
    }
   ],
   "source": [
    "orderitems_df = pd.read_csv(\"data/orderitems.csv\") # Memanggil Code Sebelumnya\n",
    "orderitems_df.head()"
   ]
  },
  {
   "cell_type": "code",
   "execution_count": 22,
   "id": "f820f1ce-d40e-4703-a933-71e6c0542e96",
   "metadata": {
    "panel-layout": {
     "height": 0,
     "visible": true,
     "width": 100
    }
   },
   "outputs": [
    {
     "name": "stdout",
     "output_type": "stream",
     "text": [
      "<class 'pandas.core.frame.DataFrame'>\n",
      "RangeIndex: 112650 entries, 0 to 112649\n",
      "Data columns (total 7 columns):\n",
      " #   Column               Non-Null Count   Dtype  \n",
      "---  ------               --------------   -----  \n",
      " 0   order_id             112650 non-null  object \n",
      " 1   order_item_id        112650 non-null  int64  \n",
      " 2   product_id           112650 non-null  object \n",
      " 3   seller_id            112650 non-null  object \n",
      " 4   shipping_limit_date  112650 non-null  object \n",
      " 5   price                112650 non-null  float64\n",
      " 6   freight_value        112650 non-null  float64\n",
      "dtypes: float64(2), int64(1), object(4)\n",
      "memory usage: 6.0+ MB\n"
     ]
    }
   ],
   "source": [
    "orderitems_df.info()"
   ]
  },
  {
   "cell_type": "code",
   "execution_count": 23,
   "id": "f77b6d17-911e-4bb0-abe5-68dc8a432a20",
   "metadata": {
    "panel-layout": {
     "height": 223.09091186523438,
     "visible": true,
     "width": 100
    }
   },
   "outputs": [
    {
     "data": {
      "text/plain": [
       "order_id               0\n",
       "order_item_id          0\n",
       "product_id             0\n",
       "seller_id              0\n",
       "shipping_limit_date    0\n",
       "price                  0\n",
       "freight_value          0\n",
       "dtype: int64"
      ]
     },
     "execution_count": 23,
     "metadata": {},
     "output_type": "execute_result"
    }
   ],
   "source": [
    "orderitems_df.isna().sum()"
   ]
  },
  {
   "cell_type": "code",
   "execution_count": 24,
   "id": "87eb0fc5-9bbb-4c57-9f2f-f7c63d8cac59",
   "metadata": {
    "panel-layout": {
     "height": 0,
     "visible": true,
     "width": 100
    }
   },
   "outputs": [
    {
     "name": "stdout",
     "output_type": "stream",
     "text": [
      "Duplikasi:  0\n"
     ]
    }
   ],
   "source": [
    "print(\"Duplikasi: \", orderitems_df.duplicated().sum())"
   ]
  },
  {
   "cell_type": "markdown",
   "id": "cd738a54-592b-4e8e-8689-c2195d1c0803",
   "metadata": {
    "panel-layout": {
     "height": 246.5,
     "visible": true,
     "width": 100
    }
   },
   "source": [
    "Deskripsi : Dataset orderitems.csv tidak memiliki Missing Value, dan tidak ada duplikasi data. Namun dataset menunjukan adanya ketidaksesuaian tipedata terutama pada Fitur shipping_limit_date yang bertipe data object (Seharusnya datetime). Memiliki 1 Fitur bertipe data integer, 2 bertipe data float, dan 4 tipe data object (String) dengan total 112.650 baris.\n",
    "\n",
    "Fitur :\n",
    "1. order_id (Nilai id pemesanan)\n",
    "2. order_item_id (Nilai id barang pemesanan)\n",
    "3. product_id (Nilai id produk)\n",
    "4. seller_id (Nilai id penjual)\n",
    "5. shipping_limit_date (Nilai batas tanggal dan waktu pengiriman)\n",
    "6. price (Nilai harga)\n",
    "7. freight_value (Nilai Biaya Kargo)"
   ]
  },
  {
   "cell_type": "markdown",
   "id": "c18037d4-a93e-4fd9-898c-13faf762ff88",
   "metadata": {},
   "source": [
    "ANALISA DATA / MEMAHAMI DATA ORDER_PAYS"
   ]
  },
  {
   "cell_type": "code",
   "execution_count": 25,
   "id": "000a92bd-c68e-463a-8e12-de06dccd27fd",
   "metadata": {
    "panel-layout": {
     "height": 183.8181915283203,
     "visible": true,
     "width": 100
    }
   },
   "outputs": [
    {
     "data": {
      "text/html": [
       "<div>\n",
       "<style scoped>\n",
       "    .dataframe tbody tr th:only-of-type {\n",
       "        vertical-align: middle;\n",
       "    }\n",
       "\n",
       "    .dataframe tbody tr th {\n",
       "        vertical-align: top;\n",
       "    }\n",
       "\n",
       "    .dataframe thead th {\n",
       "        text-align: right;\n",
       "    }\n",
       "</style>\n",
       "<table border=\"1\" class=\"dataframe\">\n",
       "  <thead>\n",
       "    <tr style=\"text-align: right;\">\n",
       "      <th></th>\n",
       "      <th>order_id</th>\n",
       "      <th>payment_sequential</th>\n",
       "      <th>payment_type</th>\n",
       "      <th>payment_installments</th>\n",
       "      <th>payment_value</th>\n",
       "    </tr>\n",
       "  </thead>\n",
       "  <tbody>\n",
       "    <tr>\n",
       "      <th>0</th>\n",
       "      <td>b81ef226f3fe1789b1e8b2acac839d17</td>\n",
       "      <td>1</td>\n",
       "      <td>credit_card</td>\n",
       "      <td>8</td>\n",
       "      <td>99.33</td>\n",
       "    </tr>\n",
       "    <tr>\n",
       "      <th>1</th>\n",
       "      <td>a9810da82917af2d9aefd1278f1dcfa0</td>\n",
       "      <td>1</td>\n",
       "      <td>credit_card</td>\n",
       "      <td>1</td>\n",
       "      <td>24.39</td>\n",
       "    </tr>\n",
       "    <tr>\n",
       "      <th>2</th>\n",
       "      <td>25e8ea4e93396b6fa0d3dd708e76c1bd</td>\n",
       "      <td>1</td>\n",
       "      <td>credit_card</td>\n",
       "      <td>1</td>\n",
       "      <td>65.71</td>\n",
       "    </tr>\n",
       "    <tr>\n",
       "      <th>3</th>\n",
       "      <td>ba78997921bbcdc1373bb41e913ab953</td>\n",
       "      <td>1</td>\n",
       "      <td>credit_card</td>\n",
       "      <td>8</td>\n",
       "      <td>107.78</td>\n",
       "    </tr>\n",
       "    <tr>\n",
       "      <th>4</th>\n",
       "      <td>42fdf880ba16b47b59251dd489d4441a</td>\n",
       "      <td>1</td>\n",
       "      <td>credit_card</td>\n",
       "      <td>2</td>\n",
       "      <td>128.45</td>\n",
       "    </tr>\n",
       "  </tbody>\n",
       "</table>\n",
       "</div>"
      ],
      "text/plain": [
       "                           order_id  payment_sequential payment_type  \\\n",
       "0  b81ef226f3fe1789b1e8b2acac839d17                   1  credit_card   \n",
       "1  a9810da82917af2d9aefd1278f1dcfa0                   1  credit_card   \n",
       "2  25e8ea4e93396b6fa0d3dd708e76c1bd                   1  credit_card   \n",
       "3  ba78997921bbcdc1373bb41e913ab953                   1  credit_card   \n",
       "4  42fdf880ba16b47b59251dd489d4441a                   1  credit_card   \n",
       "\n",
       "   payment_installments  payment_value  \n",
       "0                     8          99.33  \n",
       "1                     1          24.39  \n",
       "2                     1          65.71  \n",
       "3                     8         107.78  \n",
       "4                     2         128.45  "
      ]
     },
     "execution_count": 25,
     "metadata": {},
     "output_type": "execute_result"
    }
   ],
   "source": [
    "orderpays_df = pd.read_csv(\"data/orderpays.csv\") # Memanggil Code Sebelumnya\n",
    "orderpays_df.head()"
   ]
  },
  {
   "cell_type": "code",
   "execution_count": 26,
   "id": "251b6e91-c034-48c7-a6e8-3a38b36264a0",
   "metadata": {
    "panel-layout": {
     "height": 0,
     "visible": true,
     "width": 100
    }
   },
   "outputs": [
    {
     "name": "stdout",
     "output_type": "stream",
     "text": [
      "<class 'pandas.core.frame.DataFrame'>\n",
      "RangeIndex: 103886 entries, 0 to 103885\n",
      "Data columns (total 5 columns):\n",
      " #   Column                Non-Null Count   Dtype  \n",
      "---  ------                --------------   -----  \n",
      " 0   order_id              103886 non-null  object \n",
      " 1   payment_sequential    103886 non-null  int64  \n",
      " 2   payment_type          103886 non-null  object \n",
      " 3   payment_installments  103886 non-null  int64  \n",
      " 4   payment_value         103886 non-null  float64\n",
      "dtypes: float64(1), int64(2), object(2)\n",
      "memory usage: 4.0+ MB\n"
     ]
    }
   ],
   "source": [
    "orderpays_df.info()"
   ]
  },
  {
   "cell_type": "code",
   "execution_count": 27,
   "id": "e485c356-c770-4b5e-8acc-a8846165acad",
   "metadata": {
    "panel-layout": {
     "height": 170,
     "visible": true,
     "width": 100
    }
   },
   "outputs": [
    {
     "data": {
      "text/plain": [
       "order_id                0\n",
       "payment_sequential      0\n",
       "payment_type            0\n",
       "payment_installments    0\n",
       "payment_value           0\n",
       "dtype: int64"
      ]
     },
     "execution_count": 27,
     "metadata": {},
     "output_type": "execute_result"
    }
   ],
   "source": [
    "orderpays_df.isna().sum()"
   ]
  },
  {
   "cell_type": "code",
   "execution_count": 28,
   "id": "44b11971-6ae3-4f3b-b452-6a99bf8459a6",
   "metadata": {
    "panel-layout": {
     "height": 0,
     "visible": true,
     "width": 100
    }
   },
   "outputs": [
    {
     "name": "stdout",
     "output_type": "stream",
     "text": [
      "Duplikasi:  0\n"
     ]
    }
   ],
   "source": [
    "print(\"Duplikasi: \", orderpays_df.duplicated().sum())"
   ]
  },
  {
   "cell_type": "markdown",
   "id": "ffe2452a-bf0d-4b25-9d5d-a1fe2a4c5b3b",
   "metadata": {
    "panel-layout": {
     "height": 212.22727966308594,
     "visible": true,
     "width": 100
    }
   },
   "source": [
    "Deskripsi : Dataset orderpays.csv tidak memiliki Missing Value, dan tidak ada duplikasi data. Dataset menunjukan tipedata yang sesuai. Memiliki 1 Fitur bertipe data float, 2 bertipe data integer, dan 2 tipe data Object (String) \n",
    "dengan total 103.886 baris.\n",
    "\n",
    "Fitur :\n",
    "1. order_id (Nilai id pemesanan)\n",
    "2. payment_sequential (Nilai urutan pembayaran)\n",
    "3. payment_type (Nilai tipe pembayaran)\n",
    "4. payment_installments (Nilai cicilan pembayaran)\n",
    "5. payment_value (Nilai pembayaran)"
   ]
  },
  {
   "cell_type": "markdown",
   "id": "875ebb63-98be-4946-8228-58697a12c4dc",
   "metadata": {},
   "source": [
    "ANALISA DATA / MEMAHAMI DATA ORDER_REVIEWS"
   ]
  },
  {
   "cell_type": "code",
   "execution_count": 29,
   "id": "a770fdad-6217-44b5-acc0-aefd0f38a285",
   "metadata": {
    "panel-layout": {
     "height": 300.18182373046875,
     "visible": true,
     "width": 100
    }
   },
   "outputs": [
    {
     "data": {
      "text/html": [
       "<div>\n",
       "<style scoped>\n",
       "    .dataframe tbody tr th:only-of-type {\n",
       "        vertical-align: middle;\n",
       "    }\n",
       "\n",
       "    .dataframe tbody tr th {\n",
       "        vertical-align: top;\n",
       "    }\n",
       "\n",
       "    .dataframe thead th {\n",
       "        text-align: right;\n",
       "    }\n",
       "</style>\n",
       "<table border=\"1\" class=\"dataframe\">\n",
       "  <thead>\n",
       "    <tr style=\"text-align: right;\">\n",
       "      <th></th>\n",
       "      <th>review_id</th>\n",
       "      <th>order_id</th>\n",
       "      <th>review_score</th>\n",
       "      <th>review_comment_title</th>\n",
       "      <th>review_comment_message</th>\n",
       "      <th>review_creation_date</th>\n",
       "      <th>review_answer_timestamp</th>\n",
       "    </tr>\n",
       "  </thead>\n",
       "  <tbody>\n",
       "    <tr>\n",
       "      <th>0</th>\n",
       "      <td>7bc2406110b926393aa56f80a40eba40</td>\n",
       "      <td>73fc7af87114b39712e6da79b0a377eb</td>\n",
       "      <td>4</td>\n",
       "      <td>NaN</td>\n",
       "      <td>NaN</td>\n",
       "      <td>2018-01-18 00:00:00</td>\n",
       "      <td>2018-01-18 21:46:59</td>\n",
       "    </tr>\n",
       "    <tr>\n",
       "      <th>1</th>\n",
       "      <td>80e641a11e56f04c1ad469d5645fdfde</td>\n",
       "      <td>a548910a1c6147796b98fdf73dbeba33</td>\n",
       "      <td>5</td>\n",
       "      <td>NaN</td>\n",
       "      <td>NaN</td>\n",
       "      <td>2018-03-10 00:00:00</td>\n",
       "      <td>2018-03-11 03:05:13</td>\n",
       "    </tr>\n",
       "    <tr>\n",
       "      <th>2</th>\n",
       "      <td>228ce5500dc1d8e020d8d1322874b6f0</td>\n",
       "      <td>f9e4b658b201a9f2ecdecbb34bed034b</td>\n",
       "      <td>5</td>\n",
       "      <td>NaN</td>\n",
       "      <td>NaN</td>\n",
       "      <td>2018-02-17 00:00:00</td>\n",
       "      <td>2018-02-18 14:36:24</td>\n",
       "    </tr>\n",
       "    <tr>\n",
       "      <th>3</th>\n",
       "      <td>e64fb393e7b32834bb789ff8bb30750e</td>\n",
       "      <td>658677c97b385a9be170737859d3511b</td>\n",
       "      <td>5</td>\n",
       "      <td>NaN</td>\n",
       "      <td>Recebi bem antes do prazo estipulado.</td>\n",
       "      <td>2017-04-21 00:00:00</td>\n",
       "      <td>2017-04-21 22:02:06</td>\n",
       "    </tr>\n",
       "    <tr>\n",
       "      <th>4</th>\n",
       "      <td>f7c4243c7fe1938f181bec41a392bdeb</td>\n",
       "      <td>8e6bfb81e283fa7e4f11123a3fb894f1</td>\n",
       "      <td>5</td>\n",
       "      <td>NaN</td>\n",
       "      <td>Parabéns lojas lannister adorei comprar pela I...</td>\n",
       "      <td>2018-03-01 00:00:00</td>\n",
       "      <td>2018-03-02 10:26:53</td>\n",
       "    </tr>\n",
       "  </tbody>\n",
       "</table>\n",
       "</div>"
      ],
      "text/plain": [
       "                          review_id                          order_id  \\\n",
       "0  7bc2406110b926393aa56f80a40eba40  73fc7af87114b39712e6da79b0a377eb   \n",
       "1  80e641a11e56f04c1ad469d5645fdfde  a548910a1c6147796b98fdf73dbeba33   \n",
       "2  228ce5500dc1d8e020d8d1322874b6f0  f9e4b658b201a9f2ecdecbb34bed034b   \n",
       "3  e64fb393e7b32834bb789ff8bb30750e  658677c97b385a9be170737859d3511b   \n",
       "4  f7c4243c7fe1938f181bec41a392bdeb  8e6bfb81e283fa7e4f11123a3fb894f1   \n",
       "\n",
       "   review_score review_comment_title  \\\n",
       "0             4                  NaN   \n",
       "1             5                  NaN   \n",
       "2             5                  NaN   \n",
       "3             5                  NaN   \n",
       "4             5                  NaN   \n",
       "\n",
       "                              review_comment_message review_creation_date  \\\n",
       "0                                                NaN  2018-01-18 00:00:00   \n",
       "1                                                NaN  2018-03-10 00:00:00   \n",
       "2                                                NaN  2018-02-17 00:00:00   \n",
       "3              Recebi bem antes do prazo estipulado.  2017-04-21 00:00:00   \n",
       "4  Parabéns lojas lannister adorei comprar pela I...  2018-03-01 00:00:00   \n",
       "\n",
       "  review_answer_timestamp  \n",
       "0     2018-01-18 21:46:59  \n",
       "1     2018-03-11 03:05:13  \n",
       "2     2018-02-18 14:36:24  \n",
       "3     2017-04-21 22:02:06  \n",
       "4     2018-03-02 10:26:53  "
      ]
     },
     "execution_count": 29,
     "metadata": {},
     "output_type": "execute_result"
    }
   ],
   "source": [
    "orderreviews_df = pd.read_csv(\"data/orderreviews.csv\") # Memanggil Code Sebelumnya\n",
    "orderreviews_df.head()"
   ]
  },
  {
   "cell_type": "code",
   "execution_count": 30,
   "id": "922c1317-f01e-4615-be05-915a1946e75b",
   "metadata": {
    "panel-layout": {
     "height": 0,
     "visible": true,
     "width": 100
    }
   },
   "outputs": [
    {
     "name": "stdout",
     "output_type": "stream",
     "text": [
      "<class 'pandas.core.frame.DataFrame'>\n",
      "RangeIndex: 99224 entries, 0 to 99223\n",
      "Data columns (total 7 columns):\n",
      " #   Column                   Non-Null Count  Dtype \n",
      "---  ------                   --------------  ----- \n",
      " 0   review_id                99224 non-null  object\n",
      " 1   order_id                 99224 non-null  object\n",
      " 2   review_score             99224 non-null  int64 \n",
      " 3   review_comment_title     11568 non-null  object\n",
      " 4   review_comment_message   40977 non-null  object\n",
      " 5   review_creation_date     99224 non-null  object\n",
      " 6   review_answer_timestamp  99224 non-null  object\n",
      "dtypes: int64(1), object(6)\n",
      "memory usage: 5.3+ MB\n"
     ]
    }
   ],
   "source": [
    "orderreviews_df.info()"
   ]
  },
  {
   "cell_type": "code",
   "execution_count": 31,
   "id": "c7b4c04b-0453-4a31-9460-602df159cee3",
   "metadata": {
    "panel-layout": {
     "height": 223.09091186523438,
     "visible": true,
     "width": 100
    }
   },
   "outputs": [
    {
     "data": {
      "text/plain": [
       "review_id                      0\n",
       "order_id                       0\n",
       "review_score                   0\n",
       "review_comment_title       87656\n",
       "review_comment_message     58247\n",
       "review_creation_date           0\n",
       "review_answer_timestamp        0\n",
       "dtype: int64"
      ]
     },
     "execution_count": 31,
     "metadata": {},
     "output_type": "execute_result"
    }
   ],
   "source": [
    "orderreviews_df.isna().sum()"
   ]
  },
  {
   "cell_type": "code",
   "execution_count": 32,
   "id": "69bfdec5-3fa7-4cb6-94fc-80e2220fa936",
   "metadata": {
    "panel-layout": {
     "height": 0,
     "visible": true,
     "width": 100
    }
   },
   "outputs": [
    {
     "name": "stdout",
     "output_type": "stream",
     "text": [
      "Duplikasi:  0\n"
     ]
    }
   ],
   "source": [
    "print(\"Duplikasi: \", orderreviews_df.duplicated().sum())"
   ]
  },
  {
   "cell_type": "markdown",
   "id": "5a80b860-5b3e-4c0f-aed8-f11b188af923",
   "metadata": {
    "panel-layout": {
     "height": 246.5,
     "visible": true,
     "width": 100
    }
   },
   "source": [
    "Deskripsi : Dataset orderreviews.csv memiliki Missing Value dari fitur review_comment_title (87.656 data) dan review_comment_message (58.247 data). Dataset tidak ada duplikasi data. Namun menunjukan tipedata yang tidak sesuai seperti review_creation_date dan review_answer_timestamp (Seharusnya bertipe data datetime). Memiliki 1 Fitur bertipe data integer, 6 bertipe data object dengan total 99.224 baris.\n",
    "\n",
    "Fitur :\n",
    "1. review_id (Nilai id tinjauan)\n",
    "2. order_id (Nilai id pemesanan)\n",
    "3. review_comment_title (Nilai judul komentar tinjauan)\n",
    "4. review_comment_message (Nilai pesan komentar tinjauan)\n",
    "5. review_creation_date (Nilai tanggal tinjauan)\n",
    "6. review_answer_timestamp (Nilai tanggal pengisian tinjauan)"
   ]
  },
  {
   "cell_type": "markdown",
   "id": "d1f5f577-2b85-42ec-a668-6eecf62e83df",
   "metadata": {},
   "source": [
    "ANALISA DATA / MEMAHAMI DATA ORDERS"
   ]
  },
  {
   "cell_type": "code",
   "execution_count": 33,
   "id": "f3bd6d67-d965-44fc-be43-0a517b245056",
   "metadata": {
    "panel-layout": {
     "height": 256.54547119140625,
     "visible": true,
     "width": 100
    }
   },
   "outputs": [
    {
     "data": {
      "text/html": [
       "<div>\n",
       "<style scoped>\n",
       "    .dataframe tbody tr th:only-of-type {\n",
       "        vertical-align: middle;\n",
       "    }\n",
       "\n",
       "    .dataframe tbody tr th {\n",
       "        vertical-align: top;\n",
       "    }\n",
       "\n",
       "    .dataframe thead th {\n",
       "        text-align: right;\n",
       "    }\n",
       "</style>\n",
       "<table border=\"1\" class=\"dataframe\">\n",
       "  <thead>\n",
       "    <tr style=\"text-align: right;\">\n",
       "      <th></th>\n",
       "      <th>order_id</th>\n",
       "      <th>customer_id</th>\n",
       "      <th>order_status</th>\n",
       "      <th>order_purchase_timestamp</th>\n",
       "      <th>order_approved_at</th>\n",
       "      <th>order_delivered_carrier_date</th>\n",
       "      <th>order_delivered_customer_date</th>\n",
       "      <th>order_estimated_delivery_date</th>\n",
       "    </tr>\n",
       "  </thead>\n",
       "  <tbody>\n",
       "    <tr>\n",
       "      <th>0</th>\n",
       "      <td>e481f51cbdc54678b7cc49136f2d6af7</td>\n",
       "      <td>9ef432eb6251297304e76186b10a928d</td>\n",
       "      <td>delivered</td>\n",
       "      <td>2017-10-02 10:56:33</td>\n",
       "      <td>2017-10-02 11:07:15</td>\n",
       "      <td>2017-10-04 19:55:00</td>\n",
       "      <td>2017-10-10 21:25:13</td>\n",
       "      <td>2017-10-18 00:00:00</td>\n",
       "    </tr>\n",
       "    <tr>\n",
       "      <th>1</th>\n",
       "      <td>53cdb2fc8bc7dce0b6741e2150273451</td>\n",
       "      <td>b0830fb4747a6c6d20dea0b8c802d7ef</td>\n",
       "      <td>delivered</td>\n",
       "      <td>2018-07-24 20:41:37</td>\n",
       "      <td>2018-07-26 03:24:27</td>\n",
       "      <td>2018-07-26 14:31:00</td>\n",
       "      <td>2018-08-07 15:27:45</td>\n",
       "      <td>2018-08-13 00:00:00</td>\n",
       "    </tr>\n",
       "    <tr>\n",
       "      <th>2</th>\n",
       "      <td>47770eb9100c2d0c44946d9cf07ec65d</td>\n",
       "      <td>41ce2a54c0b03bf3443c3d931a367089</td>\n",
       "      <td>delivered</td>\n",
       "      <td>2018-08-08 08:38:49</td>\n",
       "      <td>2018-08-08 08:55:23</td>\n",
       "      <td>2018-08-08 13:50:00</td>\n",
       "      <td>2018-08-17 18:06:29</td>\n",
       "      <td>2018-09-04 00:00:00</td>\n",
       "    </tr>\n",
       "    <tr>\n",
       "      <th>3</th>\n",
       "      <td>949d5b44dbf5de918fe9c16f97b45f8a</td>\n",
       "      <td>f88197465ea7920adcdbec7375364d82</td>\n",
       "      <td>delivered</td>\n",
       "      <td>2017-11-18 19:28:06</td>\n",
       "      <td>2017-11-18 19:45:59</td>\n",
       "      <td>2017-11-22 13:39:59</td>\n",
       "      <td>2017-12-02 00:28:42</td>\n",
       "      <td>2017-12-15 00:00:00</td>\n",
       "    </tr>\n",
       "    <tr>\n",
       "      <th>4</th>\n",
       "      <td>ad21c59c0840e6cb83a9ceb5573f8159</td>\n",
       "      <td>8ab97904e6daea8866dbdbc4fb7aad2c</td>\n",
       "      <td>delivered</td>\n",
       "      <td>2018-02-13 21:18:39</td>\n",
       "      <td>2018-02-13 22:20:29</td>\n",
       "      <td>2018-02-14 19:46:34</td>\n",
       "      <td>2018-02-16 18:17:02</td>\n",
       "      <td>2018-02-26 00:00:00</td>\n",
       "    </tr>\n",
       "  </tbody>\n",
       "</table>\n",
       "</div>"
      ],
      "text/plain": [
       "                           order_id                       customer_id  \\\n",
       "0  e481f51cbdc54678b7cc49136f2d6af7  9ef432eb6251297304e76186b10a928d   \n",
       "1  53cdb2fc8bc7dce0b6741e2150273451  b0830fb4747a6c6d20dea0b8c802d7ef   \n",
       "2  47770eb9100c2d0c44946d9cf07ec65d  41ce2a54c0b03bf3443c3d931a367089   \n",
       "3  949d5b44dbf5de918fe9c16f97b45f8a  f88197465ea7920adcdbec7375364d82   \n",
       "4  ad21c59c0840e6cb83a9ceb5573f8159  8ab97904e6daea8866dbdbc4fb7aad2c   \n",
       "\n",
       "  order_status order_purchase_timestamp    order_approved_at  \\\n",
       "0    delivered      2017-10-02 10:56:33  2017-10-02 11:07:15   \n",
       "1    delivered      2018-07-24 20:41:37  2018-07-26 03:24:27   \n",
       "2    delivered      2018-08-08 08:38:49  2018-08-08 08:55:23   \n",
       "3    delivered      2017-11-18 19:28:06  2017-11-18 19:45:59   \n",
       "4    delivered      2018-02-13 21:18:39  2018-02-13 22:20:29   \n",
       "\n",
       "  order_delivered_carrier_date order_delivered_customer_date  \\\n",
       "0          2017-10-04 19:55:00           2017-10-10 21:25:13   \n",
       "1          2018-07-26 14:31:00           2018-08-07 15:27:45   \n",
       "2          2018-08-08 13:50:00           2018-08-17 18:06:29   \n",
       "3          2017-11-22 13:39:59           2017-12-02 00:28:42   \n",
       "4          2018-02-14 19:46:34           2018-02-16 18:17:02   \n",
       "\n",
       "  order_estimated_delivery_date  \n",
       "0           2017-10-18 00:00:00  \n",
       "1           2018-08-13 00:00:00  \n",
       "2           2018-09-04 00:00:00  \n",
       "3           2017-12-15 00:00:00  \n",
       "4           2018-02-26 00:00:00  "
      ]
     },
     "execution_count": 33,
     "metadata": {},
     "output_type": "execute_result"
    }
   ],
   "source": [
    "orders_df = pd.read_csv(\"data/orders.csv\") # Memanggil Code Sebelumnya\n",
    "orders_df.head()"
   ]
  },
  {
   "cell_type": "code",
   "execution_count": 34,
   "id": "fc073a3d-605d-4f24-8a2d-835a27231320",
   "metadata": {
    "panel-layout": {
     "height": 0,
     "visible": true,
     "width": 100
    }
   },
   "outputs": [
    {
     "name": "stdout",
     "output_type": "stream",
     "text": [
      "<class 'pandas.core.frame.DataFrame'>\n",
      "RangeIndex: 99441 entries, 0 to 99440\n",
      "Data columns (total 8 columns):\n",
      " #   Column                         Non-Null Count  Dtype \n",
      "---  ------                         --------------  ----- \n",
      " 0   order_id                       99441 non-null  object\n",
      " 1   customer_id                    99441 non-null  object\n",
      " 2   order_status                   99441 non-null  object\n",
      " 3   order_purchase_timestamp       99441 non-null  object\n",
      " 4   order_approved_at              99281 non-null  object\n",
      " 5   order_delivered_carrier_date   97658 non-null  object\n",
      " 6   order_delivered_customer_date  96476 non-null  object\n",
      " 7   order_estimated_delivery_date  99441 non-null  object\n",
      "dtypes: object(8)\n",
      "memory usage: 6.1+ MB\n"
     ]
    }
   ],
   "source": [
    "orders_df.info()"
   ]
  },
  {
   "cell_type": "code",
   "execution_count": 35,
   "id": "6170f544-f666-484d-a7e2-4e435c5c2ebd",
   "metadata": {
    "panel-layout": {
     "height": 249.63638305664062,
     "visible": true,
     "width": 100
    }
   },
   "outputs": [
    {
     "data": {
      "text/plain": [
       "order_id                            0\n",
       "customer_id                         0\n",
       "order_status                        0\n",
       "order_purchase_timestamp            0\n",
       "order_approved_at                 160\n",
       "order_delivered_carrier_date     1783\n",
       "order_delivered_customer_date    2965\n",
       "order_estimated_delivery_date       0\n",
       "dtype: int64"
      ]
     },
     "execution_count": 35,
     "metadata": {},
     "output_type": "execute_result"
    }
   ],
   "source": [
    "orders_df.isna().sum()"
   ]
  },
  {
   "cell_type": "code",
   "execution_count": 36,
   "id": "1c167012-12dc-4f8e-a2b6-c3ea508fb111",
   "metadata": {
    "panel-layout": {
     "height": 0,
     "visible": true,
     "width": 100
    }
   },
   "outputs": [
    {
     "name": "stdout",
     "output_type": "stream",
     "text": [
      "Duplikasi:  0\n"
     ]
    }
   ],
   "source": [
    "print(\"Duplikasi: \", orders_df.duplicated().sum())"
   ]
  },
  {
   "cell_type": "markdown",
   "id": "f0cba819-4d44-4f3d-a7c9-14da4a99c59b",
   "metadata": {
    "panel-layout": {
     "height": 297.9090881347656,
     "visible": true,
     "width": 100
    }
   },
   "source": [
    "Deskripsi : Dataset orders.csv memiliki Missing Value dari fitur order_approved_at (160 data), order_delivered_carrier_date (1783 data), dan order_delivered_customer_date (2965 data). Dataset tidak ada duplikasi data. Namun menunjukan tipedata yang tidak sesuai seperti order_purchase_timestamp, order_approved_at, order_delivered_carrier_date, order_delivered_customer_date, dan order_estimated_delivery_date (Seharusnya bertipe data datetime). Dataset memiliki 8 Fitur bertipe data object, dan memiliki 99.441 baris.\n",
    "\n",
    "Fitur :\n",
    "1. order_id (Nilai id pemesanan)\n",
    "2. customer_id (Nilai id pelanggan)\n",
    "3. order_status (Nilai status pemesanan)\n",
    "4. order_purchase_timestamp (Nilai waktu pembayaran pesanan)\n",
    "5. order_approved_at (Nilai waktu pesanan disetujui)\n",
    "6. order_delivered_carrier_date (Nilai tanggal pengiriman pesanan (Oleh pengirim))\n",
    "7. order_delivered_customer_date (Nilai tanggal pengiriman pesanan (Dari pelanggan))\n",
    "8. order_estimated_delivery_date (Nilai estimasi tanggal pengiriman)"
   ]
  },
  {
   "cell_type": "markdown",
   "id": "b3a0293a-3c32-45d2-ac9f-1bb77c2d9780",
   "metadata": {},
   "source": [
    "ANALISA DATA / MEMAHAMI DATA PRODUCTS"
   ]
  },
  {
   "cell_type": "code",
   "execution_count": 41,
   "id": "d51f3dbd-003a-4352-9458-192b436539de",
   "metadata": {
    "panel-layout": {
     "height": 183.8181915283203,
     "visible": true,
     "width": 100
    }
   },
   "outputs": [
    {
     "data": {
      "text/html": [
       "<div>\n",
       "<style scoped>\n",
       "    .dataframe tbody tr th:only-of-type {\n",
       "        vertical-align: middle;\n",
       "    }\n",
       "\n",
       "    .dataframe tbody tr th {\n",
       "        vertical-align: top;\n",
       "    }\n",
       "\n",
       "    .dataframe thead th {\n",
       "        text-align: right;\n",
       "    }\n",
       "</style>\n",
       "<table border=\"1\" class=\"dataframe\">\n",
       "  <thead>\n",
       "    <tr style=\"text-align: right;\">\n",
       "      <th></th>\n",
       "      <th>product_id</th>\n",
       "      <th>product_category_name</th>\n",
       "      <th>product_name_lenght</th>\n",
       "      <th>product_description_lenght</th>\n",
       "      <th>product_photos_qty</th>\n",
       "      <th>product_weight_g</th>\n",
       "      <th>product_length_cm</th>\n",
       "      <th>product_height_cm</th>\n",
       "      <th>product_width_cm</th>\n",
       "    </tr>\n",
       "  </thead>\n",
       "  <tbody>\n",
       "    <tr>\n",
       "      <th>0</th>\n",
       "      <td>1e9e8ef04dbcff4541ed26657ea517e5</td>\n",
       "      <td>perfumaria</td>\n",
       "      <td>40.0</td>\n",
       "      <td>287.0</td>\n",
       "      <td>1.0</td>\n",
       "      <td>225.0</td>\n",
       "      <td>16.0</td>\n",
       "      <td>10.0</td>\n",
       "      <td>14.0</td>\n",
       "    </tr>\n",
       "    <tr>\n",
       "      <th>1</th>\n",
       "      <td>3aa071139cb16b67ca9e5dea641aaa2f</td>\n",
       "      <td>artes</td>\n",
       "      <td>44.0</td>\n",
       "      <td>276.0</td>\n",
       "      <td>1.0</td>\n",
       "      <td>1000.0</td>\n",
       "      <td>30.0</td>\n",
       "      <td>18.0</td>\n",
       "      <td>20.0</td>\n",
       "    </tr>\n",
       "    <tr>\n",
       "      <th>2</th>\n",
       "      <td>96bd76ec8810374ed1b65e291975717f</td>\n",
       "      <td>esporte_lazer</td>\n",
       "      <td>46.0</td>\n",
       "      <td>250.0</td>\n",
       "      <td>1.0</td>\n",
       "      <td>154.0</td>\n",
       "      <td>18.0</td>\n",
       "      <td>9.0</td>\n",
       "      <td>15.0</td>\n",
       "    </tr>\n",
       "    <tr>\n",
       "      <th>3</th>\n",
       "      <td>cef67bcfe19066a932b7673e239eb23d</td>\n",
       "      <td>bebes</td>\n",
       "      <td>27.0</td>\n",
       "      <td>261.0</td>\n",
       "      <td>1.0</td>\n",
       "      <td>371.0</td>\n",
       "      <td>26.0</td>\n",
       "      <td>4.0</td>\n",
       "      <td>26.0</td>\n",
       "    </tr>\n",
       "    <tr>\n",
       "      <th>4</th>\n",
       "      <td>9dc1a7de274444849c219cff195d0b71</td>\n",
       "      <td>utilidades_domesticas</td>\n",
       "      <td>37.0</td>\n",
       "      <td>402.0</td>\n",
       "      <td>4.0</td>\n",
       "      <td>625.0</td>\n",
       "      <td>20.0</td>\n",
       "      <td>17.0</td>\n",
       "      <td>13.0</td>\n",
       "    </tr>\n",
       "  </tbody>\n",
       "</table>\n",
       "</div>"
      ],
      "text/plain": [
       "                         product_id  product_category_name  \\\n",
       "0  1e9e8ef04dbcff4541ed26657ea517e5             perfumaria   \n",
       "1  3aa071139cb16b67ca9e5dea641aaa2f                  artes   \n",
       "2  96bd76ec8810374ed1b65e291975717f          esporte_lazer   \n",
       "3  cef67bcfe19066a932b7673e239eb23d                  bebes   \n",
       "4  9dc1a7de274444849c219cff195d0b71  utilidades_domesticas   \n",
       "\n",
       "   product_name_lenght  product_description_lenght  product_photos_qty  \\\n",
       "0                 40.0                       287.0                 1.0   \n",
       "1                 44.0                       276.0                 1.0   \n",
       "2                 46.0                       250.0                 1.0   \n",
       "3                 27.0                       261.0                 1.0   \n",
       "4                 37.0                       402.0                 4.0   \n",
       "\n",
       "   product_weight_g  product_length_cm  product_height_cm  product_width_cm  \n",
       "0             225.0               16.0               10.0              14.0  \n",
       "1            1000.0               30.0               18.0              20.0  \n",
       "2             154.0               18.0                9.0              15.0  \n",
       "3             371.0               26.0                4.0              26.0  \n",
       "4             625.0               20.0               17.0              13.0  "
      ]
     },
     "execution_count": 41,
     "metadata": {},
     "output_type": "execute_result"
    }
   ],
   "source": [
    "products_df = pd.read_csv(\"data/products.csv\") # Memanggil Code Sebelumnya\n",
    "products_df.head()"
   ]
  },
  {
   "cell_type": "code",
   "execution_count": 42,
   "id": "789862ee-eac7-4567-b744-5fb6a7438930",
   "metadata": {
    "panel-layout": {
     "height": 0,
     "visible": true,
     "width": 100
    }
   },
   "outputs": [
    {
     "name": "stdout",
     "output_type": "stream",
     "text": [
      "<class 'pandas.core.frame.DataFrame'>\n",
      "RangeIndex: 32951 entries, 0 to 32950\n",
      "Data columns (total 9 columns):\n",
      " #   Column                      Non-Null Count  Dtype  \n",
      "---  ------                      --------------  -----  \n",
      " 0   product_id                  32951 non-null  object \n",
      " 1   product_category_name       32341 non-null  object \n",
      " 2   product_name_lenght         32341 non-null  float64\n",
      " 3   product_description_lenght  32341 non-null  float64\n",
      " 4   product_photos_qty          32341 non-null  float64\n",
      " 5   product_weight_g            32949 non-null  float64\n",
      " 6   product_length_cm           32949 non-null  float64\n",
      " 7   product_height_cm           32949 non-null  float64\n",
      " 8   product_width_cm            32949 non-null  float64\n",
      "dtypes: float64(7), object(2)\n",
      "memory usage: 2.3+ MB\n"
     ]
    }
   ],
   "source": [
    "products_df.info()"
   ]
  },
  {
   "cell_type": "code",
   "execution_count": 43,
   "id": "b28a1374-b255-4716-ae00-e96fa616a530",
   "metadata": {
    "panel-layout": {
     "height": 276.18182373046875,
     "visible": true,
     "width": 100
    }
   },
   "outputs": [
    {
     "data": {
      "text/plain": [
       "product_id                      0\n",
       "product_category_name         610\n",
       "product_name_lenght           610\n",
       "product_description_lenght    610\n",
       "product_photos_qty            610\n",
       "product_weight_g                2\n",
       "product_length_cm               2\n",
       "product_height_cm               2\n",
       "product_width_cm                2\n",
       "dtype: int64"
      ]
     },
     "execution_count": 43,
     "metadata": {},
     "output_type": "execute_result"
    }
   ],
   "source": [
    "products_df.isna().sum()"
   ]
  },
  {
   "cell_type": "code",
   "execution_count": 44,
   "id": "79a05510-c69d-4f59-b6b6-c24dd15f7bd5",
   "metadata": {
    "panel-layout": {
     "height": 0,
     "visible": true,
     "width": 100
    }
   },
   "outputs": [
    {
     "name": "stdout",
     "output_type": "stream",
     "text": [
      "Duplikasi:  0\n"
     ]
    }
   ],
   "source": [
    "print(\"Duplikasi: \", products_df.duplicated().sum())"
   ]
  },
  {
   "cell_type": "markdown",
   "id": "5ef0f434-c718-431c-96eb-8660f5f3bf57",
   "metadata": {
    "panel-layout": {
     "height": 280.7727355957031,
     "visible": true,
     "width": 100
    }
   },
   "source": [
    "Deskripsi : Dataset products.csv memiliki beberapa nilai Missing Value (hampir semua fitur ada nilai hilang kecuali product_id). Dataset tidak memiliki data yang duplikat. Tipe data yang digunakan sudah sesuai dengan 7 fitur dengan tipe data float, dan 2 tipe data object dengan total 32951 baris.\n",
    "\n",
    "Fitur :\n",
    "\n",
    "1. product_id (Nilai id produk)\n",
    "2. product_category_name (Nilai nama kategori produk)\n",
    "3. product_name_lenght (Nilai panjang karakter nama produk)\n",
    "4. product_description_length (Nilai panjang karakter deskripsi produk)\n",
    "5. product_photos_qty (Nilai jumlah foto produk)\n",
    "6. product_weight_g (Nilai berat produk dalam satuan g (gram))\n",
    "7. product_length_cm (Nilai panjang dalam satuan cm (centimeter))\n",
    "8. product_heigth_cm (Nilai tinggi dalam satuan cm (centimeter))\n",
    "9. product_width_cm (Nilai lebar dalam satuan cm (centimeter))"
   ]
  },
  {
   "cell_type": "markdown",
   "id": "596e46d9-576c-4bfe-b6e0-b0c258f03c51",
   "metadata": {},
   "source": [
    "ANALISA DATA / MEMAHAMI DATA SELLERS"
   ]
  },
  {
   "cell_type": "code",
   "execution_count": 45,
   "id": "6e3bc6ae-bf48-4372-83ed-cc6d878da3ba",
   "metadata": {
    "panel-layout": {
     "height": 170,
     "visible": true,
     "width": 100
    }
   },
   "outputs": [
    {
     "data": {
      "text/html": [
       "<div>\n",
       "<style scoped>\n",
       "    .dataframe tbody tr th:only-of-type {\n",
       "        vertical-align: middle;\n",
       "    }\n",
       "\n",
       "    .dataframe tbody tr th {\n",
       "        vertical-align: top;\n",
       "    }\n",
       "\n",
       "    .dataframe thead th {\n",
       "        text-align: right;\n",
       "    }\n",
       "</style>\n",
       "<table border=\"1\" class=\"dataframe\">\n",
       "  <thead>\n",
       "    <tr style=\"text-align: right;\">\n",
       "      <th></th>\n",
       "      <th>seller_id</th>\n",
       "      <th>seller_zip_code_prefix</th>\n",
       "      <th>seller_city</th>\n",
       "      <th>seller_state</th>\n",
       "    </tr>\n",
       "  </thead>\n",
       "  <tbody>\n",
       "    <tr>\n",
       "      <th>0</th>\n",
       "      <td>3442f8959a84dea7ee197c632cb2df15</td>\n",
       "      <td>13023</td>\n",
       "      <td>campinas</td>\n",
       "      <td>SP</td>\n",
       "    </tr>\n",
       "    <tr>\n",
       "      <th>1</th>\n",
       "      <td>d1b65fc7debc3361ea86b5f14c68d2e2</td>\n",
       "      <td>13844</td>\n",
       "      <td>mogi guacu</td>\n",
       "      <td>SP</td>\n",
       "    </tr>\n",
       "    <tr>\n",
       "      <th>2</th>\n",
       "      <td>ce3ad9de960102d0677a81f5d0bb7b2d</td>\n",
       "      <td>20031</td>\n",
       "      <td>rio de janeiro</td>\n",
       "      <td>RJ</td>\n",
       "    </tr>\n",
       "    <tr>\n",
       "      <th>3</th>\n",
       "      <td>c0f3eea2e14555b6faeea3dd58c1b1c3</td>\n",
       "      <td>4195</td>\n",
       "      <td>sao paulo</td>\n",
       "      <td>SP</td>\n",
       "    </tr>\n",
       "    <tr>\n",
       "      <th>4</th>\n",
       "      <td>51a04a8a6bdcb23deccc82b0b80742cf</td>\n",
       "      <td>12914</td>\n",
       "      <td>braganca paulista</td>\n",
       "      <td>SP</td>\n",
       "    </tr>\n",
       "  </tbody>\n",
       "</table>\n",
       "</div>"
      ],
      "text/plain": [
       "                          seller_id  seller_zip_code_prefix  \\\n",
       "0  3442f8959a84dea7ee197c632cb2df15                   13023   \n",
       "1  d1b65fc7debc3361ea86b5f14c68d2e2                   13844   \n",
       "2  ce3ad9de960102d0677a81f5d0bb7b2d                   20031   \n",
       "3  c0f3eea2e14555b6faeea3dd58c1b1c3                    4195   \n",
       "4  51a04a8a6bdcb23deccc82b0b80742cf                   12914   \n",
       "\n",
       "         seller_city seller_state  \n",
       "0           campinas           SP  \n",
       "1         mogi guacu           SP  \n",
       "2     rio de janeiro           RJ  \n",
       "3          sao paulo           SP  \n",
       "4  braganca paulista           SP  "
      ]
     },
     "execution_count": 45,
     "metadata": {},
     "output_type": "execute_result"
    }
   ],
   "source": [
    "sellers_df = pd.read_csv(\"data/sellers.csv\") # Memanggil Code Sebelumnya\n",
    "sellers_df.head()"
   ]
  },
  {
   "cell_type": "code",
   "execution_count": 46,
   "id": "03e84de9-0667-4367-83b5-c08fdb820183",
   "metadata": {
    "panel-layout": {
     "height": 0,
     "visible": true,
     "width": 100
    }
   },
   "outputs": [
    {
     "name": "stdout",
     "output_type": "stream",
     "text": [
      "<class 'pandas.core.frame.DataFrame'>\n",
      "RangeIndex: 3095 entries, 0 to 3094\n",
      "Data columns (total 4 columns):\n",
      " #   Column                  Non-Null Count  Dtype \n",
      "---  ------                  --------------  ----- \n",
      " 0   seller_id               3095 non-null   object\n",
      " 1   seller_zip_code_prefix  3095 non-null   int64 \n",
      " 2   seller_city             3095 non-null   object\n",
      " 3   seller_state            3095 non-null   object\n",
      "dtypes: int64(1), object(3)\n",
      "memory usage: 96.8+ KB\n"
     ]
    }
   ],
   "source": [
    "sellers_df.info()"
   ]
  },
  {
   "cell_type": "code",
   "execution_count": 47,
   "id": "8754d168-31e1-4f0e-94e7-616419cdd40d",
   "metadata": {
    "panel-layout": {
     "height": 143.4545440673828,
     "visible": true,
     "width": 100
    }
   },
   "outputs": [
    {
     "data": {
      "text/plain": [
       "seller_id                 0\n",
       "seller_zip_code_prefix    0\n",
       "seller_city               0\n",
       "seller_state              0\n",
       "dtype: int64"
      ]
     },
     "execution_count": 47,
     "metadata": {},
     "output_type": "execute_result"
    }
   ],
   "source": [
    "sellers_df.isna().sum()"
   ]
  },
  {
   "cell_type": "code",
   "execution_count": 48,
   "id": "4d7169e4-2faa-4765-8910-501632d60fa1",
   "metadata": {
    "panel-layout": {
     "height": 0,
     "visible": true,
     "width": 100
    }
   },
   "outputs": [
    {
     "name": "stdout",
     "output_type": "stream",
     "text": [
      "Duplikasi:  0\n"
     ]
    }
   ],
   "source": [
    "print(\"Duplikasi: \", sellers_df.duplicated().sum())"
   ]
  },
  {
   "cell_type": "markdown",
   "id": "aa07733b-b834-40f4-a071-6c4b61496764",
   "metadata": {
    "panel-layout": {
     "height": 177.9545440673828,
     "visible": true,
     "width": 100
    }
   },
   "source": [
    "Deskripsi : Dataset sellers.csv tidak memiliki Missing Value dan tidak memiliki data yang duplikat. Tipe data yang digunakan sudah sesuai dan memiliki 1 fitur dengan tipe data integer, dan  3 bertipe data object dari 3095 baris.\n",
    "\n",
    "Fitur :\n",
    "\n",
    "1. seller_id (Nilai id penjual)\n",
    "2. seller_zip_code_prefix (Nilai kode Pos)\n",
    "3. seller_city (Nilai nama kota penjual)\n",
    "4. seller_state (Nilai nama negara bagian penjual)"
   ]
  },
  {
   "cell_type": "markdown",
   "id": "e9cd55dc-c784-4623-a39b-433cad3d955b",
   "metadata": {},
   "source": [
    "CLEANING DATA"
   ]
  },
  {
   "cell_type": "markdown",
   "id": "66b3f4be-d708-4243-b595-b4092a1d2280",
   "metadata": {
    "panel-layout": {
     "height": 148.8181915283203,
     "visible": true,
     "width": 100
    }
   },
   "source": [
    "Rangkuman dari Analisa data diatas, berikut dataset yang perlu ditangani kebersihannya :\n",
    "\n",
    "1. Dataset Geo\n",
    "2. Dataset Orderitems\n",
    "3. Dataset Orderreviews\n",
    "4. Dataset Orders\n",
    "5. Dataset Products"
   ]
  },
  {
   "cell_type": "markdown",
   "id": "b2e80992-38cc-4f48-b20e-b8357790de26",
   "metadata": {},
   "source": [
    "DATASET GEOLOGIS (GEO)"
   ]
  },
  {
   "cell_type": "code",
   "execution_count": 49,
   "id": "29277738-da5f-459e-89e8-d56803bad2d9",
   "metadata": {
    "panel-layout": {
     "height": 170,
     "visible": true,
     "width": 100
    }
   },
   "outputs": [
    {
     "data": {
      "text/html": [
       "<div>\n",
       "<style scoped>\n",
       "    .dataframe tbody tr th:only-of-type {\n",
       "        vertical-align: middle;\n",
       "    }\n",
       "\n",
       "    .dataframe tbody tr th {\n",
       "        vertical-align: top;\n",
       "    }\n",
       "\n",
       "    .dataframe thead th {\n",
       "        text-align: right;\n",
       "    }\n",
       "</style>\n",
       "<table border=\"1\" class=\"dataframe\">\n",
       "  <thead>\n",
       "    <tr style=\"text-align: right;\">\n",
       "      <th></th>\n",
       "      <th>geolocation_zip_code_prefix</th>\n",
       "      <th>geolocation_lat</th>\n",
       "      <th>geolocation_lng</th>\n",
       "      <th>geolocation_city</th>\n",
       "      <th>geolocation_state</th>\n",
       "    </tr>\n",
       "  </thead>\n",
       "  <tbody>\n",
       "    <tr>\n",
       "      <th>0</th>\n",
       "      <td>1037</td>\n",
       "      <td>-23.545621</td>\n",
       "      <td>-46.639292</td>\n",
       "      <td>sao paulo</td>\n",
       "      <td>SP</td>\n",
       "    </tr>\n",
       "    <tr>\n",
       "      <th>1</th>\n",
       "      <td>1046</td>\n",
       "      <td>-23.546081</td>\n",
       "      <td>-46.644820</td>\n",
       "      <td>sao paulo</td>\n",
       "      <td>SP</td>\n",
       "    </tr>\n",
       "    <tr>\n",
       "      <th>2</th>\n",
       "      <td>1046</td>\n",
       "      <td>-23.546129</td>\n",
       "      <td>-46.642951</td>\n",
       "      <td>sao paulo</td>\n",
       "      <td>SP</td>\n",
       "    </tr>\n",
       "    <tr>\n",
       "      <th>3</th>\n",
       "      <td>1041</td>\n",
       "      <td>-23.544392</td>\n",
       "      <td>-46.639499</td>\n",
       "      <td>sao paulo</td>\n",
       "      <td>SP</td>\n",
       "    </tr>\n",
       "    <tr>\n",
       "      <th>4</th>\n",
       "      <td>1035</td>\n",
       "      <td>-23.541578</td>\n",
       "      <td>-46.641607</td>\n",
       "      <td>sao paulo</td>\n",
       "      <td>SP</td>\n",
       "    </tr>\n",
       "  </tbody>\n",
       "</table>\n",
       "</div>"
      ],
      "text/plain": [
       "   geolocation_zip_code_prefix  geolocation_lat  geolocation_lng  \\\n",
       "0                         1037       -23.545621       -46.639292   \n",
       "1                         1046       -23.546081       -46.644820   \n",
       "2                         1046       -23.546129       -46.642951   \n",
       "3                         1041       -23.544392       -46.639499   \n",
       "4                         1035       -23.541578       -46.641607   \n",
       "\n",
       "  geolocation_city geolocation_state  \n",
       "0        sao paulo                SP  \n",
       "1        sao paulo                SP  \n",
       "2        sao paulo                SP  \n",
       "3        sao paulo                SP  \n",
       "4        sao paulo                SP  "
      ]
     },
     "execution_count": 49,
     "metadata": {},
     "output_type": "execute_result"
    }
   ],
   "source": [
    "geo_df = pd.read_csv(\"data/geo.csv\")\n",
    "geo_df.head()"
   ]
  },
  {
   "cell_type": "code",
   "execution_count": 50,
   "id": "3880e6e3-db96-4cce-9b38-95ee40cd893e",
   "metadata": {
    "panel-layout": {
     "height": 0,
     "visible": true,
     "width": 100
    }
   },
   "outputs": [
    {
     "name": "stdout",
     "output_type": "stream",
     "text": [
      "Total Duplikasi : 261831\n"
     ]
    }
   ],
   "source": [
    "print(\"Total Duplikasi :\", geo_df.duplicated().sum())"
   ]
  },
  {
   "cell_type": "code",
   "execution_count": 51,
   "id": "59aba01e-7859-408a-b3ba-cc49b2c01408",
   "metadata": {
    "panel-layout": {
     "height": 0,
     "visible": true,
     "width": 100
    }
   },
   "outputs": [
    {
     "name": "stdout",
     "output_type": "stream",
     "text": [
      "         geolocation_zip_code_prefix  geolocation_lat  geolocation_lng  \\\n",
      "15                              1046       -23.546081       -46.644820   \n",
      "44                              1046       -23.546081       -46.644820   \n",
      "65                              1046       -23.546081       -46.644820   \n",
      "66                              1009       -23.546935       -46.636588   \n",
      "67                              1046       -23.546081       -46.644820   \n",
      "...                              ...              ...              ...   \n",
      "1000153                        99970       -28.343273       -51.873734   \n",
      "1000154                        99950       -28.070493       -52.011342   \n",
      "1000159                        99900       -27.877125       -52.224882   \n",
      "1000160                        99950       -28.071855       -52.014716   \n",
      "1000162                        99950       -28.070104       -52.018658   \n",
      "\n",
      "        geolocation_city geolocation_state  \n",
      "15             sao paulo                SP  \n",
      "44             sao paulo                SP  \n",
      "65             sao paulo                SP  \n",
      "66             sao paulo                SP  \n",
      "67             sao paulo                SP  \n",
      "...                  ...               ...  \n",
      "1000153          ciriaco                RS  \n",
      "1000154         tapejara                RS  \n",
      "1000159   getulio vargas                RS  \n",
      "1000160         tapejara                RS  \n",
      "1000162         tapejara                RS  \n",
      "\n",
      "[261831 rows x 5 columns]\n"
     ]
    }
   ],
   "source": [
    "duplikasi = geo_df[geo_df.duplicated()]\n",
    "print(duplikasi)"
   ]
  },
  {
   "cell_type": "code",
   "execution_count": 52,
   "id": "ab4da428-53d2-4be8-b3f9-78829d02a559",
   "metadata": {
    "panel-layout": {
     "height": 0,
     "visible": true,
     "width": 100
    }
   },
   "outputs": [],
   "source": [
    "geo_df.drop_duplicates(inplace=True) # Menghapus nilai yang duplikat"
   ]
  },
  {
   "cell_type": "code",
   "execution_count": 53,
   "id": "6e3290bf-07c7-4cd5-b3ca-3ff097cb5713",
   "metadata": {
    "panel-layout": {
     "height": 0,
     "visible": true,
     "width": 100
    }
   },
   "outputs": [
    {
     "name": "stdout",
     "output_type": "stream",
     "text": [
      "Total Duplikasi : 0\n"
     ]
    }
   ],
   "source": [
    "print(\"Total Duplikasi :\", geo_df.duplicated().sum())"
   ]
  },
  {
   "cell_type": "markdown",
   "id": "9c4c4366-b95e-4ee2-9e49-c6b3dc7be3f3",
   "metadata": {},
   "source": [
    "DATASET ORDERITEMS"
   ]
  },
  {
   "cell_type": "code",
   "execution_count": 54,
   "id": "1e0d252d-0881-42d6-9f1b-33ae25e496c3",
   "metadata": {
    "panel-layout": {
     "height": 256.54547119140625,
     "visible": true,
     "width": 100
    }
   },
   "outputs": [
    {
     "data": {
      "text/html": [
       "<div>\n",
       "<style scoped>\n",
       "    .dataframe tbody tr th:only-of-type {\n",
       "        vertical-align: middle;\n",
       "    }\n",
       "\n",
       "    .dataframe tbody tr th {\n",
       "        vertical-align: top;\n",
       "    }\n",
       "\n",
       "    .dataframe thead th {\n",
       "        text-align: right;\n",
       "    }\n",
       "</style>\n",
       "<table border=\"1\" class=\"dataframe\">\n",
       "  <thead>\n",
       "    <tr style=\"text-align: right;\">\n",
       "      <th></th>\n",
       "      <th>order_id</th>\n",
       "      <th>order_item_id</th>\n",
       "      <th>product_id</th>\n",
       "      <th>seller_id</th>\n",
       "      <th>shipping_limit_date</th>\n",
       "      <th>price</th>\n",
       "      <th>freight_value</th>\n",
       "    </tr>\n",
       "  </thead>\n",
       "  <tbody>\n",
       "    <tr>\n",
       "      <th>0</th>\n",
       "      <td>00010242fe8c5a6d1ba2dd792cb16214</td>\n",
       "      <td>1</td>\n",
       "      <td>4244733e06e7ecb4970a6e2683c13e61</td>\n",
       "      <td>48436dade18ac8b2bce089ec2a041202</td>\n",
       "      <td>2017-09-19 09:45:35</td>\n",
       "      <td>58.90</td>\n",
       "      <td>13.29</td>\n",
       "    </tr>\n",
       "    <tr>\n",
       "      <th>1</th>\n",
       "      <td>00018f77f2f0320c557190d7a144bdd3</td>\n",
       "      <td>1</td>\n",
       "      <td>e5f2d52b802189ee658865ca93d83a8f</td>\n",
       "      <td>dd7ddc04e1b6c2c614352b383efe2d36</td>\n",
       "      <td>2017-05-03 11:05:13</td>\n",
       "      <td>239.90</td>\n",
       "      <td>19.93</td>\n",
       "    </tr>\n",
       "    <tr>\n",
       "      <th>2</th>\n",
       "      <td>000229ec398224ef6ca0657da4fc703e</td>\n",
       "      <td>1</td>\n",
       "      <td>c777355d18b72b67abbeef9df44fd0fd</td>\n",
       "      <td>5b51032eddd242adc84c38acab88f23d</td>\n",
       "      <td>2018-01-18 14:48:30</td>\n",
       "      <td>199.00</td>\n",
       "      <td>17.87</td>\n",
       "    </tr>\n",
       "    <tr>\n",
       "      <th>3</th>\n",
       "      <td>00024acbcdf0a6daa1e931b038114c75</td>\n",
       "      <td>1</td>\n",
       "      <td>7634da152a4610f1595efa32f14722fc</td>\n",
       "      <td>9d7a1d34a5052409006425275ba1c2b4</td>\n",
       "      <td>2018-08-15 10:10:18</td>\n",
       "      <td>12.99</td>\n",
       "      <td>12.79</td>\n",
       "    </tr>\n",
       "    <tr>\n",
       "      <th>4</th>\n",
       "      <td>00042b26cf59d7ce69dfabb4e55b4fd9</td>\n",
       "      <td>1</td>\n",
       "      <td>ac6c3623068f30de03045865e4e10089</td>\n",
       "      <td>df560393f3a51e74553ab94004ba5c87</td>\n",
       "      <td>2017-02-13 13:57:51</td>\n",
       "      <td>199.90</td>\n",
       "      <td>18.14</td>\n",
       "    </tr>\n",
       "  </tbody>\n",
       "</table>\n",
       "</div>"
      ],
      "text/plain": [
       "                           order_id  order_item_id  \\\n",
       "0  00010242fe8c5a6d1ba2dd792cb16214              1   \n",
       "1  00018f77f2f0320c557190d7a144bdd3              1   \n",
       "2  000229ec398224ef6ca0657da4fc703e              1   \n",
       "3  00024acbcdf0a6daa1e931b038114c75              1   \n",
       "4  00042b26cf59d7ce69dfabb4e55b4fd9              1   \n",
       "\n",
       "                         product_id                         seller_id  \\\n",
       "0  4244733e06e7ecb4970a6e2683c13e61  48436dade18ac8b2bce089ec2a041202   \n",
       "1  e5f2d52b802189ee658865ca93d83a8f  dd7ddc04e1b6c2c614352b383efe2d36   \n",
       "2  c777355d18b72b67abbeef9df44fd0fd  5b51032eddd242adc84c38acab88f23d   \n",
       "3  7634da152a4610f1595efa32f14722fc  9d7a1d34a5052409006425275ba1c2b4   \n",
       "4  ac6c3623068f30de03045865e4e10089  df560393f3a51e74553ab94004ba5c87   \n",
       "\n",
       "   shipping_limit_date   price  freight_value  \n",
       "0  2017-09-19 09:45:35   58.90          13.29  \n",
       "1  2017-05-03 11:05:13  239.90          19.93  \n",
       "2  2018-01-18 14:48:30  199.00          17.87  \n",
       "3  2018-08-15 10:10:18   12.99          12.79  \n",
       "4  2017-02-13 13:57:51  199.90          18.14  "
      ]
     },
     "execution_count": 54,
     "metadata": {},
     "output_type": "execute_result"
    }
   ],
   "source": [
    "orderitems_df = pd.read_csv(\"data/orderitems.csv\")\n",
    "orderitems_df.head()"
   ]
  },
  {
   "cell_type": "code",
   "execution_count": 55,
   "id": "dcae4d6e-ca5b-4fb9-a6cf-a09eeb05e577",
   "metadata": {
    "panel-layout": {
     "height": 0,
     "visible": true,
     "width": 100
    }
   },
   "outputs": [
    {
     "name": "stdout",
     "output_type": "stream",
     "text": [
      "<class 'pandas.core.frame.DataFrame'>\n",
      "RangeIndex: 112650 entries, 0 to 112649\n",
      "Data columns (total 7 columns):\n",
      " #   Column               Non-Null Count   Dtype  \n",
      "---  ------               --------------   -----  \n",
      " 0   order_id             112650 non-null  object \n",
      " 1   order_item_id        112650 non-null  int64  \n",
      " 2   product_id           112650 non-null  object \n",
      " 3   seller_id            112650 non-null  object \n",
      " 4   shipping_limit_date  112650 non-null  object \n",
      " 5   price                112650 non-null  float64\n",
      " 6   freight_value        112650 non-null  float64\n",
      "dtypes: float64(2), int64(1), object(4)\n",
      "memory usage: 6.0+ MB\n"
     ]
    }
   ],
   "source": [
    "orderitems_df.info()"
   ]
  },
  {
   "cell_type": "code",
   "execution_count": 56,
   "id": "abf06438-7e0c-44e1-b5ab-c437ab9b61b3",
   "metadata": {},
   "outputs": [],
   "source": [
    "datetime_column = [\"shipping_limit_date\"]\n",
    "\n",
    "for column in datetime_column: # Memperbaiki tipedata agar sesuai dengan isi data\n",
    "    orderitems_df[column] = pd.to_datetime(orderitems_df[column])"
   ]
  },
  {
   "cell_type": "code",
   "execution_count": 57,
   "id": "cabd15f6-0bdd-4672-a51c-b95102a60037",
   "metadata": {
    "panel-layout": {
     "height": 0,
     "visible": true,
     "width": 100
    }
   },
   "outputs": [
    {
     "name": "stdout",
     "output_type": "stream",
     "text": [
      "<class 'pandas.core.frame.DataFrame'>\n",
      "RangeIndex: 112650 entries, 0 to 112649\n",
      "Data columns (total 7 columns):\n",
      " #   Column               Non-Null Count   Dtype         \n",
      "---  ------               --------------   -----         \n",
      " 0   order_id             112650 non-null  object        \n",
      " 1   order_item_id        112650 non-null  int64         \n",
      " 2   product_id           112650 non-null  object        \n",
      " 3   seller_id            112650 non-null  object        \n",
      " 4   shipping_limit_date  112650 non-null  datetime64[ns]\n",
      " 5   price                112650 non-null  float64       \n",
      " 6   freight_value        112650 non-null  float64       \n",
      "dtypes: datetime64[ns](1), float64(2), int64(1), object(3)\n",
      "memory usage: 6.0+ MB\n"
     ]
    }
   ],
   "source": [
    "orderitems_df.info()"
   ]
  },
  {
   "cell_type": "raw",
   "id": "da6a2e38-bba8-44ad-9590-8c0d80f40124",
   "metadata": {},
   "source": [
    "DATASET ORDERREVIEWS"
   ]
  },
  {
   "cell_type": "code",
   "execution_count": 58,
   "id": "78228c75-4c0e-40f8-b35a-b9aa79c249d4",
   "metadata": {
    "panel-layout": {
     "height": 300.18182373046875,
     "visible": true,
     "width": 100
    }
   },
   "outputs": [
    {
     "data": {
      "text/html": [
       "<div>\n",
       "<style scoped>\n",
       "    .dataframe tbody tr th:only-of-type {\n",
       "        vertical-align: middle;\n",
       "    }\n",
       "\n",
       "    .dataframe tbody tr th {\n",
       "        vertical-align: top;\n",
       "    }\n",
       "\n",
       "    .dataframe thead th {\n",
       "        text-align: right;\n",
       "    }\n",
       "</style>\n",
       "<table border=\"1\" class=\"dataframe\">\n",
       "  <thead>\n",
       "    <tr style=\"text-align: right;\">\n",
       "      <th></th>\n",
       "      <th>review_id</th>\n",
       "      <th>order_id</th>\n",
       "      <th>review_score</th>\n",
       "      <th>review_comment_title</th>\n",
       "      <th>review_comment_message</th>\n",
       "      <th>review_creation_date</th>\n",
       "      <th>review_answer_timestamp</th>\n",
       "    </tr>\n",
       "  </thead>\n",
       "  <tbody>\n",
       "    <tr>\n",
       "      <th>0</th>\n",
       "      <td>7bc2406110b926393aa56f80a40eba40</td>\n",
       "      <td>73fc7af87114b39712e6da79b0a377eb</td>\n",
       "      <td>4</td>\n",
       "      <td>NaN</td>\n",
       "      <td>NaN</td>\n",
       "      <td>2018-01-18 00:00:00</td>\n",
       "      <td>2018-01-18 21:46:59</td>\n",
       "    </tr>\n",
       "    <tr>\n",
       "      <th>1</th>\n",
       "      <td>80e641a11e56f04c1ad469d5645fdfde</td>\n",
       "      <td>a548910a1c6147796b98fdf73dbeba33</td>\n",
       "      <td>5</td>\n",
       "      <td>NaN</td>\n",
       "      <td>NaN</td>\n",
       "      <td>2018-03-10 00:00:00</td>\n",
       "      <td>2018-03-11 03:05:13</td>\n",
       "    </tr>\n",
       "    <tr>\n",
       "      <th>2</th>\n",
       "      <td>228ce5500dc1d8e020d8d1322874b6f0</td>\n",
       "      <td>f9e4b658b201a9f2ecdecbb34bed034b</td>\n",
       "      <td>5</td>\n",
       "      <td>NaN</td>\n",
       "      <td>NaN</td>\n",
       "      <td>2018-02-17 00:00:00</td>\n",
       "      <td>2018-02-18 14:36:24</td>\n",
       "    </tr>\n",
       "    <tr>\n",
       "      <th>3</th>\n",
       "      <td>e64fb393e7b32834bb789ff8bb30750e</td>\n",
       "      <td>658677c97b385a9be170737859d3511b</td>\n",
       "      <td>5</td>\n",
       "      <td>NaN</td>\n",
       "      <td>Recebi bem antes do prazo estipulado.</td>\n",
       "      <td>2017-04-21 00:00:00</td>\n",
       "      <td>2017-04-21 22:02:06</td>\n",
       "    </tr>\n",
       "    <tr>\n",
       "      <th>4</th>\n",
       "      <td>f7c4243c7fe1938f181bec41a392bdeb</td>\n",
       "      <td>8e6bfb81e283fa7e4f11123a3fb894f1</td>\n",
       "      <td>5</td>\n",
       "      <td>NaN</td>\n",
       "      <td>Parabéns lojas lannister adorei comprar pela I...</td>\n",
       "      <td>2018-03-01 00:00:00</td>\n",
       "      <td>2018-03-02 10:26:53</td>\n",
       "    </tr>\n",
       "  </tbody>\n",
       "</table>\n",
       "</div>"
      ],
      "text/plain": [
       "                          review_id                          order_id  \\\n",
       "0  7bc2406110b926393aa56f80a40eba40  73fc7af87114b39712e6da79b0a377eb   \n",
       "1  80e641a11e56f04c1ad469d5645fdfde  a548910a1c6147796b98fdf73dbeba33   \n",
       "2  228ce5500dc1d8e020d8d1322874b6f0  f9e4b658b201a9f2ecdecbb34bed034b   \n",
       "3  e64fb393e7b32834bb789ff8bb30750e  658677c97b385a9be170737859d3511b   \n",
       "4  f7c4243c7fe1938f181bec41a392bdeb  8e6bfb81e283fa7e4f11123a3fb894f1   \n",
       "\n",
       "   review_score review_comment_title  \\\n",
       "0             4                  NaN   \n",
       "1             5                  NaN   \n",
       "2             5                  NaN   \n",
       "3             5                  NaN   \n",
       "4             5                  NaN   \n",
       "\n",
       "                              review_comment_message review_creation_date  \\\n",
       "0                                                NaN  2018-01-18 00:00:00   \n",
       "1                                                NaN  2018-03-10 00:00:00   \n",
       "2                                                NaN  2018-02-17 00:00:00   \n",
       "3              Recebi bem antes do prazo estipulado.  2017-04-21 00:00:00   \n",
       "4  Parabéns lojas lannister adorei comprar pela I...  2018-03-01 00:00:00   \n",
       "\n",
       "  review_answer_timestamp  \n",
       "0     2018-01-18 21:46:59  \n",
       "1     2018-03-11 03:05:13  \n",
       "2     2018-02-18 14:36:24  \n",
       "3     2017-04-21 22:02:06  \n",
       "4     2018-03-02 10:26:53  "
      ]
     },
     "execution_count": 58,
     "metadata": {},
     "output_type": "execute_result"
    }
   ],
   "source": [
    "orderreviews_df = pd.read_csv(\"data/orderreviews.csv\")\n",
    "orderreviews_df.head()"
   ]
  },
  {
   "cell_type": "code",
   "execution_count": 59,
   "id": "83a71ec4-efcd-4389-a45e-fbb10ce14e7d",
   "metadata": {
    "panel-layout": {
     "height": 0,
     "visible": true,
     "width": 100
    }
   },
   "outputs": [
    {
     "name": "stdout",
     "output_type": "stream",
     "text": [
      "<class 'pandas.core.frame.DataFrame'>\n",
      "RangeIndex: 99224 entries, 0 to 99223\n",
      "Data columns (total 7 columns):\n",
      " #   Column                   Non-Null Count  Dtype \n",
      "---  ------                   --------------  ----- \n",
      " 0   review_id                99224 non-null  object\n",
      " 1   order_id                 99224 non-null  object\n",
      " 2   review_score             99224 non-null  int64 \n",
      " 3   review_comment_title     11568 non-null  object\n",
      " 4   review_comment_message   40977 non-null  object\n",
      " 5   review_creation_date     99224 non-null  object\n",
      " 6   review_answer_timestamp  99224 non-null  object\n",
      "dtypes: int64(1), object(6)\n",
      "memory usage: 5.3+ MB\n"
     ]
    }
   ],
   "source": [
    "orderreviews_df.info()"
   ]
  },
  {
   "cell_type": "code",
   "execution_count": 60,
   "id": "72be508c-3170-4842-9607-a7dbf872ecf2",
   "metadata": {},
   "outputs": [],
   "source": [
    "datetime_column = [\"review_creation_date\",\"review_answer_timestamp\"]\n",
    "\n",
    "for column in datetime_column: # Memperbaiki tipe data agar sesuai nilai data\n",
    "    orderreviews_df[column] = pd.to_datetime(orderreviews_df[column])"
   ]
  },
  {
   "cell_type": "code",
   "execution_count": 61,
   "id": "b14a7313-6e1f-49fa-8e26-d653e8d377bd",
   "metadata": {
    "panel-layout": {
     "height": 0,
     "visible": true,
     "width": 100
    }
   },
   "outputs": [
    {
     "name": "stdout",
     "output_type": "stream",
     "text": [
      "<class 'pandas.core.frame.DataFrame'>\n",
      "RangeIndex: 99224 entries, 0 to 99223\n",
      "Data columns (total 7 columns):\n",
      " #   Column                   Non-Null Count  Dtype         \n",
      "---  ------                   --------------  -----         \n",
      " 0   review_id                99224 non-null  object        \n",
      " 1   order_id                 99224 non-null  object        \n",
      " 2   review_score             99224 non-null  int64         \n",
      " 3   review_comment_title     11568 non-null  object        \n",
      " 4   review_comment_message   40977 non-null  object        \n",
      " 5   review_creation_date     99224 non-null  datetime64[ns]\n",
      " 6   review_answer_timestamp  99224 non-null  datetime64[ns]\n",
      "dtypes: datetime64[ns](2), int64(1), object(4)\n",
      "memory usage: 5.3+ MB\n"
     ]
    }
   ],
   "source": [
    "orderreviews_df.info()"
   ]
  },
  {
   "cell_type": "code",
   "execution_count": 62,
   "id": "8089f79a-3122-45b7-a036-93604d2b0292",
   "metadata": {
    "panel-layout": {
     "height": 223.09091186523438,
     "visible": true,
     "width": 100
    }
   },
   "outputs": [
    {
     "data": {
      "text/plain": [
       "review_id                      0\n",
       "order_id                       0\n",
       "review_score                   0\n",
       "review_comment_title       87656\n",
       "review_comment_message     58247\n",
       "review_creation_date           0\n",
       "review_answer_timestamp        0\n",
       "dtype: int64"
      ]
     },
     "execution_count": 62,
     "metadata": {},
     "output_type": "execute_result"
    }
   ],
   "source": [
    "orderreviews_df.isna().sum()"
   ]
  },
  {
   "cell_type": "code",
   "execution_count": 63,
   "id": "b99d9252-63a6-46cd-901d-3213ac33e13a",
   "metadata": {},
   "outputs": [
    {
     "name": "stdout",
     "output_type": "stream",
     "text": [
      "                              review_id                          order_id  \\\n",
      "0      7bc2406110b926393aa56f80a40eba40  73fc7af87114b39712e6da79b0a377eb   \n",
      "1      80e641a11e56f04c1ad469d5645fdfde  a548910a1c6147796b98fdf73dbeba33   \n",
      "2      228ce5500dc1d8e020d8d1322874b6f0  f9e4b658b201a9f2ecdecbb34bed034b   \n",
      "5      15197aa66ff4d0650b5434f1b46cda19  b18dcdf73be66366873cd26c5724d1dc   \n",
      "6      07f9bee5d1b850860defd761afa7ff16  e48aa0d2dcec3a2e87348811bcfdf22b   \n",
      "...                                 ...                               ...   \n",
      "99217  c6b270c61f67c9f7cb07d84ea8aeaf8b  48f7ee67313eda32bfcf5b9c1dd9522d   \n",
      "99218  af2dc0519de6e0720ef0c74292fb4114  d699c734a0b1c8111f2272a3f36d398c   \n",
      "99219  574ed12dd733e5fa530cfd4bbf39d7c9  2a8c23fee101d4d5662fa670396eb8da   \n",
      "99220  f3897127253a9592a73be9bdfdf4ed7a  22ec9f0669f784db00fa86d035cf8602   \n",
      "99222  1adeb9d84d72fe4e337617733eb85149  7725825d039fc1f0ceb7635e3f7d9206   \n",
      "\n",
      "       review_score review_comment_title review_comment_message  \\\n",
      "0                 4                  NaN                    NaN   \n",
      "1                 5                  NaN                    NaN   \n",
      "2                 5                  NaN                    NaN   \n",
      "5                 1                  NaN                    NaN   \n",
      "6                 5                  NaN                    NaN   \n",
      "...             ...                  ...                    ...   \n",
      "99217             5                  NaN                    NaN   \n",
      "99218             5                  NaN                    NaN   \n",
      "99219             5                  NaN                    NaN   \n",
      "99220             5                  NaN                    NaN   \n",
      "99222             4                  NaN                    NaN   \n",
      "\n",
      "      review_creation_date review_answer_timestamp  \n",
      "0               2018-01-18     2018-01-18 21:46:59  \n",
      "1               2018-03-10     2018-03-11 03:05:13  \n",
      "2               2018-02-17     2018-02-18 14:36:24  \n",
      "5               2018-04-13     2018-04-16 00:39:37  \n",
      "6               2017-07-16     2017-07-18 19:30:34  \n",
      "...                    ...                     ...  \n",
      "99217           2017-12-13     2017-12-14 11:09:36  \n",
      "99218           2018-04-27     2018-04-30 01:18:57  \n",
      "99219           2018-07-07     2018-07-14 17:18:30  \n",
      "99220           2017-12-09     2017-12-11 20:06:42  \n",
      "99222           2018-07-01     2018-07-02 12:59:13  \n",
      "\n",
      "[58247 rows x 7 columns]\n"
     ]
    }
   ],
   "source": [
    "missing_ordrev = orderreviews_df[orderreviews_df['review_comment_message'].isna()]\n",
    "print(missing_ordrev) # Melihat isi Missing Value dari fitur review_comment_message"
   ]
  },
  {
   "cell_type": "code",
   "execution_count": 64,
   "id": "18bc99a8-5f98-4a29-b138-9e744907d3b3",
   "metadata": {},
   "outputs": [
    {
     "name": "stdout",
     "output_type": "stream",
     "text": [
      "                              review_id                          order_id  \\\n",
      "0      7bc2406110b926393aa56f80a40eba40  73fc7af87114b39712e6da79b0a377eb   \n",
      "1      80e641a11e56f04c1ad469d5645fdfde  a548910a1c6147796b98fdf73dbeba33   \n",
      "2      228ce5500dc1d8e020d8d1322874b6f0  f9e4b658b201a9f2ecdecbb34bed034b   \n",
      "3      e64fb393e7b32834bb789ff8bb30750e  658677c97b385a9be170737859d3511b   \n",
      "4      f7c4243c7fe1938f181bec41a392bdeb  8e6bfb81e283fa7e4f11123a3fb894f1   \n",
      "...                                 ...                               ...   \n",
      "99219  574ed12dd733e5fa530cfd4bbf39d7c9  2a8c23fee101d4d5662fa670396eb8da   \n",
      "99220  f3897127253a9592a73be9bdfdf4ed7a  22ec9f0669f784db00fa86d035cf8602   \n",
      "99221  b3de70c89b1510c4cd3d0649fd302472  55d4004744368f5571d1f590031933e4   \n",
      "99222  1adeb9d84d72fe4e337617733eb85149  7725825d039fc1f0ceb7635e3f7d9206   \n",
      "99223  efe49f1d6f951dd88b51e6ccd4cc548f  90531360ecb1eec2a1fbb265a0db0508   \n",
      "\n",
      "       review_score review_comment_title  \\\n",
      "0                 4                  NaN   \n",
      "1                 5                  NaN   \n",
      "2                 5                  NaN   \n",
      "3                 5                  NaN   \n",
      "4                 5                  NaN   \n",
      "...             ...                  ...   \n",
      "99219             5                  NaN   \n",
      "99220             5                  NaN   \n",
      "99221             5                  NaN   \n",
      "99222             4                  NaN   \n",
      "99223             1                  NaN   \n",
      "\n",
      "                                  review_comment_message review_creation_date  \\\n",
      "0                                                    NaN           2018-01-18   \n",
      "1                                                    NaN           2018-03-10   \n",
      "2                                                    NaN           2018-02-17   \n",
      "3                  Recebi bem antes do prazo estipulado.           2017-04-21   \n",
      "4      Parabéns lojas lannister adorei comprar pela I...           2018-03-01   \n",
      "...                                                  ...                  ...   \n",
      "99219                                                NaN           2018-07-07   \n",
      "99220                                                NaN           2017-12-09   \n",
      "99221  Excelente mochila, entrega super rápida. Super...           2018-03-22   \n",
      "99222                                                NaN           2018-07-01   \n",
      "99223  meu produto chegou e ja tenho que devolver, po...           2017-07-03   \n",
      "\n",
      "      review_answer_timestamp  \n",
      "0         2018-01-18 21:46:59  \n",
      "1         2018-03-11 03:05:13  \n",
      "2         2018-02-18 14:36:24  \n",
      "3         2017-04-21 22:02:06  \n",
      "4         2018-03-02 10:26:53  \n",
      "...                       ...  \n",
      "99219     2018-07-14 17:18:30  \n",
      "99220     2017-12-11 20:06:42  \n",
      "99221     2018-03-23 09:10:43  \n",
      "99222     2018-07-02 12:59:13  \n",
      "99223     2017-07-03 21:01:49  \n",
      "\n",
      "[87656 rows x 7 columns]\n"
     ]
    }
   ],
   "source": [
    "missing_ordrev = orderreviews_df[orderreviews_df['review_comment_title'].isna()]\n",
    "print(missing_ordrev) # Melihat nilai hilang dari fitur review_comment_title"
   ]
  },
  {
   "cell_type": "code",
   "execution_count": 65,
   "id": "28b67388-3b22-432d-a761-af1f722b6f5a",
   "metadata": {
    "panel-layout": {
     "height": 0,
     "visible": true,
     "width": 100
    }
   },
   "outputs": [
    {
     "name": "stderr",
     "output_type": "stream",
     "text": [
      "C:\\Users\\Indib\\AppData\\Local\\Temp\\ipykernel_6776\\3264073875.py:1: FutureWarning: A value is trying to be set on a copy of a DataFrame or Series through chained assignment using an inplace method.\n",
      "The behavior will change in pandas 3.0. This inplace method will never work because the intermediate object on which we are setting values always behaves as a copy.\n",
      "\n",
      "For example, when doing 'df[col].method(value, inplace=True)', try using 'df.method({col: value}, inplace=True)' or df[col] = df[col].method(value) instead, to perform the operation inplace on the original object.\n",
      "\n",
      "\n",
      "  orderreviews_df['review_comment_title'].fillna('No Comment', inplace=True) # Mengisi nilai kosong dengan status ' No Comment '\n",
      "C:\\Users\\Indib\\AppData\\Local\\Temp\\ipykernel_6776\\3264073875.py:2: FutureWarning: A value is trying to be set on a copy of a DataFrame or Series through chained assignment using an inplace method.\n",
      "The behavior will change in pandas 3.0. This inplace method will never work because the intermediate object on which we are setting values always behaves as a copy.\n",
      "\n",
      "For example, when doing 'df[col].method(value, inplace=True)', try using 'df.method({col: value}, inplace=True)' or df[col] = df[col].method(value) instead, to perform the operation inplace on the original object.\n",
      "\n",
      "\n",
      "  orderreviews_df['review_comment_message'].fillna('No Message', inplace=True) # Mengisi nilai kosong dengan status ' No Message '\n"
     ]
    }
   ],
   "source": [
    "orderreviews_df['review_comment_title'].fillna('No Comment', inplace=True) # Mengisi nilai kosong dengan status ' No Comment '\n",
    "orderreviews_df['review_comment_message'].fillna('No Message', inplace=True) # Mengisi nilai kosong dengan status ' No Message '"
   ]
  },
  {
   "cell_type": "code",
   "execution_count": 66,
   "id": "065e4342-48d1-4e27-9cc2-23ad2e4abe3d",
   "metadata": {
    "panel-layout": {
     "height": 223.09091186523438,
     "visible": true,
     "width": 100
    }
   },
   "outputs": [
    {
     "data": {
      "text/plain": [
       "review_id                  0\n",
       "order_id                   0\n",
       "review_score               0\n",
       "review_comment_title       0\n",
       "review_comment_message     0\n",
       "review_creation_date       0\n",
       "review_answer_timestamp    0\n",
       "dtype: int64"
      ]
     },
     "execution_count": 66,
     "metadata": {},
     "output_type": "execute_result"
    }
   ],
   "source": [
    "orderreviews_df.isna().sum() # Mengecek kembali nilai yang terindikasi hilang"
   ]
  },
  {
   "cell_type": "raw",
   "id": "c5324386-be78-47f5-894e-f7b63fe15dbd",
   "metadata": {},
   "source": [
    "DATASET ORDERS"
   ]
  },
  {
   "cell_type": "code",
   "execution_count": 67,
   "id": "95970d0b-721e-400e-acfb-b69d45063ec2",
   "metadata": {},
   "outputs": [
    {
     "data": {
      "text/html": [
       "<div>\n",
       "<style scoped>\n",
       "    .dataframe tbody tr th:only-of-type {\n",
       "        vertical-align: middle;\n",
       "    }\n",
       "\n",
       "    .dataframe tbody tr th {\n",
       "        vertical-align: top;\n",
       "    }\n",
       "\n",
       "    .dataframe thead th {\n",
       "        text-align: right;\n",
       "    }\n",
       "</style>\n",
       "<table border=\"1\" class=\"dataframe\">\n",
       "  <thead>\n",
       "    <tr style=\"text-align: right;\">\n",
       "      <th></th>\n",
       "      <th>order_id</th>\n",
       "      <th>customer_id</th>\n",
       "      <th>order_status</th>\n",
       "      <th>order_purchase_timestamp</th>\n",
       "      <th>order_approved_at</th>\n",
       "      <th>order_delivered_carrier_date</th>\n",
       "      <th>order_delivered_customer_date</th>\n",
       "      <th>order_estimated_delivery_date</th>\n",
       "    </tr>\n",
       "  </thead>\n",
       "  <tbody>\n",
       "    <tr>\n",
       "      <th>0</th>\n",
       "      <td>e481f51cbdc54678b7cc49136f2d6af7</td>\n",
       "      <td>9ef432eb6251297304e76186b10a928d</td>\n",
       "      <td>delivered</td>\n",
       "      <td>2017-10-02 10:56:33</td>\n",
       "      <td>2017-10-02 11:07:15</td>\n",
       "      <td>2017-10-04 19:55:00</td>\n",
       "      <td>2017-10-10 21:25:13</td>\n",
       "      <td>2017-10-18 00:00:00</td>\n",
       "    </tr>\n",
       "    <tr>\n",
       "      <th>1</th>\n",
       "      <td>53cdb2fc8bc7dce0b6741e2150273451</td>\n",
       "      <td>b0830fb4747a6c6d20dea0b8c802d7ef</td>\n",
       "      <td>delivered</td>\n",
       "      <td>2018-07-24 20:41:37</td>\n",
       "      <td>2018-07-26 03:24:27</td>\n",
       "      <td>2018-07-26 14:31:00</td>\n",
       "      <td>2018-08-07 15:27:45</td>\n",
       "      <td>2018-08-13 00:00:00</td>\n",
       "    </tr>\n",
       "    <tr>\n",
       "      <th>2</th>\n",
       "      <td>47770eb9100c2d0c44946d9cf07ec65d</td>\n",
       "      <td>41ce2a54c0b03bf3443c3d931a367089</td>\n",
       "      <td>delivered</td>\n",
       "      <td>2018-08-08 08:38:49</td>\n",
       "      <td>2018-08-08 08:55:23</td>\n",
       "      <td>2018-08-08 13:50:00</td>\n",
       "      <td>2018-08-17 18:06:29</td>\n",
       "      <td>2018-09-04 00:00:00</td>\n",
       "    </tr>\n",
       "    <tr>\n",
       "      <th>3</th>\n",
       "      <td>949d5b44dbf5de918fe9c16f97b45f8a</td>\n",
       "      <td>f88197465ea7920adcdbec7375364d82</td>\n",
       "      <td>delivered</td>\n",
       "      <td>2017-11-18 19:28:06</td>\n",
       "      <td>2017-11-18 19:45:59</td>\n",
       "      <td>2017-11-22 13:39:59</td>\n",
       "      <td>2017-12-02 00:28:42</td>\n",
       "      <td>2017-12-15 00:00:00</td>\n",
       "    </tr>\n",
       "    <tr>\n",
       "      <th>4</th>\n",
       "      <td>ad21c59c0840e6cb83a9ceb5573f8159</td>\n",
       "      <td>8ab97904e6daea8866dbdbc4fb7aad2c</td>\n",
       "      <td>delivered</td>\n",
       "      <td>2018-02-13 21:18:39</td>\n",
       "      <td>2018-02-13 22:20:29</td>\n",
       "      <td>2018-02-14 19:46:34</td>\n",
       "      <td>2018-02-16 18:17:02</td>\n",
       "      <td>2018-02-26 00:00:00</td>\n",
       "    </tr>\n",
       "  </tbody>\n",
       "</table>\n",
       "</div>"
      ],
      "text/plain": [
       "                           order_id                       customer_id  \\\n",
       "0  e481f51cbdc54678b7cc49136f2d6af7  9ef432eb6251297304e76186b10a928d   \n",
       "1  53cdb2fc8bc7dce0b6741e2150273451  b0830fb4747a6c6d20dea0b8c802d7ef   \n",
       "2  47770eb9100c2d0c44946d9cf07ec65d  41ce2a54c0b03bf3443c3d931a367089   \n",
       "3  949d5b44dbf5de918fe9c16f97b45f8a  f88197465ea7920adcdbec7375364d82   \n",
       "4  ad21c59c0840e6cb83a9ceb5573f8159  8ab97904e6daea8866dbdbc4fb7aad2c   \n",
       "\n",
       "  order_status order_purchase_timestamp    order_approved_at  \\\n",
       "0    delivered      2017-10-02 10:56:33  2017-10-02 11:07:15   \n",
       "1    delivered      2018-07-24 20:41:37  2018-07-26 03:24:27   \n",
       "2    delivered      2018-08-08 08:38:49  2018-08-08 08:55:23   \n",
       "3    delivered      2017-11-18 19:28:06  2017-11-18 19:45:59   \n",
       "4    delivered      2018-02-13 21:18:39  2018-02-13 22:20:29   \n",
       "\n",
       "  order_delivered_carrier_date order_delivered_customer_date  \\\n",
       "0          2017-10-04 19:55:00           2017-10-10 21:25:13   \n",
       "1          2018-07-26 14:31:00           2018-08-07 15:27:45   \n",
       "2          2018-08-08 13:50:00           2018-08-17 18:06:29   \n",
       "3          2017-11-22 13:39:59           2017-12-02 00:28:42   \n",
       "4          2018-02-14 19:46:34           2018-02-16 18:17:02   \n",
       "\n",
       "  order_estimated_delivery_date  \n",
       "0           2017-10-18 00:00:00  \n",
       "1           2018-08-13 00:00:00  \n",
       "2           2018-09-04 00:00:00  \n",
       "3           2017-12-15 00:00:00  \n",
       "4           2018-02-26 00:00:00  "
      ]
     },
     "execution_count": 67,
     "metadata": {},
     "output_type": "execute_result"
    }
   ],
   "source": [
    "orders_df = pd.read_csv(\"data/orders.csv\")\n",
    "orders_df.head()"
   ]
  },
  {
   "cell_type": "code",
   "execution_count": 68,
   "id": "c709d4d2-0550-4662-ab89-70850431873f",
   "metadata": {},
   "outputs": [
    {
     "name": "stdout",
     "output_type": "stream",
     "text": [
      "<class 'pandas.core.frame.DataFrame'>\n",
      "RangeIndex: 99441 entries, 0 to 99440\n",
      "Data columns (total 8 columns):\n",
      " #   Column                         Non-Null Count  Dtype \n",
      "---  ------                         --------------  ----- \n",
      " 0   order_id                       99441 non-null  object\n",
      " 1   customer_id                    99441 non-null  object\n",
      " 2   order_status                   99441 non-null  object\n",
      " 3   order_purchase_timestamp       99441 non-null  object\n",
      " 4   order_approved_at              99281 non-null  object\n",
      " 5   order_delivered_carrier_date   97658 non-null  object\n",
      " 6   order_delivered_customer_date  96476 non-null  object\n",
      " 7   order_estimated_delivery_date  99441 non-null  object\n",
      "dtypes: object(8)\n",
      "memory usage: 6.1+ MB\n"
     ]
    }
   ],
   "source": [
    "orders_df.info()"
   ]
  },
  {
   "cell_type": "code",
   "execution_count": 69,
   "id": "b5c6df2e-be46-44fd-874f-8dc46ed35de5",
   "metadata": {},
   "outputs": [],
   "source": [
    "datetime_column = [\"order_purchase_timestamp\",\"order_approved_at\",\"order_delivered_carrier_date\",\"order_delivered_customer_date\",\"order_estimated_delivery_date\"]\n",
    "\n",
    "for column in datetime_column: # Memperbaiki tipedata agar sesuai dengan nilai data\n",
    "    orders_df[column] = pd.to_datetime(orders_df[column])"
   ]
  },
  {
   "cell_type": "code",
   "execution_count": 70,
   "id": "222b19e7-fa3d-4d21-abbb-e5b90c6fce69",
   "metadata": {},
   "outputs": [
    {
     "name": "stdout",
     "output_type": "stream",
     "text": [
      "<class 'pandas.core.frame.DataFrame'>\n",
      "RangeIndex: 99441 entries, 0 to 99440\n",
      "Data columns (total 8 columns):\n",
      " #   Column                         Non-Null Count  Dtype         \n",
      "---  ------                         --------------  -----         \n",
      " 0   order_id                       99441 non-null  object        \n",
      " 1   customer_id                    99441 non-null  object        \n",
      " 2   order_status                   99441 non-null  object        \n",
      " 3   order_purchase_timestamp       99441 non-null  datetime64[ns]\n",
      " 4   order_approved_at              99281 non-null  datetime64[ns]\n",
      " 5   order_delivered_carrier_date   97658 non-null  datetime64[ns]\n",
      " 6   order_delivered_customer_date  96476 non-null  datetime64[ns]\n",
      " 7   order_estimated_delivery_date  99441 non-null  datetime64[ns]\n",
      "dtypes: datetime64[ns](5), object(3)\n",
      "memory usage: 6.1+ MB\n"
     ]
    }
   ],
   "source": [
    "orders_df.info() # Memeriksa penyesuaian Tipedata yang sudah diubah"
   ]
  },
  {
   "cell_type": "code",
   "execution_count": 71,
   "id": "6a89ec1e-83ff-49f7-a3ef-1ee9a57b68e8",
   "metadata": {},
   "outputs": [
    {
     "data": {
      "text/plain": [
       "order_id                            0\n",
       "customer_id                         0\n",
       "order_status                        0\n",
       "order_purchase_timestamp            0\n",
       "order_approved_at                 160\n",
       "order_delivered_carrier_date     1783\n",
       "order_delivered_customer_date    2965\n",
       "order_estimated_delivery_date       0\n",
       "dtype: int64"
      ]
     },
     "execution_count": 71,
     "metadata": {},
     "output_type": "execute_result"
    }
   ],
   "source": [
    "orders_df.isna().sum() # Mengecek data yang hilang"
   ]
  },
  {
   "cell_type": "code",
   "execution_count": 72,
   "id": "992e4e39-37f1-4e03-829b-27dbca17337b",
   "metadata": {},
   "outputs": [
    {
     "name": "stdout",
     "output_type": "stream",
     "text": [
      "Rata-rata waktu dari carrier ke customer: 8.878310443119979 hari\n"
     ]
    },
    {
     "name": "stderr",
     "output_type": "stream",
     "text": [
      "C:\\Users\\Indib\\AppData\\Local\\Temp\\ipykernel_6776\\3954193938.py:3: SettingWithCopyWarning: \n",
      "A value is trying to be set on a copy of a slice from a DataFrame.\n",
      "Try using .loc[row_indexer,col_indexer] = value instead\n",
      "\n",
      "See the caveats in the documentation: https://pandas.pydata.org/pandas-docs/stable/user_guide/indexing.html#returning-a-view-versus-a-copy\n",
      "  valid_data['carrier_to_customer_days'] = (\n",
      "C:\\Users\\Indib\\AppData\\Local\\Temp\\ipykernel_6776\\3954193938.py:12: FutureWarning: A value is trying to be set on a copy of a DataFrame or Series through chained assignment using an inplace method.\n",
      "The behavior will change in pandas 3.0. This inplace method will never work because the intermediate object on which we are setting values always behaves as a copy.\n",
      "\n",
      "For example, when doing 'df[col].method(value, inplace=True)', try using 'df.method({col: value}, inplace=True)' or df[col] = df[col].method(value) instead, to perform the operation inplace on the original object.\n",
      "\n",
      "\n",
      "  orders_df['order_delivered_carrier_date'].fillna(\n",
      "C:\\Users\\Indib\\AppData\\Local\\Temp\\ipykernel_6776\\3954193938.py:17: FutureWarning: A value is trying to be set on a copy of a DataFrame or Series through chained assignment using an inplace method.\n",
      "The behavior will change in pandas 3.0. This inplace method will never work because the intermediate object on which we are setting values always behaves as a copy.\n",
      "\n",
      "For example, when doing 'df[col].method(value, inplace=True)', try using 'df.method({col: value}, inplace=True)' or df[col] = df[col].method(value) instead, to perform the operation inplace on the original object.\n",
      "\n",
      "\n",
      "  orders_df['order_delivered_customer_date'].fillna(\n"
     ]
    }
   ],
   "source": [
    "valid_data = orders_df.dropna(subset=['order_delivered_customer_date', 'order_delivered_carrier_date'])\n",
    "\n",
    "valid_data['carrier_to_customer_days'] = (\n",
    "    valid_data['order_delivered_customer_date'] - valid_data['order_delivered_carrier_date']\n",
    ").dt.days\n",
    "\n",
    "# Mengisi nilai hilang dengan rata-rata (means) waktu pada fitur order_delivered_carrier_date\n",
    "average_carrier_to_customer_days = valid_data['carrier_to_customer_days'].mean()\n",
    "print(f\"Rata-rata waktu dari carrier ke customer: {average_carrier_to_customer_days} hari\")\n",
    "\n",
    "# Mengisi nilai hilang pada fitur order_delivered_carrier_date\n",
    "orders_df['order_delivered_carrier_date'].fillna(\n",
    "    orders_df['order_estimated_delivery_date'] - pd.Timedelta(days=average_carrier_to_customer_days), inplace=True\n",
    ")\n",
    "\n",
    "# Mengisi nilai hilang pada fitur order_delivered_customer_date\n",
    "orders_df['order_delivered_customer_date'].fillna(\n",
    "    orders_df['order_estimated_delivery_date'], inplace=True\n",
    ")\n"
   ]
  },
  {
   "cell_type": "code",
   "execution_count": 73,
   "id": "d1c204ff-44fc-4c0e-8513-d699925e00ee",
   "metadata": {},
   "outputs": [
    {
     "name": "stdout",
     "output_type": "stream",
     "text": [
      "order_delivered_carrier_date     0\n",
      "order_delivered_customer_date    0\n",
      "dtype: int64\n"
     ]
    }
   ],
   "source": [
    "print(orders_df[['order_delivered_carrier_date', 'order_delivered_customer_date']].isna().sum())"
   ]
  },
  {
   "cell_type": "code",
   "execution_count": 74,
   "id": "57e45df1-21cf-47a1-b66d-931e441beb01",
   "metadata": {},
   "outputs": [
    {
     "name": "stdout",
     "output_type": "stream",
     "text": [
      "<class 'pandas.core.frame.DataFrame'>\n",
      "RangeIndex: 99441 entries, 0 to 99440\n",
      "Data columns (total 8 columns):\n",
      " #   Column                         Non-Null Count  Dtype         \n",
      "---  ------                         --------------  -----         \n",
      " 0   order_id                       99441 non-null  object        \n",
      " 1   customer_id                    99441 non-null  object        \n",
      " 2   order_status                   99441 non-null  object        \n",
      " 3   order_purchase_timestamp       99441 non-null  datetime64[ns]\n",
      " 4   order_approved_at              99281 non-null  datetime64[ns]\n",
      " 5   order_delivered_carrier_date   99441 non-null  datetime64[ns]\n",
      " 6   order_delivered_customer_date  99441 non-null  datetime64[ns]\n",
      " 7   order_estimated_delivery_date  99441 non-null  datetime64[ns]\n",
      "dtypes: datetime64[ns](5), object(3)\n",
      "memory usage: 6.1+ MB\n"
     ]
    }
   ],
   "source": [
    "orders_df.info() # Memastikan kembali fitur dari Missing Value"
   ]
  },
  {
   "cell_type": "code",
   "execution_count": 75,
   "id": "f838b9be-9e4c-490d-aa71-8916652d2821",
   "metadata": {},
   "outputs": [
    {
     "name": "stderr",
     "output_type": "stream",
     "text": [
      "C:\\Users\\Indib\\AppData\\Local\\Temp\\ipykernel_6776\\2277986284.py:5: SettingWithCopyWarning: \n",
      "A value is trying to be set on a copy of a slice from a DataFrame.\n",
      "Try using .loc[row_indexer,col_indexer] = value instead\n",
      "\n",
      "See the caveats in the documentation: https://pandas.pydata.org/pandas-docs/stable/user_guide/indexing.html#returning-a-view-versus-a-copy\n",
      "  valid_approval_data['purchase_to_approved_minutes'] = (\n",
      "C:\\Users\\Indib\\AppData\\Local\\Temp\\ipykernel_6776\\2277986284.py:14: FutureWarning: A value is trying to be set on a copy of a DataFrame or Series through chained assignment using an inplace method.\n",
      "The behavior will change in pandas 3.0. This inplace method will never work because the intermediate object on which we are setting values always behaves as a copy.\n",
      "\n",
      "For example, when doing 'df[col].method(value, inplace=True)', try using 'df.method({col: value}, inplace=True)' or df[col] = df[col].method(value) instead, to perform the operation inplace on the original object.\n",
      "\n",
      "\n",
      "  orders_df['order_approved_at'].fillna(\n"
     ]
    },
    {
     "name": "stdout",
     "output_type": "stream",
     "text": [
      "Rata-rata waktu persetujuan: 625.15 menit\n"
     ]
    }
   ],
   "source": [
    "# Membuat valid approval untuk mengisi nilai hilang pada order_approved_at\n",
    "valid_approval_data = orders_df.dropna(subset=['order_purchase_timestamp', 'order_approved_at'])\n",
    "\n",
    "# Menghitung selisih waktu antara saat pesanan dibuat dan disetujui\n",
    "valid_approval_data['purchase_to_approved_minutes'] = (\n",
    "    valid_approval_data['order_approved_at'] - valid_approval_data['order_purchase_timestamp']\n",
    ").dt.total_seconds() / 60  # Ubah ke menit\n",
    "\n",
    "# Menghitung rata-rata ke variabel purchase_to_approved_minutes yang dibuat sebelumnya\n",
    "average_approval_time = valid_approval_data['purchase_to_approved_minutes'].mean()\n",
    "print(f\"Rata-rata waktu persetujuan: {average_approval_time:.2f} menit\")\n",
    "\n",
    "# Mengisi nilai hilang dengan estimasi yang telah dihitung sebelumnya\n",
    "orders_df['order_approved_at'].fillna(\n",
    "    orders_df['order_purchase_timestamp'] + pd.Timedelta(minutes=average_approval_time), inplace=True\n",
    ")"
   ]
  },
  {
   "cell_type": "code",
   "execution_count": 76,
   "id": "cda3c867-8236-4ac3-81f4-e22d4a5162d6",
   "metadata": {},
   "outputs": [
    {
     "name": "stdout",
     "output_type": "stream",
     "text": [
      "0\n"
     ]
    }
   ],
   "source": [
    "print(orders_df['order_approved_at'].isna().sum()) # Mengecek kembali nilai yang hilang"
   ]
  },
  {
   "cell_type": "code",
   "execution_count": 77,
   "id": "0388cb4b-a81b-45e5-bcfb-d42da0083771",
   "metadata": {},
   "outputs": [
    {
     "name": "stdout",
     "output_type": "stream",
     "text": [
      "<class 'pandas.core.frame.DataFrame'>\n",
      "RangeIndex: 99441 entries, 0 to 99440\n",
      "Data columns (total 8 columns):\n",
      " #   Column                         Non-Null Count  Dtype         \n",
      "---  ------                         --------------  -----         \n",
      " 0   order_id                       99441 non-null  object        \n",
      " 1   customer_id                    99441 non-null  object        \n",
      " 2   order_status                   99441 non-null  object        \n",
      " 3   order_purchase_timestamp       99441 non-null  datetime64[ns]\n",
      " 4   order_approved_at              99441 non-null  datetime64[ns]\n",
      " 5   order_delivered_carrier_date   99441 non-null  datetime64[ns]\n",
      " 6   order_delivered_customer_date  99441 non-null  datetime64[ns]\n",
      " 7   order_estimated_delivery_date  99441 non-null  datetime64[ns]\n",
      "dtypes: datetime64[ns](5), object(3)\n",
      "memory usage: 6.1+ MB\n"
     ]
    }
   ],
   "source": [
    "orders_df.info() # Memastikan dataset lengkap"
   ]
  },
  {
   "cell_type": "markdown",
   "id": "a6475b21-eb21-4303-aea2-cf131e3a23aa",
   "metadata": {},
   "source": [
    "DATASET PRODUCTS"
   ]
  },
  {
   "cell_type": "markdown",
   "id": "79a5cb16-cfec-492c-b185-e8e72aa56b11",
   "metadata": {},
   "source": [
    "Karena dataset product masih menggunakan bahasa asing, kita lakukan dulu penggabungan dari dataset producttranslate untuk mengetahui nama produk dalam bahasa Inggris."
   ]
  },
  {
   "cell_type": "code",
   "execution_count": 78,
   "id": "c5910b19-5734-4ec6-ad4e-a57fa80df0f5",
   "metadata": {},
   "outputs": [
    {
     "data": {
      "text/html": [
       "<div>\n",
       "<style scoped>\n",
       "    .dataframe tbody tr th:only-of-type {\n",
       "        vertical-align: middle;\n",
       "    }\n",
       "\n",
       "    .dataframe tbody tr th {\n",
       "        vertical-align: top;\n",
       "    }\n",
       "\n",
       "    .dataframe thead th {\n",
       "        text-align: right;\n",
       "    }\n",
       "</style>\n",
       "<table border=\"1\" class=\"dataframe\">\n",
       "  <thead>\n",
       "    <tr style=\"text-align: right;\">\n",
       "      <th></th>\n",
       "      <th>product_id</th>\n",
       "      <th>product_category_name</th>\n",
       "      <th>product_name_lenght</th>\n",
       "      <th>product_description_lenght</th>\n",
       "      <th>product_photos_qty</th>\n",
       "      <th>product_weight_g</th>\n",
       "      <th>product_length_cm</th>\n",
       "      <th>product_height_cm</th>\n",
       "      <th>product_width_cm</th>\n",
       "    </tr>\n",
       "  </thead>\n",
       "  <tbody>\n",
       "    <tr>\n",
       "      <th>0</th>\n",
       "      <td>1e9e8ef04dbcff4541ed26657ea517e5</td>\n",
       "      <td>perfumaria</td>\n",
       "      <td>40.0</td>\n",
       "      <td>287.0</td>\n",
       "      <td>1.0</td>\n",
       "      <td>225.0</td>\n",
       "      <td>16.0</td>\n",
       "      <td>10.0</td>\n",
       "      <td>14.0</td>\n",
       "    </tr>\n",
       "    <tr>\n",
       "      <th>1</th>\n",
       "      <td>3aa071139cb16b67ca9e5dea641aaa2f</td>\n",
       "      <td>artes</td>\n",
       "      <td>44.0</td>\n",
       "      <td>276.0</td>\n",
       "      <td>1.0</td>\n",
       "      <td>1000.0</td>\n",
       "      <td>30.0</td>\n",
       "      <td>18.0</td>\n",
       "      <td>20.0</td>\n",
       "    </tr>\n",
       "    <tr>\n",
       "      <th>2</th>\n",
       "      <td>96bd76ec8810374ed1b65e291975717f</td>\n",
       "      <td>esporte_lazer</td>\n",
       "      <td>46.0</td>\n",
       "      <td>250.0</td>\n",
       "      <td>1.0</td>\n",
       "      <td>154.0</td>\n",
       "      <td>18.0</td>\n",
       "      <td>9.0</td>\n",
       "      <td>15.0</td>\n",
       "    </tr>\n",
       "    <tr>\n",
       "      <th>3</th>\n",
       "      <td>cef67bcfe19066a932b7673e239eb23d</td>\n",
       "      <td>bebes</td>\n",
       "      <td>27.0</td>\n",
       "      <td>261.0</td>\n",
       "      <td>1.0</td>\n",
       "      <td>371.0</td>\n",
       "      <td>26.0</td>\n",
       "      <td>4.0</td>\n",
       "      <td>26.0</td>\n",
       "    </tr>\n",
       "    <tr>\n",
       "      <th>4</th>\n",
       "      <td>9dc1a7de274444849c219cff195d0b71</td>\n",
       "      <td>utilidades_domesticas</td>\n",
       "      <td>37.0</td>\n",
       "      <td>402.0</td>\n",
       "      <td>4.0</td>\n",
       "      <td>625.0</td>\n",
       "      <td>20.0</td>\n",
       "      <td>17.0</td>\n",
       "      <td>13.0</td>\n",
       "    </tr>\n",
       "  </tbody>\n",
       "</table>\n",
       "</div>"
      ],
      "text/plain": [
       "                         product_id  product_category_name  \\\n",
       "0  1e9e8ef04dbcff4541ed26657ea517e5             perfumaria   \n",
       "1  3aa071139cb16b67ca9e5dea641aaa2f                  artes   \n",
       "2  96bd76ec8810374ed1b65e291975717f          esporte_lazer   \n",
       "3  cef67bcfe19066a932b7673e239eb23d                  bebes   \n",
       "4  9dc1a7de274444849c219cff195d0b71  utilidades_domesticas   \n",
       "\n",
       "   product_name_lenght  product_description_lenght  product_photos_qty  \\\n",
       "0                 40.0                       287.0                 1.0   \n",
       "1                 44.0                       276.0                 1.0   \n",
       "2                 46.0                       250.0                 1.0   \n",
       "3                 27.0                       261.0                 1.0   \n",
       "4                 37.0                       402.0                 4.0   \n",
       "\n",
       "   product_weight_g  product_length_cm  product_height_cm  product_width_cm  \n",
       "0             225.0               16.0               10.0              14.0  \n",
       "1            1000.0               30.0               18.0              20.0  \n",
       "2             154.0               18.0                9.0              15.0  \n",
       "3             371.0               26.0                4.0              26.0  \n",
       "4             625.0               20.0               17.0              13.0  "
      ]
     },
     "execution_count": 78,
     "metadata": {},
     "output_type": "execute_result"
    }
   ],
   "source": [
    "products_df = pd.read_csv(\"data/products.csv\")\n",
    "products_df.head()"
   ]
  },
  {
   "cell_type": "code",
   "execution_count": 79,
   "id": "69f7ad84-e070-4c68-875d-24578573c8c2",
   "metadata": {},
   "outputs": [
    {
     "name": "stdout",
     "output_type": "stream",
     "text": [
      "<class 'pandas.core.frame.DataFrame'>\n",
      "RangeIndex: 32951 entries, 0 to 32950\n",
      "Data columns (total 9 columns):\n",
      " #   Column                      Non-Null Count  Dtype  \n",
      "---  ------                      --------------  -----  \n",
      " 0   product_id                  32951 non-null  object \n",
      " 1   product_category_name       32341 non-null  object \n",
      " 2   product_name_lenght         32341 non-null  float64\n",
      " 3   product_description_lenght  32341 non-null  float64\n",
      " 4   product_photos_qty          32341 non-null  float64\n",
      " 5   product_weight_g            32949 non-null  float64\n",
      " 6   product_length_cm           32949 non-null  float64\n",
      " 7   product_height_cm           32949 non-null  float64\n",
      " 8   product_width_cm            32949 non-null  float64\n",
      "dtypes: float64(7), object(2)\n",
      "memory usage: 2.3+ MB\n"
     ]
    }
   ],
   "source": [
    "products_df.info() # Mengecek nilai hilang dan validasi tipe data"
   ]
  },
  {
   "cell_type": "code",
   "execution_count": 80,
   "id": "48c9ee60-c1df-41d7-8eb3-2a65c9ee64b2",
   "metadata": {},
   "outputs": [
    {
     "data": {
      "text/plain": [
       "product_id                      0\n",
       "product_category_name         610\n",
       "product_name_lenght           610\n",
       "product_description_lenght    610\n",
       "product_photos_qty            610\n",
       "product_weight_g                2\n",
       "product_length_cm               2\n",
       "product_height_cm               2\n",
       "product_width_cm                2\n",
       "dtype: int64"
      ]
     },
     "execution_count": 80,
     "metadata": {},
     "output_type": "execute_result"
    }
   ],
   "source": [
    "products_df.isna().sum() # Mengecek nilai hilang"
   ]
  },
  {
   "cell_type": "code",
   "execution_count": 81,
   "id": "8c6cfeb6-5195-4401-85bc-b3dc7ff66e20",
   "metadata": {},
   "outputs": [
    {
     "name": "stdout",
     "output_type": "stream",
     "text": [
      "                             product_id product_category_name  \\\n",
      "105    a41e356c76fab66334f36de622ecbd3a                   NaN   \n",
      "128    d8dee61c2034d6d075997acef1870e9b                   NaN   \n",
      "145    56139431d72cd51f19eb9f7dae4d1617                   NaN   \n",
      "154    46b48281eb6d663ced748f324108c733                   NaN   \n",
      "197    5fb61f482620cb672f5e586bb132eae9                   NaN   \n",
      "...                                 ...                   ...   \n",
      "32515  b0a0c5dd78e644373b199380612c350a                   NaN   \n",
      "32589  10dbe0fbaa2c505123c17fdc34a63c56                   NaN   \n",
      "32616  bd2ada37b58ae94cc838b9c0569fecd8                   NaN   \n",
      "32772  fa51e914046aab32764c41356b9d4ea4                   NaN   \n",
      "32852  c4ceee876c82b8328e9c293fa0e1989b                   NaN   \n",
      "\n",
      "       product_name_lenght  product_description_lenght  product_photos_qty  \\\n",
      "105                    NaN                         NaN                 NaN   \n",
      "128                    NaN                         NaN                 NaN   \n",
      "145                    NaN                         NaN                 NaN   \n",
      "154                    NaN                         NaN                 NaN   \n",
      "197                    NaN                         NaN                 NaN   \n",
      "...                    ...                         ...                 ...   \n",
      "32515                  NaN                         NaN                 NaN   \n",
      "32589                  NaN                         NaN                 NaN   \n",
      "32616                  NaN                         NaN                 NaN   \n",
      "32772                  NaN                         NaN                 NaN   \n",
      "32852                  NaN                         NaN                 NaN   \n",
      "\n",
      "       product_weight_g  product_length_cm  product_height_cm  \\\n",
      "105               650.0               17.0               14.0   \n",
      "128               300.0               16.0                7.0   \n",
      "145               200.0               20.0               20.0   \n",
      "154             18500.0               41.0               30.0   \n",
      "197               300.0               35.0                7.0   \n",
      "...                 ...                ...                ...   \n",
      "32515            1800.0               30.0               20.0   \n",
      "32589             800.0               30.0               10.0   \n",
      "32616             200.0               21.0                8.0   \n",
      "32772            1300.0               45.0               16.0   \n",
      "32852             700.0               28.0                3.0   \n",
      "\n",
      "       product_width_cm  \n",
      "105                12.0  \n",
      "128                20.0  \n",
      "145                20.0  \n",
      "154                41.0  \n",
      "197                12.0  \n",
      "...                 ...  \n",
      "32515              70.0  \n",
      "32589              23.0  \n",
      "32616              16.0  \n",
      "32772              45.0  \n",
      "32852              43.0  \n",
      "\n",
      "[611 rows x 9 columns]\n"
     ]
    }
   ],
   "source": [
    "missing_rows = products_df[products_df.isna().any(axis=1)]\n",
    "print(missing_rows)"
   ]
  },
  {
   "cell_type": "code",
   "execution_count": 82,
   "id": "972d249f-feec-469c-8d9f-43324d180d24",
   "metadata": {},
   "outputs": [
    {
     "name": "stderr",
     "output_type": "stream",
     "text": [
      "C:\\Users\\Indib\\AppData\\Local\\Temp\\ipykernel_6776\\2085279720.py:1: FutureWarning: A value is trying to be set on a copy of a DataFrame or Series through chained assignment using an inplace method.\n",
      "The behavior will change in pandas 3.0. This inplace method will never work because the intermediate object on which we are setting values always behaves as a copy.\n",
      "\n",
      "For example, when doing 'df[col].method(value, inplace=True)', try using 'df.method({col: value}, inplace=True)' or df[col] = df[col].method(value) instead, to perform the operation inplace on the original object.\n",
      "\n",
      "\n",
      "  products_df['product_category_name'].fillna(products_df['product_category_name'].mode()[0], inplace=True) # Mengisi nilai dengan mode (modus)\n"
     ]
    }
   ],
   "source": [
    "products_df['product_category_name'].fillna(products_df['product_category_name'].mode()[0], inplace=True) # Mengisi nilai dengan mode (modus)"
   ]
  },
  {
   "cell_type": "code",
   "execution_count": 83,
   "id": "9def40fb-106b-4b35-9ec9-b25082913570",
   "metadata": {},
   "outputs": [
    {
     "name": "stderr",
     "output_type": "stream",
     "text": [
      "C:\\Users\\Indib\\AppData\\Local\\Temp\\ipykernel_6776\\3011127695.py:1: FutureWarning: A value is trying to be set on a copy of a DataFrame or Series through chained assignment using an inplace method.\n",
      "The behavior will change in pandas 3.0. This inplace method will never work because the intermediate object on which we are setting values always behaves as a copy.\n",
      "\n",
      "For example, when doing 'df[col].method(value, inplace=True)', try using 'df.method({col: value}, inplace=True)' or df[col] = df[col].method(value) instead, to perform the operation inplace on the original object.\n",
      "\n",
      "\n",
      "  products_df['product_name_lenght'].fillna(products_df['product_name_lenght'].mode()[0], inplace=True) # Mengisi nilai hilang dengan mode (modus)\n"
     ]
    }
   ],
   "source": [
    "products_df['product_name_lenght'].fillna(products_df['product_name_lenght'].mode()[0], inplace=True) # Mengisi nilai hilang dengan mode (modus)"
   ]
  },
  {
   "cell_type": "code",
   "execution_count": 84,
   "id": "90a3b543-cb4f-46a6-b340-932b2cf4d6f3",
   "metadata": {},
   "outputs": [
    {
     "name": "stderr",
     "output_type": "stream",
     "text": [
      "C:\\Users\\Indib\\AppData\\Local\\Temp\\ipykernel_6776\\3757033942.py:1: FutureWarning: A value is trying to be set on a copy of a DataFrame or Series through chained assignment using an inplace method.\n",
      "The behavior will change in pandas 3.0. This inplace method will never work because the intermediate object on which we are setting values always behaves as a copy.\n",
      "\n",
      "For example, when doing 'df[col].method(value, inplace=True)', try using 'df.method({col: value}, inplace=True)' or df[col] = df[col].method(value) instead, to perform the operation inplace on the original object.\n",
      "\n",
      "\n",
      "  products_df['product_description_lenght'].fillna(products_df['product_description_lenght'].mode()[0], inplace=True) # Mengisi nilai hilang dengan mode (modus)\n"
     ]
    }
   ],
   "source": [
    "products_df['product_description_lenght'].fillna(products_df['product_description_lenght'].mode()[0], inplace=True) # Mengisi nilai hilang dengan mode (modus)"
   ]
  },
  {
   "cell_type": "code",
   "execution_count": 85,
   "id": "a952d060-b509-4b21-9a70-4f471f96f200",
   "metadata": {},
   "outputs": [
    {
     "name": "stderr",
     "output_type": "stream",
     "text": [
      "C:\\Users\\Indib\\AppData\\Local\\Temp\\ipykernel_6776\\2930613618.py:1: FutureWarning: A value is trying to be set on a copy of a DataFrame or Series through chained assignment using an inplace method.\n",
      "The behavior will change in pandas 3.0. This inplace method will never work because the intermediate object on which we are setting values always behaves as a copy.\n",
      "\n",
      "For example, when doing 'df[col].method(value, inplace=True)', try using 'df.method({col: value}, inplace=True)' or df[col] = df[col].method(value) instead, to perform the operation inplace on the original object.\n",
      "\n",
      "\n",
      "  products_df['product_photos_qty'].fillna(products_df['product_photos_qty'].mode()[0], inplace=True) # Mengisi nilai hilang dengan mode (modus)\n"
     ]
    }
   ],
   "source": [
    "products_df['product_photos_qty'].fillna(products_df['product_photos_qty'].mode()[0], inplace=True) # Mengisi nilai hilang dengan mode (modus)"
   ]
  },
  {
   "cell_type": "code",
   "execution_count": 86,
   "id": "265d6bcf-7cf8-4ba0-aded-9966b4c3acb8",
   "metadata": {},
   "outputs": [
    {
     "name": "stderr",
     "output_type": "stream",
     "text": [
      "C:\\Users\\Indib\\AppData\\Local\\Temp\\ipykernel_6776\\2092385665.py:3: FutureWarning: A value is trying to be set on a copy of a DataFrame or Series through chained assignment using an inplace method.\n",
      "The behavior will change in pandas 3.0. This inplace method will never work because the intermediate object on which we are setting values always behaves as a copy.\n",
      "\n",
      "For example, when doing 'df[col].method(value, inplace=True)', try using 'df.method({col: value}, inplace=True)' or df[col] = df[col].method(value) instead, to perform the operation inplace on the original object.\n",
      "\n",
      "\n",
      "  products_df[col].fillna(products_df[col].median(), inplace=True) # Mengisi nilai hilang dengan median\n"
     ]
    }
   ],
   "source": [
    "numerical_cols = ['product_weight_g', 'product_length_cm', 'product_height_cm', 'product_width_cm']\n",
    "for col in numerical_cols:\n",
    "    products_df[col].fillna(products_df[col].median(), inplace=True) # Mengisi nilai hilang dengan median"
   ]
  },
  {
   "cell_type": "code",
   "execution_count": 87,
   "id": "36fc5b44-3b15-495e-8809-aa5f22f86ae5",
   "metadata": {},
   "outputs": [
    {
     "name": "stdout",
     "output_type": "stream",
     "text": [
      "product_id                    0\n",
      "product_category_name         0\n",
      "product_name_lenght           0\n",
      "product_description_lenght    0\n",
      "product_photos_qty            0\n",
      "product_weight_g              0\n",
      "product_length_cm             0\n",
      "product_height_cm             0\n",
      "product_width_cm              0\n",
      "dtype: int64\n"
     ]
    }
   ],
   "source": [
    "print(products_df.isna().sum()) # Memastikan nilai yang hilang"
   ]
  },
  {
   "cell_type": "code",
   "execution_count": 88,
   "id": "f8891c81-e36a-4863-8945-b9938f01366b",
   "metadata": {
    "scrolled": true
   },
   "outputs": [
    {
     "data": {
      "text/html": [
       "<div>\n",
       "<style scoped>\n",
       "    .dataframe tbody tr th:only-of-type {\n",
       "        vertical-align: middle;\n",
       "    }\n",
       "\n",
       "    .dataframe tbody tr th {\n",
       "        vertical-align: top;\n",
       "    }\n",
       "\n",
       "    .dataframe thead th {\n",
       "        text-align: right;\n",
       "    }\n",
       "</style>\n",
       "<table border=\"1\" class=\"dataframe\">\n",
       "  <thead>\n",
       "    <tr style=\"text-align: right;\">\n",
       "      <th></th>\n",
       "      <th>product_id</th>\n",
       "      <th>product_category_name</th>\n",
       "      <th>product_name_lenght</th>\n",
       "      <th>product_description_lenght</th>\n",
       "      <th>product_photos_qty</th>\n",
       "      <th>product_weight_g</th>\n",
       "      <th>product_length_cm</th>\n",
       "      <th>product_height_cm</th>\n",
       "      <th>product_width_cm</th>\n",
       "    </tr>\n",
       "  </thead>\n",
       "  <tbody>\n",
       "    <tr>\n",
       "      <th>0</th>\n",
       "      <td>1e9e8ef04dbcff4541ed26657ea517e5</td>\n",
       "      <td>perfumaria</td>\n",
       "      <td>40.0</td>\n",
       "      <td>287.0</td>\n",
       "      <td>1.0</td>\n",
       "      <td>225.0</td>\n",
       "      <td>16.0</td>\n",
       "      <td>10.0</td>\n",
       "      <td>14.0</td>\n",
       "    </tr>\n",
       "    <tr>\n",
       "      <th>1</th>\n",
       "      <td>3aa071139cb16b67ca9e5dea641aaa2f</td>\n",
       "      <td>artes</td>\n",
       "      <td>44.0</td>\n",
       "      <td>276.0</td>\n",
       "      <td>1.0</td>\n",
       "      <td>1000.0</td>\n",
       "      <td>30.0</td>\n",
       "      <td>18.0</td>\n",
       "      <td>20.0</td>\n",
       "    </tr>\n",
       "    <tr>\n",
       "      <th>2</th>\n",
       "      <td>96bd76ec8810374ed1b65e291975717f</td>\n",
       "      <td>esporte_lazer</td>\n",
       "      <td>46.0</td>\n",
       "      <td>250.0</td>\n",
       "      <td>1.0</td>\n",
       "      <td>154.0</td>\n",
       "      <td>18.0</td>\n",
       "      <td>9.0</td>\n",
       "      <td>15.0</td>\n",
       "    </tr>\n",
       "    <tr>\n",
       "      <th>3</th>\n",
       "      <td>cef67bcfe19066a932b7673e239eb23d</td>\n",
       "      <td>bebes</td>\n",
       "      <td>27.0</td>\n",
       "      <td>261.0</td>\n",
       "      <td>1.0</td>\n",
       "      <td>371.0</td>\n",
       "      <td>26.0</td>\n",
       "      <td>4.0</td>\n",
       "      <td>26.0</td>\n",
       "    </tr>\n",
       "    <tr>\n",
       "      <th>4</th>\n",
       "      <td>9dc1a7de274444849c219cff195d0b71</td>\n",
       "      <td>utilidades_domesticas</td>\n",
       "      <td>37.0</td>\n",
       "      <td>402.0</td>\n",
       "      <td>4.0</td>\n",
       "      <td>625.0</td>\n",
       "      <td>20.0</td>\n",
       "      <td>17.0</td>\n",
       "      <td>13.0</td>\n",
       "    </tr>\n",
       "  </tbody>\n",
       "</table>\n",
       "</div>"
      ],
      "text/plain": [
       "                         product_id  product_category_name  \\\n",
       "0  1e9e8ef04dbcff4541ed26657ea517e5             perfumaria   \n",
       "1  3aa071139cb16b67ca9e5dea641aaa2f                  artes   \n",
       "2  96bd76ec8810374ed1b65e291975717f          esporte_lazer   \n",
       "3  cef67bcfe19066a932b7673e239eb23d                  bebes   \n",
       "4  9dc1a7de274444849c219cff195d0b71  utilidades_domesticas   \n",
       "\n",
       "   product_name_lenght  product_description_lenght  product_photos_qty  \\\n",
       "0                 40.0                       287.0                 1.0   \n",
       "1                 44.0                       276.0                 1.0   \n",
       "2                 46.0                       250.0                 1.0   \n",
       "3                 27.0                       261.0                 1.0   \n",
       "4                 37.0                       402.0                 4.0   \n",
       "\n",
       "   product_weight_g  product_length_cm  product_height_cm  product_width_cm  \n",
       "0             225.0               16.0               10.0              14.0  \n",
       "1            1000.0               30.0               18.0              20.0  \n",
       "2             154.0               18.0                9.0              15.0  \n",
       "3             371.0               26.0                4.0              26.0  \n",
       "4             625.0               20.0               17.0              13.0  "
      ]
     },
     "execution_count": 88,
     "metadata": {},
     "output_type": "execute_result"
    }
   ],
   "source": [
    "products_df.head()"
   ]
  },
  {
   "cell_type": "code",
   "execution_count": 125,
   "id": "c2ed02f8-3556-43c8-a158-9117d043a0b5",
   "metadata": {},
   "outputs": [],
   "source": [
    "# Gabungkan products dengan producttranslate untuk mendapatkan nama kategori dalam bahasa Inggris\n",
    "products_merged = products_df.merge(producttranslate_df, on=\"product_category_name\", how=\"left\")\n",
    "\n",
    "# Gabungkan data orderitems dengan produk\n",
    "merged_data = orderitems_df.merge(products_merged, on=\"product_id\", how=\"left\")"
   ]
  },
  {
   "cell_type": "code",
   "execution_count": 126,
   "id": "7443d573-ce8d-43d7-867a-42f282dc324e",
   "metadata": {},
   "outputs": [
    {
     "data": {
      "text/html": [
       "<div>\n",
       "<style scoped>\n",
       "    .dataframe tbody tr th:only-of-type {\n",
       "        vertical-align: middle;\n",
       "    }\n",
       "\n",
       "    .dataframe tbody tr th {\n",
       "        vertical-align: top;\n",
       "    }\n",
       "\n",
       "    .dataframe thead th {\n",
       "        text-align: right;\n",
       "    }\n",
       "</style>\n",
       "<table border=\"1\" class=\"dataframe\">\n",
       "  <thead>\n",
       "    <tr style=\"text-align: right;\">\n",
       "      <th></th>\n",
       "      <th>product_id</th>\n",
       "      <th>product_category_name</th>\n",
       "      <th>product_name_lenght</th>\n",
       "      <th>product_description_lenght</th>\n",
       "      <th>product_photos_qty</th>\n",
       "      <th>product_weight_g</th>\n",
       "      <th>product_length_cm</th>\n",
       "      <th>product_height_cm</th>\n",
       "      <th>product_width_cm</th>\n",
       "      <th>product_category_name_english</th>\n",
       "    </tr>\n",
       "  </thead>\n",
       "  <tbody>\n",
       "    <tr>\n",
       "      <th>0</th>\n",
       "      <td>1e9e8ef04dbcff4541ed26657ea517e5</td>\n",
       "      <td>perfumaria</td>\n",
       "      <td>40.0</td>\n",
       "      <td>287.0</td>\n",
       "      <td>1.0</td>\n",
       "      <td>225.0</td>\n",
       "      <td>16.0</td>\n",
       "      <td>10.0</td>\n",
       "      <td>14.0</td>\n",
       "      <td>perfumery</td>\n",
       "    </tr>\n",
       "    <tr>\n",
       "      <th>1</th>\n",
       "      <td>3aa071139cb16b67ca9e5dea641aaa2f</td>\n",
       "      <td>artes</td>\n",
       "      <td>44.0</td>\n",
       "      <td>276.0</td>\n",
       "      <td>1.0</td>\n",
       "      <td>1000.0</td>\n",
       "      <td>30.0</td>\n",
       "      <td>18.0</td>\n",
       "      <td>20.0</td>\n",
       "      <td>art</td>\n",
       "    </tr>\n",
       "    <tr>\n",
       "      <th>2</th>\n",
       "      <td>96bd76ec8810374ed1b65e291975717f</td>\n",
       "      <td>esporte_lazer</td>\n",
       "      <td>46.0</td>\n",
       "      <td>250.0</td>\n",
       "      <td>1.0</td>\n",
       "      <td>154.0</td>\n",
       "      <td>18.0</td>\n",
       "      <td>9.0</td>\n",
       "      <td>15.0</td>\n",
       "      <td>sports_leisure</td>\n",
       "    </tr>\n",
       "    <tr>\n",
       "      <th>3</th>\n",
       "      <td>cef67bcfe19066a932b7673e239eb23d</td>\n",
       "      <td>bebes</td>\n",
       "      <td>27.0</td>\n",
       "      <td>261.0</td>\n",
       "      <td>1.0</td>\n",
       "      <td>371.0</td>\n",
       "      <td>26.0</td>\n",
       "      <td>4.0</td>\n",
       "      <td>26.0</td>\n",
       "      <td>baby</td>\n",
       "    </tr>\n",
       "    <tr>\n",
       "      <th>4</th>\n",
       "      <td>9dc1a7de274444849c219cff195d0b71</td>\n",
       "      <td>utilidades_domesticas</td>\n",
       "      <td>37.0</td>\n",
       "      <td>402.0</td>\n",
       "      <td>4.0</td>\n",
       "      <td>625.0</td>\n",
       "      <td>20.0</td>\n",
       "      <td>17.0</td>\n",
       "      <td>13.0</td>\n",
       "      <td>housewares</td>\n",
       "    </tr>\n",
       "    <tr>\n",
       "      <th>5</th>\n",
       "      <td>41d3672d4792049fa1779bb35283ed13</td>\n",
       "      <td>instrumentos_musicais</td>\n",
       "      <td>60.0</td>\n",
       "      <td>745.0</td>\n",
       "      <td>1.0</td>\n",
       "      <td>200.0</td>\n",
       "      <td>38.0</td>\n",
       "      <td>5.0</td>\n",
       "      <td>11.0</td>\n",
       "      <td>musical_instruments</td>\n",
       "    </tr>\n",
       "    <tr>\n",
       "      <th>6</th>\n",
       "      <td>732bd381ad09e530fe0a5f457d81becb</td>\n",
       "      <td>cool_stuff</td>\n",
       "      <td>56.0</td>\n",
       "      <td>1272.0</td>\n",
       "      <td>4.0</td>\n",
       "      <td>18350.0</td>\n",
       "      <td>70.0</td>\n",
       "      <td>24.0</td>\n",
       "      <td>44.0</td>\n",
       "      <td>cool_stuff</td>\n",
       "    </tr>\n",
       "    <tr>\n",
       "      <th>7</th>\n",
       "      <td>2548af3e6e77a690cf3eb6368e9ab61e</td>\n",
       "      <td>moveis_decoracao</td>\n",
       "      <td>56.0</td>\n",
       "      <td>184.0</td>\n",
       "      <td>2.0</td>\n",
       "      <td>900.0</td>\n",
       "      <td>40.0</td>\n",
       "      <td>8.0</td>\n",
       "      <td>40.0</td>\n",
       "      <td>furniture_decor</td>\n",
       "    </tr>\n",
       "    <tr>\n",
       "      <th>8</th>\n",
       "      <td>37cc742be07708b53a98702e77a21a02</td>\n",
       "      <td>eletrodomesticos</td>\n",
       "      <td>57.0</td>\n",
       "      <td>163.0</td>\n",
       "      <td>1.0</td>\n",
       "      <td>400.0</td>\n",
       "      <td>27.0</td>\n",
       "      <td>13.0</td>\n",
       "      <td>17.0</td>\n",
       "      <td>home_appliances</td>\n",
       "    </tr>\n",
       "    <tr>\n",
       "      <th>9</th>\n",
       "      <td>8c92109888e8cdf9d66dc7e463025574</td>\n",
       "      <td>brinquedos</td>\n",
       "      <td>36.0</td>\n",
       "      <td>1156.0</td>\n",
       "      <td>1.0</td>\n",
       "      <td>600.0</td>\n",
       "      <td>17.0</td>\n",
       "      <td>10.0</td>\n",
       "      <td>12.0</td>\n",
       "      <td>toys</td>\n",
       "    </tr>\n",
       "  </tbody>\n",
       "</table>\n",
       "</div>"
      ],
      "text/plain": [
       "                         product_id  product_category_name  \\\n",
       "0  1e9e8ef04dbcff4541ed26657ea517e5             perfumaria   \n",
       "1  3aa071139cb16b67ca9e5dea641aaa2f                  artes   \n",
       "2  96bd76ec8810374ed1b65e291975717f          esporte_lazer   \n",
       "3  cef67bcfe19066a932b7673e239eb23d                  bebes   \n",
       "4  9dc1a7de274444849c219cff195d0b71  utilidades_domesticas   \n",
       "5  41d3672d4792049fa1779bb35283ed13  instrumentos_musicais   \n",
       "6  732bd381ad09e530fe0a5f457d81becb             cool_stuff   \n",
       "7  2548af3e6e77a690cf3eb6368e9ab61e       moveis_decoracao   \n",
       "8  37cc742be07708b53a98702e77a21a02       eletrodomesticos   \n",
       "9  8c92109888e8cdf9d66dc7e463025574             brinquedos   \n",
       "\n",
       "   product_name_lenght  product_description_lenght  product_photos_qty  \\\n",
       "0                 40.0                       287.0                 1.0   \n",
       "1                 44.0                       276.0                 1.0   \n",
       "2                 46.0                       250.0                 1.0   \n",
       "3                 27.0                       261.0                 1.0   \n",
       "4                 37.0                       402.0                 4.0   \n",
       "5                 60.0                       745.0                 1.0   \n",
       "6                 56.0                      1272.0                 4.0   \n",
       "7                 56.0                       184.0                 2.0   \n",
       "8                 57.0                       163.0                 1.0   \n",
       "9                 36.0                      1156.0                 1.0   \n",
       "\n",
       "   product_weight_g  product_length_cm  product_height_cm  product_width_cm  \\\n",
       "0             225.0               16.0               10.0              14.0   \n",
       "1            1000.0               30.0               18.0              20.0   \n",
       "2             154.0               18.0                9.0              15.0   \n",
       "3             371.0               26.0                4.0              26.0   \n",
       "4             625.0               20.0               17.0              13.0   \n",
       "5             200.0               38.0                5.0              11.0   \n",
       "6           18350.0               70.0               24.0              44.0   \n",
       "7             900.0               40.0                8.0              40.0   \n",
       "8             400.0               27.0               13.0              17.0   \n",
       "9             600.0               17.0               10.0              12.0   \n",
       "\n",
       "  product_category_name_english  \n",
       "0                     perfumery  \n",
       "1                           art  \n",
       "2                sports_leisure  \n",
       "3                          baby  \n",
       "4                    housewares  \n",
       "5           musical_instruments  \n",
       "6                    cool_stuff  \n",
       "7               furniture_decor  \n",
       "8               home_appliances  \n",
       "9                          toys  "
      ]
     },
     "execution_count": 126,
     "metadata": {},
     "output_type": "execute_result"
    }
   ],
   "source": [
    "products_merged.head(10)"
   ]
  },
  {
   "cell_type": "code",
   "execution_count": 127,
   "id": "fa5330c1-f1ee-46e2-b958-a8797e74f340",
   "metadata": {},
   "outputs": [
    {
     "data": {
      "text/html": [
       "<div>\n",
       "<style scoped>\n",
       "    .dataframe tbody tr th:only-of-type {\n",
       "        vertical-align: middle;\n",
       "    }\n",
       "\n",
       "    .dataframe tbody tr th {\n",
       "        vertical-align: top;\n",
       "    }\n",
       "\n",
       "    .dataframe thead th {\n",
       "        text-align: right;\n",
       "    }\n",
       "</style>\n",
       "<table border=\"1\" class=\"dataframe\">\n",
       "  <thead>\n",
       "    <tr style=\"text-align: right;\">\n",
       "      <th></th>\n",
       "      <th>order_id</th>\n",
       "      <th>order_item_id</th>\n",
       "      <th>product_id</th>\n",
       "      <th>seller_id</th>\n",
       "      <th>shipping_limit_date</th>\n",
       "      <th>price</th>\n",
       "      <th>freight_value</th>\n",
       "      <th>product_category_name</th>\n",
       "      <th>product_name_lenght</th>\n",
       "      <th>product_description_lenght</th>\n",
       "      <th>product_photos_qty</th>\n",
       "      <th>product_weight_g</th>\n",
       "      <th>product_length_cm</th>\n",
       "      <th>product_height_cm</th>\n",
       "      <th>product_width_cm</th>\n",
       "      <th>product_category_name_english</th>\n",
       "    </tr>\n",
       "  </thead>\n",
       "  <tbody>\n",
       "    <tr>\n",
       "      <th>0</th>\n",
       "      <td>00010242fe8c5a6d1ba2dd792cb16214</td>\n",
       "      <td>1</td>\n",
       "      <td>4244733e06e7ecb4970a6e2683c13e61</td>\n",
       "      <td>48436dade18ac8b2bce089ec2a041202</td>\n",
       "      <td>2017-09-19 09:45:35</td>\n",
       "      <td>58.90</td>\n",
       "      <td>13.29</td>\n",
       "      <td>cool_stuff</td>\n",
       "      <td>58.0</td>\n",
       "      <td>598.0</td>\n",
       "      <td>4.0</td>\n",
       "      <td>650.0</td>\n",
       "      <td>28.0</td>\n",
       "      <td>9.0</td>\n",
       "      <td>14.0</td>\n",
       "      <td>cool_stuff</td>\n",
       "    </tr>\n",
       "    <tr>\n",
       "      <th>1</th>\n",
       "      <td>00018f77f2f0320c557190d7a144bdd3</td>\n",
       "      <td>1</td>\n",
       "      <td>e5f2d52b802189ee658865ca93d83a8f</td>\n",
       "      <td>dd7ddc04e1b6c2c614352b383efe2d36</td>\n",
       "      <td>2017-05-03 11:05:13</td>\n",
       "      <td>239.90</td>\n",
       "      <td>19.93</td>\n",
       "      <td>pet_shop</td>\n",
       "      <td>56.0</td>\n",
       "      <td>239.0</td>\n",
       "      <td>2.0</td>\n",
       "      <td>30000.0</td>\n",
       "      <td>50.0</td>\n",
       "      <td>30.0</td>\n",
       "      <td>40.0</td>\n",
       "      <td>pet_shop</td>\n",
       "    </tr>\n",
       "    <tr>\n",
       "      <th>2</th>\n",
       "      <td>000229ec398224ef6ca0657da4fc703e</td>\n",
       "      <td>1</td>\n",
       "      <td>c777355d18b72b67abbeef9df44fd0fd</td>\n",
       "      <td>5b51032eddd242adc84c38acab88f23d</td>\n",
       "      <td>2018-01-18 14:48:30</td>\n",
       "      <td>199.00</td>\n",
       "      <td>17.87</td>\n",
       "      <td>moveis_decoracao</td>\n",
       "      <td>59.0</td>\n",
       "      <td>695.0</td>\n",
       "      <td>2.0</td>\n",
       "      <td>3050.0</td>\n",
       "      <td>33.0</td>\n",
       "      <td>13.0</td>\n",
       "      <td>33.0</td>\n",
       "      <td>furniture_decor</td>\n",
       "    </tr>\n",
       "    <tr>\n",
       "      <th>3</th>\n",
       "      <td>00024acbcdf0a6daa1e931b038114c75</td>\n",
       "      <td>1</td>\n",
       "      <td>7634da152a4610f1595efa32f14722fc</td>\n",
       "      <td>9d7a1d34a5052409006425275ba1c2b4</td>\n",
       "      <td>2018-08-15 10:10:18</td>\n",
       "      <td>12.99</td>\n",
       "      <td>12.79</td>\n",
       "      <td>perfumaria</td>\n",
       "      <td>42.0</td>\n",
       "      <td>480.0</td>\n",
       "      <td>1.0</td>\n",
       "      <td>200.0</td>\n",
       "      <td>16.0</td>\n",
       "      <td>10.0</td>\n",
       "      <td>15.0</td>\n",
       "      <td>perfumery</td>\n",
       "    </tr>\n",
       "    <tr>\n",
       "      <th>4</th>\n",
       "      <td>00042b26cf59d7ce69dfabb4e55b4fd9</td>\n",
       "      <td>1</td>\n",
       "      <td>ac6c3623068f30de03045865e4e10089</td>\n",
       "      <td>df560393f3a51e74553ab94004ba5c87</td>\n",
       "      <td>2017-02-13 13:57:51</td>\n",
       "      <td>199.90</td>\n",
       "      <td>18.14</td>\n",
       "      <td>ferramentas_jardim</td>\n",
       "      <td>59.0</td>\n",
       "      <td>409.0</td>\n",
       "      <td>1.0</td>\n",
       "      <td>3750.0</td>\n",
       "      <td>35.0</td>\n",
       "      <td>40.0</td>\n",
       "      <td>30.0</td>\n",
       "      <td>garden_tools</td>\n",
       "    </tr>\n",
       "  </tbody>\n",
       "</table>\n",
       "</div>"
      ],
      "text/plain": [
       "                           order_id  order_item_id  \\\n",
       "0  00010242fe8c5a6d1ba2dd792cb16214              1   \n",
       "1  00018f77f2f0320c557190d7a144bdd3              1   \n",
       "2  000229ec398224ef6ca0657da4fc703e              1   \n",
       "3  00024acbcdf0a6daa1e931b038114c75              1   \n",
       "4  00042b26cf59d7ce69dfabb4e55b4fd9              1   \n",
       "\n",
       "                         product_id                         seller_id  \\\n",
       "0  4244733e06e7ecb4970a6e2683c13e61  48436dade18ac8b2bce089ec2a041202   \n",
       "1  e5f2d52b802189ee658865ca93d83a8f  dd7ddc04e1b6c2c614352b383efe2d36   \n",
       "2  c777355d18b72b67abbeef9df44fd0fd  5b51032eddd242adc84c38acab88f23d   \n",
       "3  7634da152a4610f1595efa32f14722fc  9d7a1d34a5052409006425275ba1c2b4   \n",
       "4  ac6c3623068f30de03045865e4e10089  df560393f3a51e74553ab94004ba5c87   \n",
       "\n",
       "  shipping_limit_date   price  freight_value product_category_name  \\\n",
       "0 2017-09-19 09:45:35   58.90          13.29            cool_stuff   \n",
       "1 2017-05-03 11:05:13  239.90          19.93              pet_shop   \n",
       "2 2018-01-18 14:48:30  199.00          17.87      moveis_decoracao   \n",
       "3 2018-08-15 10:10:18   12.99          12.79            perfumaria   \n",
       "4 2017-02-13 13:57:51  199.90          18.14    ferramentas_jardim   \n",
       "\n",
       "   product_name_lenght  product_description_lenght  product_photos_qty  \\\n",
       "0                 58.0                       598.0                 4.0   \n",
       "1                 56.0                       239.0                 2.0   \n",
       "2                 59.0                       695.0                 2.0   \n",
       "3                 42.0                       480.0                 1.0   \n",
       "4                 59.0                       409.0                 1.0   \n",
       "\n",
       "   product_weight_g  product_length_cm  product_height_cm  product_width_cm  \\\n",
       "0             650.0               28.0                9.0              14.0   \n",
       "1           30000.0               50.0               30.0              40.0   \n",
       "2            3050.0               33.0               13.0              33.0   \n",
       "3             200.0               16.0               10.0              15.0   \n",
       "4            3750.0               35.0               40.0              30.0   \n",
       "\n",
       "  product_category_name_english  \n",
       "0                    cool_stuff  \n",
       "1                      pet_shop  \n",
       "2               furniture_decor  \n",
       "3                     perfumery  \n",
       "4                  garden_tools  "
      ]
     },
     "execution_count": 127,
     "metadata": {},
     "output_type": "execute_result"
    }
   ],
   "source": [
    "merged_data.head()"
   ]
  },
  {
   "attachments": {},
   "cell_type": "markdown",
   "id": "70e5ccd8-e7a1-4c11-bf41-559f36d46eb2",
   "metadata": {},
   "source": [
    "Exploratory Data Analysis (EDA)"
   ]
  },
  {
   "cell_type": "code",
   "execution_count": 89,
   "id": "96038631-fc34-409e-9d7c-a722ce6be6b9",
   "metadata": {},
   "outputs": [
    {
     "data": {
      "text/html": [
       "<div>\n",
       "<style scoped>\n",
       "    .dataframe tbody tr th:only-of-type {\n",
       "        vertical-align: middle;\n",
       "    }\n",
       "\n",
       "    .dataframe tbody tr th {\n",
       "        vertical-align: top;\n",
       "    }\n",
       "\n",
       "    .dataframe thead th {\n",
       "        text-align: right;\n",
       "    }\n",
       "</style>\n",
       "<table border=\"1\" class=\"dataframe\">\n",
       "  <thead>\n",
       "    <tr style=\"text-align: right;\">\n",
       "      <th></th>\n",
       "      <th>order_item_id</th>\n",
       "      <th>shipping_limit_date</th>\n",
       "      <th>price</th>\n",
       "      <th>freight_value</th>\n",
       "    </tr>\n",
       "  </thead>\n",
       "  <tbody>\n",
       "    <tr>\n",
       "      <th>count</th>\n",
       "      <td>112650.000000</td>\n",
       "      <td>112650</td>\n",
       "      <td>112650.000000</td>\n",
       "      <td>112650.000000</td>\n",
       "    </tr>\n",
       "    <tr>\n",
       "      <th>mean</th>\n",
       "      <td>1.197834</td>\n",
       "      <td>2018-01-07 15:36:52.192685312</td>\n",
       "      <td>120.653739</td>\n",
       "      <td>19.990320</td>\n",
       "    </tr>\n",
       "    <tr>\n",
       "      <th>min</th>\n",
       "      <td>1.000000</td>\n",
       "      <td>2016-09-19 00:15:34</td>\n",
       "      <td>0.850000</td>\n",
       "      <td>0.000000</td>\n",
       "    </tr>\n",
       "    <tr>\n",
       "      <th>25%</th>\n",
       "      <td>1.000000</td>\n",
       "      <td>2017-09-20 20:57:27.500000</td>\n",
       "      <td>39.900000</td>\n",
       "      <td>13.080000</td>\n",
       "    </tr>\n",
       "    <tr>\n",
       "      <th>50%</th>\n",
       "      <td>1.000000</td>\n",
       "      <td>2018-01-26 13:59:35</td>\n",
       "      <td>74.990000</td>\n",
       "      <td>16.260000</td>\n",
       "    </tr>\n",
       "    <tr>\n",
       "      <th>75%</th>\n",
       "      <td>1.000000</td>\n",
       "      <td>2018-05-10 14:34:00.750000128</td>\n",
       "      <td>134.900000</td>\n",
       "      <td>21.150000</td>\n",
       "    </tr>\n",
       "    <tr>\n",
       "      <th>max</th>\n",
       "      <td>21.000000</td>\n",
       "      <td>2020-04-09 22:35:08</td>\n",
       "      <td>6735.000000</td>\n",
       "      <td>409.680000</td>\n",
       "    </tr>\n",
       "    <tr>\n",
       "      <th>std</th>\n",
       "      <td>0.705124</td>\n",
       "      <td>NaN</td>\n",
       "      <td>183.633928</td>\n",
       "      <td>15.806405</td>\n",
       "    </tr>\n",
       "  </tbody>\n",
       "</table>\n",
       "</div>"
      ],
      "text/plain": [
       "       order_item_id            shipping_limit_date          price  \\\n",
       "count  112650.000000                         112650  112650.000000   \n",
       "mean        1.197834  2018-01-07 15:36:52.192685312     120.653739   \n",
       "min         1.000000            2016-09-19 00:15:34       0.850000   \n",
       "25%         1.000000     2017-09-20 20:57:27.500000      39.900000   \n",
       "50%         1.000000            2018-01-26 13:59:35      74.990000   \n",
       "75%         1.000000  2018-05-10 14:34:00.750000128     134.900000   \n",
       "max        21.000000            2020-04-09 22:35:08    6735.000000   \n",
       "std         0.705124                            NaN     183.633928   \n",
       "\n",
       "       freight_value  \n",
       "count  112650.000000  \n",
       "mean       19.990320  \n",
       "min         0.000000  \n",
       "25%        13.080000  \n",
       "50%        16.260000  \n",
       "75%        21.150000  \n",
       "max       409.680000  \n",
       "std        15.806405  "
      ]
     },
     "execution_count": 89,
     "metadata": {},
     "output_type": "execute_result"
    }
   ],
   "source": [
    "orderitems_df.describe()"
   ]
  },
  {
   "cell_type": "code",
   "execution_count": 90,
   "id": "1bd5b469-5d61-480a-be6d-a6dfd08e0fc1",
   "metadata": {},
   "outputs": [
    {
     "data": {
      "text/html": [
       "<div>\n",
       "<style scoped>\n",
       "    .dataframe tbody tr th:only-of-type {\n",
       "        vertical-align: middle;\n",
       "    }\n",
       "\n",
       "    .dataframe tbody tr th {\n",
       "        vertical-align: top;\n",
       "    }\n",
       "\n",
       "    .dataframe thead th {\n",
       "        text-align: right;\n",
       "    }\n",
       "</style>\n",
       "<table border=\"1\" class=\"dataframe\">\n",
       "  <thead>\n",
       "    <tr style=\"text-align: right;\">\n",
       "      <th></th>\n",
       "      <th>payment_sequential</th>\n",
       "      <th>payment_installments</th>\n",
       "      <th>payment_value</th>\n",
       "    </tr>\n",
       "  </thead>\n",
       "  <tbody>\n",
       "    <tr>\n",
       "      <th>count</th>\n",
       "      <td>103886.000000</td>\n",
       "      <td>103886.000000</td>\n",
       "      <td>103886.000000</td>\n",
       "    </tr>\n",
       "    <tr>\n",
       "      <th>mean</th>\n",
       "      <td>1.092679</td>\n",
       "      <td>2.853349</td>\n",
       "      <td>154.100380</td>\n",
       "    </tr>\n",
       "    <tr>\n",
       "      <th>std</th>\n",
       "      <td>0.706584</td>\n",
       "      <td>2.687051</td>\n",
       "      <td>217.494064</td>\n",
       "    </tr>\n",
       "    <tr>\n",
       "      <th>min</th>\n",
       "      <td>1.000000</td>\n",
       "      <td>0.000000</td>\n",
       "      <td>0.000000</td>\n",
       "    </tr>\n",
       "    <tr>\n",
       "      <th>25%</th>\n",
       "      <td>1.000000</td>\n",
       "      <td>1.000000</td>\n",
       "      <td>56.790000</td>\n",
       "    </tr>\n",
       "    <tr>\n",
       "      <th>50%</th>\n",
       "      <td>1.000000</td>\n",
       "      <td>1.000000</td>\n",
       "      <td>100.000000</td>\n",
       "    </tr>\n",
       "    <tr>\n",
       "      <th>75%</th>\n",
       "      <td>1.000000</td>\n",
       "      <td>4.000000</td>\n",
       "      <td>171.837500</td>\n",
       "    </tr>\n",
       "    <tr>\n",
       "      <th>max</th>\n",
       "      <td>29.000000</td>\n",
       "      <td>24.000000</td>\n",
       "      <td>13664.080000</td>\n",
       "    </tr>\n",
       "  </tbody>\n",
       "</table>\n",
       "</div>"
      ],
      "text/plain": [
       "       payment_sequential  payment_installments  payment_value\n",
       "count       103886.000000         103886.000000  103886.000000\n",
       "mean             1.092679              2.853349     154.100380\n",
       "std              0.706584              2.687051     217.494064\n",
       "min              1.000000              0.000000       0.000000\n",
       "25%              1.000000              1.000000      56.790000\n",
       "50%              1.000000              1.000000     100.000000\n",
       "75%              1.000000              4.000000     171.837500\n",
       "max             29.000000             24.000000   13664.080000"
      ]
     },
     "execution_count": 90,
     "metadata": {},
     "output_type": "execute_result"
    }
   ],
   "source": [
    "orderpays_df.describe()"
   ]
  },
  {
   "cell_type": "code",
   "execution_count": 91,
   "id": "697981e3-099a-4947-b153-5a813dbca9e2",
   "metadata": {},
   "outputs": [
    {
     "data": {
      "text/html": [
       "<div>\n",
       "<style scoped>\n",
       "    .dataframe tbody tr th:only-of-type {\n",
       "        vertical-align: middle;\n",
       "    }\n",
       "\n",
       "    .dataframe tbody tr th {\n",
       "        vertical-align: top;\n",
       "    }\n",
       "\n",
       "    .dataframe thead th {\n",
       "        text-align: right;\n",
       "    }\n",
       "</style>\n",
       "<table border=\"1\" class=\"dataframe\">\n",
       "  <thead>\n",
       "    <tr style=\"text-align: right;\">\n",
       "      <th></th>\n",
       "      <th>review_score</th>\n",
       "      <th>review_creation_date</th>\n",
       "      <th>review_answer_timestamp</th>\n",
       "    </tr>\n",
       "  </thead>\n",
       "  <tbody>\n",
       "    <tr>\n",
       "      <th>count</th>\n",
       "      <td>99224.000000</td>\n",
       "      <td>99224</td>\n",
       "      <td>99224</td>\n",
       "    </tr>\n",
       "    <tr>\n",
       "      <th>mean</th>\n",
       "      <td>4.086421</td>\n",
       "      <td>2018-01-12 20:49:23.948238336</td>\n",
       "      <td>2018-01-16 00:23:56.977938688</td>\n",
       "    </tr>\n",
       "    <tr>\n",
       "      <th>min</th>\n",
       "      <td>1.000000</td>\n",
       "      <td>2016-10-02 00:00:00</td>\n",
       "      <td>2016-10-07 18:32:28</td>\n",
       "    </tr>\n",
       "    <tr>\n",
       "      <th>25%</th>\n",
       "      <td>4.000000</td>\n",
       "      <td>2017-09-23 00:00:00</td>\n",
       "      <td>2017-09-27 01:53:27.249999872</td>\n",
       "    </tr>\n",
       "    <tr>\n",
       "      <th>50%</th>\n",
       "      <td>5.000000</td>\n",
       "      <td>2018-02-02 00:00:00</td>\n",
       "      <td>2018-02-04 22:41:47.500000</td>\n",
       "    </tr>\n",
       "    <tr>\n",
       "      <th>75%</th>\n",
       "      <td>5.000000</td>\n",
       "      <td>2018-05-16 00:00:00</td>\n",
       "      <td>2018-05-20 12:11:21.500000</td>\n",
       "    </tr>\n",
       "    <tr>\n",
       "      <th>max</th>\n",
       "      <td>5.000000</td>\n",
       "      <td>2018-08-31 00:00:00</td>\n",
       "      <td>2018-10-29 12:27:35</td>\n",
       "    </tr>\n",
       "    <tr>\n",
       "      <th>std</th>\n",
       "      <td>1.347579</td>\n",
       "      <td>NaN</td>\n",
       "      <td>NaN</td>\n",
       "    </tr>\n",
       "  </tbody>\n",
       "</table>\n",
       "</div>"
      ],
      "text/plain": [
       "       review_score           review_creation_date  \\\n",
       "count  99224.000000                          99224   \n",
       "mean       4.086421  2018-01-12 20:49:23.948238336   \n",
       "min        1.000000            2016-10-02 00:00:00   \n",
       "25%        4.000000            2017-09-23 00:00:00   \n",
       "50%        5.000000            2018-02-02 00:00:00   \n",
       "75%        5.000000            2018-05-16 00:00:00   \n",
       "max        5.000000            2018-08-31 00:00:00   \n",
       "std        1.347579                            NaN   \n",
       "\n",
       "             review_answer_timestamp  \n",
       "count                          99224  \n",
       "mean   2018-01-16 00:23:56.977938688  \n",
       "min              2016-10-07 18:32:28  \n",
       "25%    2017-09-27 01:53:27.249999872  \n",
       "50%       2018-02-04 22:41:47.500000  \n",
       "75%       2018-05-20 12:11:21.500000  \n",
       "max              2018-10-29 12:27:35  \n",
       "std                              NaN  "
      ]
     },
     "execution_count": 91,
     "metadata": {},
     "output_type": "execute_result"
    }
   ],
   "source": [
    "orderreviews_df.describe()"
   ]
  },
  {
   "cell_type": "code",
   "execution_count": 92,
   "id": "6f28e6fd-d467-46bc-8765-fcdafea2fd9b",
   "metadata": {},
   "outputs": [
    {
     "data": {
      "text/html": [
       "<div>\n",
       "<style scoped>\n",
       "    .dataframe tbody tr th:only-of-type {\n",
       "        vertical-align: middle;\n",
       "    }\n",
       "\n",
       "    .dataframe tbody tr th {\n",
       "        vertical-align: top;\n",
       "    }\n",
       "\n",
       "    .dataframe thead th {\n",
       "        text-align: right;\n",
       "    }\n",
       "</style>\n",
       "<table border=\"1\" class=\"dataframe\">\n",
       "  <thead>\n",
       "    <tr style=\"text-align: right;\">\n",
       "      <th></th>\n",
       "      <th>product_name_lenght</th>\n",
       "      <th>product_description_lenght</th>\n",
       "      <th>product_photos_qty</th>\n",
       "      <th>product_weight_g</th>\n",
       "      <th>product_length_cm</th>\n",
       "      <th>product_height_cm</th>\n",
       "      <th>product_width_cm</th>\n",
       "    </tr>\n",
       "  </thead>\n",
       "  <tbody>\n",
       "    <tr>\n",
       "      <th>count</th>\n",
       "      <td>32951.000000</td>\n",
       "      <td>32951.000000</td>\n",
       "      <td>32951.000000</td>\n",
       "      <td>32951.000000</td>\n",
       "      <td>32951.000000</td>\n",
       "      <td>32951.000000</td>\n",
       "      <td>32951.000000</td>\n",
       "    </tr>\n",
       "    <tr>\n",
       "      <th>mean</th>\n",
       "      <td>48.690267</td>\n",
       "      <td>764.692088</td>\n",
       "      <td>2.166975</td>\n",
       "      <td>2276.376802</td>\n",
       "      <td>30.814725</td>\n",
       "      <td>16.937422</td>\n",
       "      <td>23.196534</td>\n",
       "    </tr>\n",
       "    <tr>\n",
       "      <th>std</th>\n",
       "      <td>10.268615</td>\n",
       "      <td>631.155852</td>\n",
       "      <td>1.728063</td>\n",
       "      <td>4281.926387</td>\n",
       "      <td>16.914005</td>\n",
       "      <td>13.637175</td>\n",
       "      <td>12.078707</td>\n",
       "    </tr>\n",
       "    <tr>\n",
       "      <th>min</th>\n",
       "      <td>5.000000</td>\n",
       "      <td>4.000000</td>\n",
       "      <td>1.000000</td>\n",
       "      <td>0.000000</td>\n",
       "      <td>7.000000</td>\n",
       "      <td>2.000000</td>\n",
       "      <td>6.000000</td>\n",
       "    </tr>\n",
       "    <tr>\n",
       "      <th>25%</th>\n",
       "      <td>42.000000</td>\n",
       "      <td>344.000000</td>\n",
       "      <td>1.000000</td>\n",
       "      <td>300.000000</td>\n",
       "      <td>18.000000</td>\n",
       "      <td>8.000000</td>\n",
       "      <td>15.000000</td>\n",
       "    </tr>\n",
       "    <tr>\n",
       "      <th>50%</th>\n",
       "      <td>52.000000</td>\n",
       "      <td>584.000000</td>\n",
       "      <td>1.000000</td>\n",
       "      <td>700.000000</td>\n",
       "      <td>25.000000</td>\n",
       "      <td>13.000000</td>\n",
       "      <td>20.000000</td>\n",
       "    </tr>\n",
       "    <tr>\n",
       "      <th>75%</th>\n",
       "      <td>57.000000</td>\n",
       "      <td>961.000000</td>\n",
       "      <td>3.000000</td>\n",
       "      <td>1900.000000</td>\n",
       "      <td>38.000000</td>\n",
       "      <td>21.000000</td>\n",
       "      <td>30.000000</td>\n",
       "    </tr>\n",
       "    <tr>\n",
       "      <th>max</th>\n",
       "      <td>76.000000</td>\n",
       "      <td>3992.000000</td>\n",
       "      <td>20.000000</td>\n",
       "      <td>40425.000000</td>\n",
       "      <td>105.000000</td>\n",
       "      <td>105.000000</td>\n",
       "      <td>118.000000</td>\n",
       "    </tr>\n",
       "  </tbody>\n",
       "</table>\n",
       "</div>"
      ],
      "text/plain": [
       "       product_name_lenght  product_description_lenght  product_photos_qty  \\\n",
       "count         32951.000000                32951.000000        32951.000000   \n",
       "mean             48.690267                  764.692088            2.166975   \n",
       "std              10.268615                  631.155852            1.728063   \n",
       "min               5.000000                    4.000000            1.000000   \n",
       "25%              42.000000                  344.000000            1.000000   \n",
       "50%              52.000000                  584.000000            1.000000   \n",
       "75%              57.000000                  961.000000            3.000000   \n",
       "max              76.000000                 3992.000000           20.000000   \n",
       "\n",
       "       product_weight_g  product_length_cm  product_height_cm  \\\n",
       "count      32951.000000       32951.000000       32951.000000   \n",
       "mean        2276.376802          30.814725          16.937422   \n",
       "std         4281.926387          16.914005          13.637175   \n",
       "min            0.000000           7.000000           2.000000   \n",
       "25%          300.000000          18.000000           8.000000   \n",
       "50%          700.000000          25.000000          13.000000   \n",
       "75%         1900.000000          38.000000          21.000000   \n",
       "max        40425.000000         105.000000         105.000000   \n",
       "\n",
       "       product_width_cm  \n",
       "count      32951.000000  \n",
       "mean          23.196534  \n",
       "std           12.078707  \n",
       "min            6.000000  \n",
       "25%           15.000000  \n",
       "50%           20.000000  \n",
       "75%           30.000000  \n",
       "max          118.000000  "
      ]
     },
     "execution_count": 92,
     "metadata": {},
     "output_type": "execute_result"
    }
   ],
   "source": [
    "products_df.describe()"
   ]
  },
  {
   "cell_type": "code",
   "execution_count": 93,
   "id": "020bf2e2-ae29-4fb9-aee3-da9793b9652c",
   "metadata": {},
   "outputs": [
    {
     "name": "stdout",
     "output_type": "stream",
     "text": [
      "Harga (price) - Nilai Minimum: 0.85\n",
      "Harga (price) - Nilai Maksimum: 6735.0\n",
      "Biaya Pengiriman (freight_value) - Nilai Minimum: 0.0\n",
      "Biaya Pengiriman (freight_value) - Nilai Maksimum: 409.68\n",
      "Jumlah harga sangat rendah (< 1): 3\n",
      "Jumlah harga sangat tinggi (di atas Q99): 1117\n",
      "Jumlah biaya pengiriman 0: 383\n"
     ]
    }
   ],
   "source": [
    "# Mengecek nilai minimum dan maksimum\n",
    "print(\"Harga (price) - Nilai Minimum:\", orderitems_df['price'].min())\n",
    "print(\"Harga (price) - Nilai Maksimum:\", orderitems_df['price'].max())\n",
    "\n",
    "print(\"Biaya Pengiriman (freight_value) - Nilai Minimum:\", orderitems_df['freight_value'].min())\n",
    "print(\"Biaya Pengiriman (freight_value) - Nilai Maksimum:\", orderitems_df['freight_value'].max())\n",
    "\n",
    "# Filter data dengan nilai mencurigakan\n",
    "low_price = orderitems_df[orderitems_df['price'] < 1]\n",
    "high_price = orderitems_df[orderitems_df['price'] > orderitems_df['price'].quantile(0.99)]\n",
    "zero_freight = orderitems_df[orderitems_df['freight_value'] == 0]\n",
    "\n",
    "print(\"Jumlah harga sangat rendah (< 1):\", len(low_price))\n",
    "print(\"Jumlah harga sangat tinggi (di atas Q99):\", len(high_price))\n",
    "print(\"Jumlah biaya pengiriman 0:\", len(zero_freight))\n"
   ]
  },
  {
   "cell_type": "code",
   "execution_count": 94,
   "id": "597b8472-6e62-4328-9084-93aaadcf3f23",
   "metadata": {},
   "outputs": [
    {
     "name": "stdout",
     "output_type": "stream",
     "text": [
      "Jumlah cicilan dengan nilai 0: 2\n",
      "Jumlah pembayaran dengan nilai 0: 9\n"
     ]
    }
   ],
   "source": [
    "# Cicilan dengan nilai 0\n",
    "zero_installments = orderpays_df[orderpays_df['payment_installments'] == 0]\n",
    "print(\"Jumlah cicilan dengan nilai 0:\", len(zero_installments))\n",
    "\n",
    "# Nilai pembayaran 0\n",
    "zero_payment = orderpays_df[orderpays_df['payment_value'] == 0]\n",
    "print(\"Jumlah pembayaran dengan nilai 0:\", len(zero_payment))\n"
   ]
  },
  {
   "cell_type": "code",
   "execution_count": 95,
   "id": "a5d10b08-89f2-4196-ad6a-7023f93cc99b",
   "metadata": {
    "scrolled": true
   },
   "outputs": [
    {
     "name": "stdout",
     "output_type": "stream",
     "text": [
      "Jumlah produk dengan berat 0: 4\n",
      "Jumlah produk dengan jumlah foto ekstrem (di atas Q99): 314\n",
      "Jumlah produk dengan panjang deskripsi ekstrem (di atas Q99): 330\n"
     ]
    }
   ],
   "source": [
    "# Berat Produk 0\n",
    "zero_weight = products_df[products_df['product_weight_g'] == 0]\n",
    "print(\"Jumlah produk dengan berat 0:\", len(zero_weight))\n",
    "\n",
    "# Foto Produk ekstrem\n",
    "extreme_photos = products_df[products_df['product_photos_qty'] > products_df['product_photos_qty'].quantile(0.99)]\n",
    "print(\"Jumlah produk dengan jumlah foto ekstrem (di atas Q99):\", len(extreme_photos))\n",
    "\n",
    "# Deskripsi Produk ekstrem\n",
    "extreme_description = products_df[products_df['product_description_lenght'] > products_df['product_description_lenght'].quantile(0.99)]\n",
    "print(\"Jumlah produk dengan panjang deskripsi ekstrem (di atas Q99):\", len(extreme_description))"
   ]
  },
  {
   "cell_type": "markdown",
   "id": "ff5060aa-c5ab-48b3-8228-250431d947d7",
   "metadata": {},
   "source": [
    "Visualization & Explanatory Analysis"
   ]
  },
  {
   "cell_type": "code",
   "execution_count": 130,
   "id": "c6206948-7f75-4d34-9ea3-e55214343fe8",
   "metadata": {},
   "outputs": [
    {
     "name": "stderr",
     "output_type": "stream",
     "text": [
      "C:\\Users\\Indib\\AppData\\Local\\Temp\\ipykernel_6776\\3149463081.py:19: FutureWarning: \n",
      "\n",
      "Passing `palette` without assigning `hue` is deprecated and will be removed in v0.14.0. Assign the `y` variable to `hue` and set `legend=False` for the same effect.\n",
      "\n",
      "  sns.barplot(x=top_categories.values, y=top_categories.index, palette=\"viridis\")\n"
     ]
    },
    {
     "data": {
      "image/png": "[encoded data removed]",
      "text/plain": [
       "<Figure size 1400x800 with 1 Axes>"
      ]
     },
     "metadata": {},
     "output_type": "display_data"
    },
    {
     "name": "stdout",
     "output_type": "stream",
     "text": [
      "Produk paling sering dipesan: bed_bath_table (ID Produk: 99a4788cb24856965c36a24e339b6058)\n"
     ]
    }
   ],
   "source": [
    "# -----------------------------------------------------------\n",
    "# 1. Produk yang Paling Sering Dipesan dan Distribusi Penjualan Berdasarkan Kategori\n",
    "# -----------------------------------------------------------\n",
    "\n",
    "# Hitung jumlah pesanan berdasarkan kategori\n",
    "category_orders = merged_data.groupby(\"product_category_name_english\")[\"order_item_id\"].count().sort_values(ascending=False)\n",
    "\n",
    "# Hitung jumlah pesanan berdasarkan produk\n",
    "product_orders = merged_data.groupby(\"product_id\")[\"order_item_id\"].count().sort_values(ascending=False)\n",
    "\n",
    "# Ambil nama produk dari dataset gabungan\n",
    "top_product = merged_data.loc[merged_data['product_id'] == product_orders.idxmax(), 'product_category_name_english'].iloc[0]\n",
    "\n",
    "# Tampilkan hanya 15 kategori teratas\n",
    "top_categories = category_orders.head(15)\n",
    "\n",
    "# Visualisasi distribusi pesanan berdasarkan kategori (Top 15)\n",
    "plt.figure(figsize=(14, 8))\n",
    "sns.barplot(x=top_categories.values, y=top_categories.index, palette=\"viridis\")\n",
    "plt.title(\"Jumlah Pesanan per Kategori Produk (Top 15)\", fontsize=18)\n",
    "plt.xlabel(\"Jumlah Pesanan\", fontsize=14)\n",
    "plt.ylabel(\"Kategori Produk\", fontsize=14)\n",
    "plt.xticks(fontsize=12)\n",
    "plt.yticks(fontsize=12)\n",
    "plt.tight_layout()\n",
    "plt.show()\n",
    "\n",
    "\n",
    "print(f\"Produk paling sering dipesan: {top_product} (ID Produk: {product_orders.idxmax()})\")"
   ]
  },
  {
   "cell_type": "code",
   "execution_count": 96,
   "id": "c8f163b9-4500-4293-b226-e44f7d895eda",
   "metadata": {},
   "outputs": [
    {
     "data": {
      "image/png": "[encoded data removed]",
      "text/plain": [
       "<Figure size 640x480 with 1 Axes>"
      ]
     },
     "metadata": {},
     "output_type": "display_data"
    },
    {
     "name": "stdout",
     "output_type": "stream",
     "text": [
      "Distribusi Skor Ulasan (%):\n",
      " review_score\n",
      "5    57.776344\n",
      "4    19.291704\n",
      "1    11.513344\n",
      "3     8.242965\n",
      "2     3.175643\n",
      "Name: proportion, dtype: float64\n"
     ]
    }
   ],
   "source": [
    "import seaborn as sns\n",
    "import matplotlib.pyplot as plt\n",
    "\n",
    "# Visualisasi distribusi review_score\n",
    "sns.countplot(data=orderreviews_df, x='review_score')\n",
    "plt.title('Distribusi Review Score')\n",
    "plt.show()\n",
    "\n",
    "# Melihat proporsi skor ulasan\n",
    "review_score_distribution = orderreviews_df['review_score'].value_counts(normalize=True) * 100\n",
    "print(\"Distribusi Skor Ulasan (%):\\n\", review_score_distribution)"
   ]
  },
  {
   "cell_type": "code",
   "execution_count": 97,
   "id": "c9a48077-8f0a-4616-940e-79a1a791ed2f",
   "metadata": {},
   "outputs": [],
   "source": [
    "# Menghapus nilai janggal pada dataset orderitems_df\n",
    "# Menghapus baris dengan harga < 1\n",
    "orderitems_df = orderitems_df[orderitems_df['price'] >= 1]\n",
    "\n",
    "# Menghapus baris dengan biaya pengiriman 0\n",
    "orderitems_df = orderitems_df[orderitems_df['freight_value'] > 0]"
   ]
  },
  {
   "cell_type": "code",
   "execution_count": 98,
   "id": "c011600d-26ec-479c-8d5e-2031e8866155",
   "metadata": {},
   "outputs": [],
   "source": [
    "# Menghapus nilai janggal pada dataset orderpays_df\n",
    "# Menghapus baris dengan cicilan 0\n",
    "orderpays_df = orderpays_df[orderpays_df['payment_installments'] > 0]\n",
    "\n",
    "# Menghapus baris dengan pembayaran 0\n",
    "orderpays_df = orderpays_df[orderpays_df['payment_value'] > 0]"
   ]
  },
  {
   "cell_type": "code",
   "execution_count": 99,
   "id": "4876bc2c-f94d-4239-8051-a872a50885a3",
   "metadata": {},
   "outputs": [],
   "source": [
    "# Menghapus nilai janggal pada dataset products\n",
    "# Menghapus baris dengan berat produk 0\n",
    "products_df = products_df[products_df['product_weight_g'] > 0]"
   ]
  },
  {
   "cell_type": "code",
   "execution_count": 100,
   "id": "9bc2ddbb-d0fb-4f42-b2fe-76fbb54b0267",
   "metadata": {},
   "outputs": [
    {
     "name": "stdout",
     "output_type": "stream",
     "text": [
      "Jumlah data orderitems_df setelah penghapusan: 112264\n",
      "Jumlah data orderpays_df setelah penghapusan: 103875\n",
      "Jumlah data products_df setelah penghapusan: 32947\n"
     ]
    }
   ],
   "source": [
    "print(f\"Jumlah data orderitems_df setelah penghapusan: {len(orderitems_df)}\")\n",
    "print(f\"Jumlah data orderpays_df setelah penghapusan: {len(orderpays_df)}\")\n",
    "print(f\"Jumlah data products_df setelah penghapusan: {len(products_df)}\")"
   ]
  },
  {
   "cell_type": "code",
   "execution_count": 101,
   "id": "3a63d62a-d8b9-4c6f-bde2-354dbcbdb1a6",
   "metadata": {},
   "outputs": [
    {
     "data": {
      "text/html": [
       "<div>\n",
       "<style scoped>\n",
       "    .dataframe tbody tr th:only-of-type {\n",
       "        vertical-align: middle;\n",
       "    }\n",
       "\n",
       "    .dataframe tbody tr th {\n",
       "        vertical-align: top;\n",
       "    }\n",
       "\n",
       "    .dataframe thead th {\n",
       "        text-align: right;\n",
       "    }\n",
       "</style>\n",
       "<table border=\"1\" class=\"dataframe\">\n",
       "  <thead>\n",
       "    <tr style=\"text-align: right;\">\n",
       "      <th></th>\n",
       "      <th>order_id</th>\n",
       "      <th>order_item_id</th>\n",
       "      <th>product_id</th>\n",
       "      <th>seller_id</th>\n",
       "      <th>shipping_limit_date</th>\n",
       "      <th>price</th>\n",
       "      <th>freight_value</th>\n",
       "    </tr>\n",
       "  </thead>\n",
       "  <tbody>\n",
       "    <tr>\n",
       "      <th>count</th>\n",
       "      <td>112264</td>\n",
       "      <td>112264.000000</td>\n",
       "      <td>112264</td>\n",
       "      <td>112264</td>\n",
       "      <td>112264</td>\n",
       "      <td>112264.000000</td>\n",
       "      <td>112264.000000</td>\n",
       "    </tr>\n",
       "    <tr>\n",
       "      <th>unique</th>\n",
       "      <td>98326</td>\n",
       "      <td>NaN</td>\n",
       "      <td>32950</td>\n",
       "      <td>3095</td>\n",
       "      <td>NaN</td>\n",
       "      <td>NaN</td>\n",
       "      <td>NaN</td>\n",
       "    </tr>\n",
       "    <tr>\n",
       "      <th>top</th>\n",
       "      <td>8272b63d03f5f79c56e9e4120aec44ef</td>\n",
       "      <td>NaN</td>\n",
       "      <td>99a4788cb24856965c36a24e339b6058</td>\n",
       "      <td>6560211a19b47992c3666cc44a7e94c0</td>\n",
       "      <td>NaN</td>\n",
       "      <td>NaN</td>\n",
       "      <td>NaN</td>\n",
       "    </tr>\n",
       "    <tr>\n",
       "      <th>freq</th>\n",
       "      <td>21</td>\n",
       "      <td>NaN</td>\n",
       "      <td>488</td>\n",
       "      <td>2033</td>\n",
       "      <td>NaN</td>\n",
       "      <td>NaN</td>\n",
       "      <td>NaN</td>\n",
       "    </tr>\n",
       "    <tr>\n",
       "      <th>mean</th>\n",
       "      <td>NaN</td>\n",
       "      <td>1.198006</td>\n",
       "      <td>NaN</td>\n",
       "      <td>NaN</td>\n",
       "      <td>2018-01-07 06:12:59.348250624</td>\n",
       "      <td>120.732174</td>\n",
       "      <td>20.058530</td>\n",
       "    </tr>\n",
       "    <tr>\n",
       "      <th>min</th>\n",
       "      <td>NaN</td>\n",
       "      <td>1.000000</td>\n",
       "      <td>NaN</td>\n",
       "      <td>NaN</td>\n",
       "      <td>2016-09-19 00:15:34</td>\n",
       "      <td>1.200000</td>\n",
       "      <td>0.010000</td>\n",
       "    </tr>\n",
       "    <tr>\n",
       "      <th>25%</th>\n",
       "      <td>NaN</td>\n",
       "      <td>1.000000</td>\n",
       "      <td>NaN</td>\n",
       "      <td>NaN</td>\n",
       "      <td>2017-09-20 12:05:34</td>\n",
       "      <td>39.900000</td>\n",
       "      <td>13.100000</td>\n",
       "    </tr>\n",
       "    <tr>\n",
       "      <th>50%</th>\n",
       "      <td>NaN</td>\n",
       "      <td>1.000000</td>\n",
       "      <td>NaN</td>\n",
       "      <td>NaN</td>\n",
       "      <td>2018-01-25 20:57:57</td>\n",
       "      <td>74.900000</td>\n",
       "      <td>16.290000</td>\n",
       "    </tr>\n",
       "    <tr>\n",
       "      <th>75%</th>\n",
       "      <td>NaN</td>\n",
       "      <td>1.000000</td>\n",
       "      <td>NaN</td>\n",
       "      <td>NaN</td>\n",
       "      <td>2018-05-10 13:30:32.500000</td>\n",
       "      <td>134.990000</td>\n",
       "      <td>21.170000</td>\n",
       "    </tr>\n",
       "    <tr>\n",
       "      <th>max</th>\n",
       "      <td>NaN</td>\n",
       "      <td>21.000000</td>\n",
       "      <td>NaN</td>\n",
       "      <td>NaN</td>\n",
       "      <td>2020-04-09 22:35:08</td>\n",
       "      <td>6735.000000</td>\n",
       "      <td>409.680000</td>\n",
       "    </tr>\n",
       "    <tr>\n",
       "      <th>std</th>\n",
       "      <td>NaN</td>\n",
       "      <td>0.705808</td>\n",
       "      <td>NaN</td>\n",
       "      <td>NaN</td>\n",
       "      <td>NaN</td>\n",
       "      <td>183.920659</td>\n",
       "      <td>15.790295</td>\n",
       "    </tr>\n",
       "  </tbody>\n",
       "</table>\n",
       "</div>"
      ],
      "text/plain": [
       "                                order_id  order_item_id  \\\n",
       "count                             112264  112264.000000   \n",
       "unique                             98326            NaN   \n",
       "top     8272b63d03f5f79c56e9e4120aec44ef            NaN   \n",
       "freq                                  21            NaN   \n",
       "mean                                 NaN       1.198006   \n",
       "min                                  NaN       1.000000   \n",
       "25%                                  NaN       1.000000   \n",
       "50%                                  NaN       1.000000   \n",
       "75%                                  NaN       1.000000   \n",
       "max                                  NaN      21.000000   \n",
       "std                                  NaN       0.705808   \n",
       "\n",
       "                              product_id                         seller_id  \\\n",
       "count                             112264                            112264   \n",
       "unique                             32950                              3095   \n",
       "top     99a4788cb24856965c36a24e339b6058  6560211a19b47992c3666cc44a7e94c0   \n",
       "freq                                 488                              2033   \n",
       "mean                                 NaN                               NaN   \n",
       "min                                  NaN                               NaN   \n",
       "25%                                  NaN                               NaN   \n",
       "50%                                  NaN                               NaN   \n",
       "75%                                  NaN                               NaN   \n",
       "max                                  NaN                               NaN   \n",
       "std                                  NaN                               NaN   \n",
       "\n",
       "                  shipping_limit_date          price  freight_value  \n",
       "count                          112264  112264.000000  112264.000000  \n",
       "unique                            NaN            NaN            NaN  \n",
       "top                               NaN            NaN            NaN  \n",
       "freq                              NaN            NaN            NaN  \n",
       "mean    2018-01-07 06:12:59.348250624     120.732174      20.058530  \n",
       "min               2016-09-19 00:15:34       1.200000       0.010000  \n",
       "25%               2017-09-20 12:05:34      39.900000      13.100000  \n",
       "50%               2018-01-25 20:57:57      74.900000      16.290000  \n",
       "75%        2018-05-10 13:30:32.500000     134.990000      21.170000  \n",
       "max               2020-04-09 22:35:08    6735.000000     409.680000  \n",
       "std                               NaN     183.920659      15.790295  "
      ]
     },
     "execution_count": 101,
     "metadata": {},
     "output_type": "execute_result"
    }
   ],
   "source": [
    "orderitems_df.describe(include=\"all\")"
   ]
  },
  {
   "cell_type": "code",
   "execution_count": 102,
   "id": "e4bc68e6-bb33-43f1-b5e5-298fb5fd77dc",
   "metadata": {},
   "outputs": [
    {
     "data": {
      "text/html": [
       "<div>\n",
       "<style scoped>\n",
       "    .dataframe tbody tr th:only-of-type {\n",
       "        vertical-align: middle;\n",
       "    }\n",
       "\n",
       "    .dataframe tbody tr th {\n",
       "        vertical-align: top;\n",
       "    }\n",
       "\n",
       "    .dataframe thead th {\n",
       "        text-align: right;\n",
       "    }\n",
       "</style>\n",
       "<table border=\"1\" class=\"dataframe\">\n",
       "  <thead>\n",
       "    <tr style=\"text-align: right;\">\n",
       "      <th></th>\n",
       "      <th>order_id</th>\n",
       "      <th>payment_sequential</th>\n",
       "      <th>payment_type</th>\n",
       "      <th>payment_installments</th>\n",
       "      <th>payment_value</th>\n",
       "    </tr>\n",
       "  </thead>\n",
       "  <tbody>\n",
       "    <tr>\n",
       "      <th>count</th>\n",
       "      <td>103875</td>\n",
       "      <td>103875.000000</td>\n",
       "      <td>103875</td>\n",
       "      <td>103875.000000</td>\n",
       "      <td>103875.000000</td>\n",
       "    </tr>\n",
       "    <tr>\n",
       "      <th>unique</th>\n",
       "      <td>99435</td>\n",
       "      <td>NaN</td>\n",
       "      <td>4</td>\n",
       "      <td>NaN</td>\n",
       "      <td>NaN</td>\n",
       "    </tr>\n",
       "    <tr>\n",
       "      <th>top</th>\n",
       "      <td>fa65dad1b0e818e3ccc5cb0e39231352</td>\n",
       "      <td>NaN</td>\n",
       "      <td>credit_card</td>\n",
       "      <td>NaN</td>\n",
       "      <td>NaN</td>\n",
       "    </tr>\n",
       "    <tr>\n",
       "      <th>freq</th>\n",
       "      <td>27</td>\n",
       "      <td>NaN</td>\n",
       "      <td>76793</td>\n",
       "      <td>NaN</td>\n",
       "      <td>NaN</td>\n",
       "    </tr>\n",
       "    <tr>\n",
       "      <th>mean</th>\n",
       "      <td>NaN</td>\n",
       "      <td>1.092323</td>\n",
       "      <td>NaN</td>\n",
       "      <td>2.853564</td>\n",
       "      <td>154.114883</td>\n",
       "    </tr>\n",
       "    <tr>\n",
       "      <th>std</th>\n",
       "      <td>NaN</td>\n",
       "      <td>0.704308</td>\n",
       "      <td>NaN</td>\n",
       "      <td>2.687108</td>\n",
       "      <td>217.500635</td>\n",
       "    </tr>\n",
       "    <tr>\n",
       "      <th>min</th>\n",
       "      <td>NaN</td>\n",
       "      <td>1.000000</td>\n",
       "      <td>NaN</td>\n",
       "      <td>1.000000</td>\n",
       "      <td>0.010000</td>\n",
       "    </tr>\n",
       "    <tr>\n",
       "      <th>25%</th>\n",
       "      <td>NaN</td>\n",
       "      <td>1.000000</td>\n",
       "      <td>NaN</td>\n",
       "      <td>1.000000</td>\n",
       "      <td>56.815000</td>\n",
       "    </tr>\n",
       "    <tr>\n",
       "      <th>50%</th>\n",
       "      <td>NaN</td>\n",
       "      <td>1.000000</td>\n",
       "      <td>NaN</td>\n",
       "      <td>1.000000</td>\n",
       "      <td>100.000000</td>\n",
       "    </tr>\n",
       "    <tr>\n",
       "      <th>75%</th>\n",
       "      <td>NaN</td>\n",
       "      <td>1.000000</td>\n",
       "      <td>NaN</td>\n",
       "      <td>4.000000</td>\n",
       "      <td>171.840000</td>\n",
       "    </tr>\n",
       "    <tr>\n",
       "      <th>max</th>\n",
       "      <td>NaN</td>\n",
       "      <td>29.000000</td>\n",
       "      <td>NaN</td>\n",
       "      <td>24.000000</td>\n",
       "      <td>13664.080000</td>\n",
       "    </tr>\n",
       "  </tbody>\n",
       "</table>\n",
       "</div>"
      ],
      "text/plain": [
       "                                order_id  payment_sequential payment_type  \\\n",
       "count                             103875       103875.000000       103875   \n",
       "unique                             99435                 NaN            4   \n",
       "top     fa65dad1b0e818e3ccc5cb0e39231352                 NaN  credit_card   \n",
       "freq                                  27                 NaN        76793   \n",
       "mean                                 NaN            1.092323          NaN   \n",
       "std                                  NaN            0.704308          NaN   \n",
       "min                                  NaN            1.000000          NaN   \n",
       "25%                                  NaN            1.000000          NaN   \n",
       "50%                                  NaN            1.000000          NaN   \n",
       "75%                                  NaN            1.000000          NaN   \n",
       "max                                  NaN           29.000000          NaN   \n",
       "\n",
       "        payment_installments  payment_value  \n",
       "count          103875.000000  103875.000000  \n",
       "unique                   NaN            NaN  \n",
       "top                      NaN            NaN  \n",
       "freq                     NaN            NaN  \n",
       "mean                2.853564     154.114883  \n",
       "std                 2.687108     217.500635  \n",
       "min                 1.000000       0.010000  \n",
       "25%                 1.000000      56.815000  \n",
       "50%                 1.000000     100.000000  \n",
       "75%                 4.000000     171.840000  \n",
       "max                24.000000   13664.080000  "
      ]
     },
     "execution_count": 102,
     "metadata": {},
     "output_type": "execute_result"
    }
   ],
   "source": [
    "orderpays_df.describe(include=\"all\")"
   ]
  },
  {
   "cell_type": "code",
   "execution_count": 103,
   "id": "b8db03f8-20bb-43c4-85b5-371b91d9d402",
   "metadata": {},
   "outputs": [
    {
     "data": {
      "text/html": [
       "<div>\n",
       "<style scoped>\n",
       "    .dataframe tbody tr th:only-of-type {\n",
       "        vertical-align: middle;\n",
       "    }\n",
       "\n",
       "    .dataframe tbody tr th {\n",
       "        vertical-align: top;\n",
       "    }\n",
       "\n",
       "    .dataframe thead th {\n",
       "        text-align: right;\n",
       "    }\n",
       "</style>\n",
       "<table border=\"1\" class=\"dataframe\">\n",
       "  <thead>\n",
       "    <tr style=\"text-align: right;\">\n",
       "      <th></th>\n",
       "      <th>product_id</th>\n",
       "      <th>product_category_name</th>\n",
       "      <th>product_name_lenght</th>\n",
       "      <th>product_description_lenght</th>\n",
       "      <th>product_photos_qty</th>\n",
       "      <th>product_weight_g</th>\n",
       "      <th>product_length_cm</th>\n",
       "      <th>product_height_cm</th>\n",
       "      <th>product_width_cm</th>\n",
       "    </tr>\n",
       "  </thead>\n",
       "  <tbody>\n",
       "    <tr>\n",
       "      <th>count</th>\n",
       "      <td>32947</td>\n",
       "      <td>32947</td>\n",
       "      <td>32947.000000</td>\n",
       "      <td>32947.000000</td>\n",
       "      <td>32947.000000</td>\n",
       "      <td>32947.000000</td>\n",
       "      <td>32947.000000</td>\n",
       "      <td>32947.000000</td>\n",
       "      <td>32947.000000</td>\n",
       "    </tr>\n",
       "    <tr>\n",
       "      <th>unique</th>\n",
       "      <td>32947</td>\n",
       "      <td>73</td>\n",
       "      <td>NaN</td>\n",
       "      <td>NaN</td>\n",
       "      <td>NaN</td>\n",
       "      <td>NaN</td>\n",
       "      <td>NaN</td>\n",
       "      <td>NaN</td>\n",
       "      <td>NaN</td>\n",
       "    </tr>\n",
       "    <tr>\n",
       "      <th>top</th>\n",
       "      <td>1e9e8ef04dbcff4541ed26657ea517e5</td>\n",
       "      <td>cama_mesa_banho</td>\n",
       "      <td>NaN</td>\n",
       "      <td>NaN</td>\n",
       "      <td>NaN</td>\n",
       "      <td>NaN</td>\n",
       "      <td>NaN</td>\n",
       "      <td>NaN</td>\n",
       "      <td>NaN</td>\n",
       "    </tr>\n",
       "    <tr>\n",
       "      <th>freq</th>\n",
       "      <td>1</td>\n",
       "      <td>3635</td>\n",
       "      <td>NaN</td>\n",
       "      <td>NaN</td>\n",
       "      <td>NaN</td>\n",
       "      <td>NaN</td>\n",
       "      <td>NaN</td>\n",
       "      <td>NaN</td>\n",
       "      <td>NaN</td>\n",
       "    </tr>\n",
       "    <tr>\n",
       "      <th>mean</th>\n",
       "      <td>NaN</td>\n",
       "      <td>NaN</td>\n",
       "      <td>48.689957</td>\n",
       "      <td>764.720794</td>\n",
       "      <td>2.167117</td>\n",
       "      <td>2276.653170</td>\n",
       "      <td>30.814824</td>\n",
       "      <td>16.936443</td>\n",
       "      <td>23.195708</td>\n",
       "    </tr>\n",
       "    <tr>\n",
       "      <th>std</th>\n",
       "      <td>NaN</td>\n",
       "      <td>NaN</td>\n",
       "      <td>10.269175</td>\n",
       "      <td>631.188788</td>\n",
       "      <td>1.728120</td>\n",
       "      <td>4282.112846</td>\n",
       "      <td>16.915030</td>\n",
       "      <td>13.637713</td>\n",
       "      <td>12.079207</td>\n",
       "    </tr>\n",
       "    <tr>\n",
       "      <th>min</th>\n",
       "      <td>NaN</td>\n",
       "      <td>NaN</td>\n",
       "      <td>5.000000</td>\n",
       "      <td>4.000000</td>\n",
       "      <td>1.000000</td>\n",
       "      <td>2.000000</td>\n",
       "      <td>7.000000</td>\n",
       "      <td>2.000000</td>\n",
       "      <td>6.000000</td>\n",
       "    </tr>\n",
       "    <tr>\n",
       "      <th>25%</th>\n",
       "      <td>NaN</td>\n",
       "      <td>NaN</td>\n",
       "      <td>42.000000</td>\n",
       "      <td>344.000000</td>\n",
       "      <td>1.000000</td>\n",
       "      <td>300.000000</td>\n",
       "      <td>18.000000</td>\n",
       "      <td>8.000000</td>\n",
       "      <td>15.000000</td>\n",
       "    </tr>\n",
       "    <tr>\n",
       "      <th>50%</th>\n",
       "      <td>NaN</td>\n",
       "      <td>NaN</td>\n",
       "      <td>52.000000</td>\n",
       "      <td>584.000000</td>\n",
       "      <td>1.000000</td>\n",
       "      <td>700.000000</td>\n",
       "      <td>25.000000</td>\n",
       "      <td>13.000000</td>\n",
       "      <td>20.000000</td>\n",
       "    </tr>\n",
       "    <tr>\n",
       "      <th>75%</th>\n",
       "      <td>NaN</td>\n",
       "      <td>NaN</td>\n",
       "      <td>57.000000</td>\n",
       "      <td>961.000000</td>\n",
       "      <td>3.000000</td>\n",
       "      <td>1900.000000</td>\n",
       "      <td>38.000000</td>\n",
       "      <td>21.000000</td>\n",
       "      <td>30.000000</td>\n",
       "    </tr>\n",
       "    <tr>\n",
       "      <th>max</th>\n",
       "      <td>NaN</td>\n",
       "      <td>NaN</td>\n",
       "      <td>76.000000</td>\n",
       "      <td>3992.000000</td>\n",
       "      <td>20.000000</td>\n",
       "      <td>40425.000000</td>\n",
       "      <td>105.000000</td>\n",
       "      <td>105.000000</td>\n",
       "      <td>118.000000</td>\n",
       "    </tr>\n",
       "  </tbody>\n",
       "</table>\n",
       "</div>"
      ],
      "text/plain": [
       "                              product_id product_category_name  \\\n",
       "count                              32947                 32947   \n",
       "unique                             32947                    73   \n",
       "top     1e9e8ef04dbcff4541ed26657ea517e5       cama_mesa_banho   \n",
       "freq                                   1                  3635   \n",
       "mean                                 NaN                   NaN   \n",
       "std                                  NaN                   NaN   \n",
       "min                                  NaN                   NaN   \n",
       "25%                                  NaN                   NaN   \n",
       "50%                                  NaN                   NaN   \n",
       "75%                                  NaN                   NaN   \n",
       "max                                  NaN                   NaN   \n",
       "\n",
       "        product_name_lenght  product_description_lenght  product_photos_qty  \\\n",
       "count          32947.000000                32947.000000        32947.000000   \n",
       "unique                  NaN                         NaN                 NaN   \n",
       "top                     NaN                         NaN                 NaN   \n",
       "freq                    NaN                         NaN                 NaN   \n",
       "mean              48.689957                  764.720794            2.167117   \n",
       "std               10.269175                  631.188788            1.728120   \n",
       "min                5.000000                    4.000000            1.000000   \n",
       "25%               42.000000                  344.000000            1.000000   \n",
       "50%               52.000000                  584.000000            1.000000   \n",
       "75%               57.000000                  961.000000            3.000000   \n",
       "max               76.000000                 3992.000000           20.000000   \n",
       "\n",
       "        product_weight_g  product_length_cm  product_height_cm  \\\n",
       "count       32947.000000       32947.000000       32947.000000   \n",
       "unique               NaN                NaN                NaN   \n",
       "top                  NaN                NaN                NaN   \n",
       "freq                 NaN                NaN                NaN   \n",
       "mean         2276.653170          30.814824          16.936443   \n",
       "std          4282.112846          16.915030          13.637713   \n",
       "min             2.000000           7.000000           2.000000   \n",
       "25%           300.000000          18.000000           8.000000   \n",
       "50%           700.000000          25.000000          13.000000   \n",
       "75%          1900.000000          38.000000          21.000000   \n",
       "max         40425.000000         105.000000         105.000000   \n",
       "\n",
       "        product_width_cm  \n",
       "count       32947.000000  \n",
       "unique               NaN  \n",
       "top                  NaN  \n",
       "freq                 NaN  \n",
       "mean           23.195708  \n",
       "std            12.079207  \n",
       "min             6.000000  \n",
       "25%            15.000000  \n",
       "50%            20.000000  \n",
       "75%            30.000000  \n",
       "max           118.000000  "
      ]
     },
     "execution_count": 103,
     "metadata": {},
     "output_type": "execute_result"
    }
   ],
   "source": [
    "products_df.describe(include=\"all\")"
   ]
  },
  {
   "cell_type": "code",
   "execution_count": 104,
   "id": "67432315-78ab-4d7f-90a4-788e6ba0405b",
   "metadata": {},
   "outputs": [
    {
     "name": "stdout",
     "output_type": "stream",
     "text": [
      "Outlier di kolom price: 8448 baris\n",
      "Outlier di kolom freight_value: 11788 baris\n",
      "Outlier di kolom product_weight_g: 15861 baris\n"
     ]
    }
   ],
   "source": [
    "# Gabungkan DataFrame yang relevan\n",
    "orders_reviews = pd.merge(orders_df, orderitems_df, on='order_id', how='inner')\n",
    "orders_reviews = pd.merge(orders_reviews, orderreviews_df[['order_id', 'review_score']], on='order_id', how='left')\n",
    "orders_reviews = pd.merge(orders_reviews, products_df[['product_id', 'product_weight_g']], on='product_id', how='left')\n",
    "\n",
    "# Penanganan Outlier Menggunakan IQR\n",
    "numerical_columns = ['price', 'freight_value', 'product_weight_g']\n",
    "for col in numerical_columns:\n",
    "    Q1 = orders_reviews[col].quantile(0.25)\n",
    "    Q3 = orders_reviews[col].quantile(0.75)\n",
    "    IQR = Q3 - Q1\n",
    "    lower_bound = Q1 - 1.5 * IQR\n",
    "    upper_bound = Q3 + 1.5 * IQR\n",
    "    outliers = orders_reviews[(orders_reviews[col] < lower_bound) | (orders_reviews[col] > upper_bound)]\n",
    "    print(f\"Outlier di kolom {col}: {outliers.shape[0]} baris\")"
   ]
  },
  {
   "cell_type": "code",
   "execution_count": 105,
   "id": "4a30e4ec-8586-442f-b74a-da01e8393b08",
   "metadata": {},
   "outputs": [
    {
     "data": {
      "image/png": "[encoded data removed]",
      "text/plain": [
       "<Figure size 1500x1000 with 3 Axes>"
      ]
     },
     "metadata": {},
     "output_type": "display_data"
    }
   ],
   "source": [
    "# Visualisasi Distribusi Data Numerik\n",
    "plt.figure(figsize=(15, 10))\n",
    "for i, col in enumerate(numerical_columns):\n",
    "    plt.subplot(2, 2, i + 1)\n",
    "    sns.histplot(orders_reviews[col], kde=True, bins=30, color='blue')\n",
    "    plt.title(f\"Distribusi {col}\")\n",
    "    plt.xlabel(col)\n",
    "    plt.ylabel(\"Frequency\")\n",
    "plt.tight_layout()\n",
    "plt.show()"
   ]
  },
  {
   "cell_type": "code",
   "execution_count": 106,
   "id": "c33980b9-9a6a-4a85-ba86-3fef069d11da",
   "metadata": {},
   "outputs": [],
   "source": [
    "# Menghapus Outlier\n",
    "orders_reviews = orders_reviews[(orders_reviews[col] >= lower_bound) & (orders_reviews[col] <= upper_bound)]"
   ]
  },
  {
   "cell_type": "code",
   "execution_count": 108,
   "id": "e79af1d9-aca3-4247-9b4c-1de5cc0c6479",
   "metadata": {},
   "outputs": [
    {
     "data": {
      "image/png": "[encoded data removed]",
      "text/plain": [
       "<Figure size 1200x600 with 1 Axes>"
      ]
     },
     "metadata": {},
     "output_type": "display_data"
    }
   ],
   "source": [
    "# Gabungkan informasi lokasi pelanggan dari customers_df ke orders_df\n",
    "orders_df = pd.merge(orders_df, customers_df[['customer_id', 'customer_state']], on='customer_id', how='left')\n",
    "\n",
    "# Hitung keterlambatan pengiriman\n",
    "orders_df['delivery_delay_days'] = (\n",
    "    orders_df['order_delivered_customer_date'] - orders_df['order_estimated_delivery_date']\n",
    ").dt.days\n",
    "\n",
    "# Analisis keterlambatan berdasarkan lokasi\n",
    "delay_by_state = orders_df.groupby('customer_state')['delivery_delay_days'].mean().sort_values()\n",
    "\n",
    "# Visualisasi\n",
    "plt.figure(figsize=(12, 6))\n",
    "sns.barplot(x=delay_by_state.index, y=delay_by_state.values)\n",
    "plt.title(\"Rata-Rata Keterlambatan Pengiriman per Lokasi\", fontsize=16)\n",
    "plt.xlabel(\"State\")\n",
    "plt.ylabel(\"Rata-Rata Keterlambatan (Hari)\")\n",
    "plt.xticks(rotation=45)\n",
    "plt.show()"
   ]
  },
  {
   "cell_type": "code",
   "execution_count": 109,
   "id": "a8421ab4-dd6e-4585-b351-9a1a1fee708b",
   "metadata": {},
   "outputs": [
    {
     "data": {
      "image/png": "[encoded data removed]",
      "text/plain": [
       "<Figure size 1400x700 with 1 Axes>"
      ]
     },
     "metadata": {},
     "output_type": "display_data"
    }
   ],
   "source": [
    "# Distribusi Penjualan Berdasarkan Kategori\n",
    "product_sales = pd.merge(orderitems_df, products_df, on='product_id')\n",
    "category_distribution = product_sales['product_category_name'].value_counts()\n",
    "\n",
    "# Visualisasi\n",
    "plt.figure(figsize=(14, 7))\n",
    "category_distribution.head(15).plot(kind='bar')\n",
    "plt.title(\"Distribusi Penjualan Berdasarkan Kategori (Top 15)\", fontsize=16)\n",
    "plt.ylabel(\"Jumlah Penjualan\")\n",
    "plt.show()"
   ]
  },
  {
   "cell_type": "code",
   "execution_count": 110,
   "id": "dd0efffb-35d8-4c8d-a3cf-2c970f61db2a",
   "metadata": {},
   "outputs": [
    {
     "data": {
      "image/png": "[encoded data removed]",
      "text/plain": [
       "<Figure size 1200x600 with 1 Axes>"
      ]
     },
     "metadata": {},
     "output_type": "display_data"
    }
   ],
   "source": [
    "# Gabungkan DataFrame untuk mendapatkan semua informasi yang diperlukan\n",
    "orders_reviews = pd.merge(orders_df, orderitems_df, on='order_id', how='inner')\n",
    "orders_reviews = pd.merge(orders_reviews, orderreviews_df[['order_id', 'review_score']], on='order_id', how='left')\n",
    "\n",
    "# Hitung waktu pengiriman dalam hari\n",
    "orders_reviews['delivery_time_days'] = (\n",
    "    orders_reviews['order_delivered_customer_date'] - orders_reviews['order_purchase_timestamp']\n",
    ").dt.days\n",
    "\n",
    "# Visualisasi\n",
    "plt.figure(figsize=(12, 6))\n",
    "sns.boxplot(data=orders_reviews, x='review_score', y='delivery_time_days')\n",
    "plt.title(\"Hubungan Waktu Pengiriman dengan Skor Ulasan\", fontsize=16)\n",
    "plt.xlabel(\"Skor Ulasan\")\n",
    "plt.ylabel(\"Waktu Pengiriman (Hari)\")\n",
    "plt.show()"
   ]
  },
  {
   "cell_type": "code",
   "execution_count": 134,
   "id": "1d81ffee-9046-4f58-8dc5-0b17e4fe3b2e",
   "metadata": {
    "scrolled": true
   },
   "outputs": [
    {
     "name": "stderr",
     "output_type": "stream",
     "text": [
      "C:\\Users\\Indib\\AppData\\Local\\Temp\\ipykernel_6776\\3451069880.py:12: FutureWarning: \n",
      "\n",
      "Passing `palette` without assigning `hue` is deprecated and will be removed in v0.14.0. Assign the `y` variable to `hue` and set `legend=False` for the same effect.\n",
      "\n",
      "  sns.boxplot(x=\"delay_days\", y=\"product_category_name_english\", data=top_15_delay_category_data, palette=\"viridis\")\n"
     ]
    },
    {
     "data": {
      "image/png": "[encoded data removed]",
      "text/plain": [
       "<Figure size 1400x800 with 1 Axes>"
      ]
     },
     "metadata": {},
     "output_type": "display_data"
    }
   ],
   "source": [
    "# Menghitung rata-rata keterlambatan berdasarkan kategori produk\n",
    "category_delay_avg = delay_category_data.groupby('product_category_name_english')['delay_days'].mean()\n",
    "\n",
    "# Ambil Top 15 kategori produk dengan rata-rata keterlambatan terbesar\n",
    "top_15_categories = category_delay_avg.sort_values(ascending=False).head(15)\n",
    "\n",
    "# Filter data untuk Top 15 kategori produk\n",
    "top_15_delay_category_data = delay_category_data[delay_category_data['product_category_name_english'].isin(top_15_categories.index)]\n",
    "\n",
    "# Visualisasi\n",
    "plt.figure(figsize=(14, 8))\n",
    "sns.boxplot(x=\"delay_days\", y=\"product_category_name_english\", data=top_15_delay_category_data, palette=\"viridis\")\n",
    "plt.title(\"Keterlambatan Berdasarkan Kategori Produk (Top 15)\", fontsize=16)\n",
    "plt.xlabel(\"Jumlah Hari Keterlambatan\")\n",
    "plt.ylabel(\"Kategori Produk\")\n",
    "plt.tight_layout()\n",
    "plt.show()\n"
   ]
  },
  {
   "cell_type": "markdown",
   "id": "6c81e7f2-0a3e-46f8-8f30-1dbe7ca62744",
   "metadata": {},
   "source": [
    "Conclusion / Kesimpulan"
   ]
  },
  {
   "cell_type": "markdown",
   "id": "391d8682-29a2-4250-907e-27d78a956019",
   "metadata": {},
   "source": [
    "1. Produk Paling Sering Dipesan:\n",
    "Identifikasi produk yang paling sering dipesan dilakukan dengan analisis dataset Orderitems dan Products. Hal ini dapat memberikan wawasan tentang produk terpopuler serta kategori yang memiliki permintaan tertinggi.\n",
    "\n",
    "2. Pola Keterlambatan Pengiriman:\n",
    "Berdasarkan data Orders, ada keterlambatan pengiriman yang dapat dikategorikan berdasarkan lokasi geografis (Geo) atau jenis produk (Products). Rata-rata waktu pengiriman dari pengangkut ke pelanggan adalah 8,88 hari. Informasi ini dapat dimanfaatkan untuk meningkatkan efisiensi pengiriman di wilayah-wilayah tertentu.\n",
    "\n",
    "3. Validasi Data:\n",
    "Semua dataset telah diolah agar sesuai dengan tipe data yang tepat (misalnya, tanggal diubah menjadi tipe datetime).\n",
    "Dataset yang berisi nilai hilang seperti di Products sudah diperiksa lebih lanjut untuk menentukan dampak dan cara penanganannya."
   ]
  }
 ],
 "metadata": {
  "kernelspec": {
   "display_name": "Python 3 (ipykernel)",
   "language": "python",
   "name": "python3"
  },
  "language_info": {
   "codemirror_mode": {
    "name": "ipython",
    "version": 3
   },
   "file_extension": ".py",
   "mimetype": "text/x-python",
   "name": "python",
   "nbconvert_exporter": "python",
   "pygments_lexer": "ipython3",
   "version": "3.12.7"
  },
  "panel-cell-order": [
   "1780963b-baf0-4932-8d0c-0d9380b5ab2a",
   "1279d40f-0fd8-497d-9a42-a73129702b84",
   "48c4d57f-60fc-4ce9-b2fe-3958c373dc62",
   "bf3e5c65-c8f7-4156-afd3-309264b58d7c",
   "32d66fd7-264b-494a-81b9-6c7a9eaf4b8e",
   "50878e1e-2496-4425-bc28-ae462edda0ff",
   "7dde13f5-36b9-4f4c-afd3-44a45fc28555",
   "97dac647-b23d-4405-bda5-517d7704f83a",
   "2025b40c-1d6b-4169-9242-67c42d8f5e36",
   "f9645247-1d3b-4c34-a7d6-2be0221ad54a",
   "9b8ba760-c77d-4458-a05d-455221e73e73",
   "9f6141c3-e28d-40f4-9a74-4647099bb604",
   "5c930714-b67d-4a0a-b750-0e09ff228074",
   "d7d16dbb-1d3d-4de6-af9c-9cababc9f742",
   "b531e1ea-6f20-48dc-8a3c-127eae14dba6",
   "0911f205-17e6-4d6a-aecb-25052f6cb4d5",
   "686630cf-959b-4344-8383-c78c352a5299",
   "d464ca6c-a1d7-4b74-8798-123eef70356a",
   "54771f48-3294-44a8-9e7c-c54a945a62bc",
   "c8dab417-98fd-4ddc-877d-4885000266c7",
   "23777dcc-51a5-412f-9d9b-c985d1e458fb",
   "f820f1ce-d40e-4703-a933-71e6c0542e96",
   "f77b6d17-911e-4bb0-abe5-68dc8a432a20",
   "87eb0fc5-9bbb-4c57-9f2f-f7c63d8cac59",
   "cd738a54-592b-4e8e-8689-c2195d1c0803",
   "000a92bd-c68e-463a-8e12-de06dccd27fd",
   "251b6e91-c034-48c7-a6e8-3a38b36264a0",
   "e485c356-c770-4b5e-8acc-a8846165acad",
   "44b11971-6ae3-4f3b-b452-6a99bf8459a6",
   "ffe2452a-bf0d-4b25-9d5d-a1fe2a4c5b3b",
   "a770fdad-6217-44b5-acc0-aefd0f38a285",
   "922c1317-f01e-4615-be05-915a1946e75b",
   "c7b4c04b-0453-4a31-9460-602df159cee3",
   "69bfdec5-3fa7-4cb6-94fc-80e2220fa936",
   "5a80b860-5b3e-4c0f-aed8-f11b188af923",
   "f3bd6d67-d965-44fc-be43-0a517b245056",
   "fc073a3d-605d-4f24-8a2d-835a27231320",
   "6170f544-f666-484d-a7e2-4e435c5c2ebd",
   "1c167012-12dc-4f8e-a2b6-c3ea508fb111",
   "f0cba819-4d44-4f3d-a7c9-14da4a99c59b",
   "6a817f32-da0b-454c-b6a4-0c4831432e17",
   "cb4ac23b-c699-48d4-b08d-3082eee4fae1",
   "3de5f031-4d4a-483f-bbd1-9d2c5dd23f24",
   "f085131c-0de6-4a41-800b-6d8c1802586b",
   "d87a12e5-ce9b-486a-8a62-24572d02ec86",
   "d51f3dbd-003a-4352-9458-192b436539de",
   "789862ee-eac7-4567-b744-5fb6a7438930",
   "b28a1374-b255-4716-ae00-e96fa616a530",
   "79a05510-c69d-4f59-b6b6-c24dd15f7bd5",
   "5ef0f434-c718-431c-96eb-8660f5f3bf57",
   "6e3bc6ae-bf48-4372-83ed-cc6d878da3ba",
   "03e84de9-0667-4367-83b5-c08fdb820183",
   "8754d168-31e1-4f0e-94e7-616419cdd40d",
   "4d7169e4-2faa-4765-8910-501632d60fa1",
   "aa07733b-b834-40f4-a071-6c4b61496764",
   "66b3f4be-d708-4243-b595-b4092a1d2280",
   "29277738-da5f-459e-89e8-d56803bad2d9",
   "3880e6e3-db96-4cce-9b38-95ee40cd893e",
   "59aba01e-7859-408a-b3ba-cc49b2c01408",
   "ab4da428-53d2-4be8-b3f9-78829d02a559",
   "6e3290bf-07c7-4cd5-b3ca-3ff097cb5713",
   "1e0d252d-0881-42d6-9f1b-33ae25e496c3",
   "dcae4d6e-ca5b-4fb9-a6cf-a09eeb05e577",
   "cabd15f6-0bdd-4672-a51c-b95102a60037",
   "78228c75-4c0e-40f8-b35a-b9aa79c249d4",
   "83a71ec4-efcd-4389-a45e-fbb10ce14e7d",
   "b14a7313-6e1f-49fa-8e26-d653e8d377bd",
   "8089f79a-3122-45b7-a036-93604d2b0292",
   "28b67388-3b22-432d-a761-af1f722b6f5a",
   "065e4342-48d1-4e27-9cc2-23ad2e4abe3d"
  ]
 },
 "nbformat": 4,
 "nbformat_minor": 5
}
